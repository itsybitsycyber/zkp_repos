{
 "cells": [
  {
   "cell_type": "code",
   "execution_count": null,
   "metadata": {},
   "outputs": [],
   "source": [
    "# !pip install pydriller\n",
    "import pandas as pd\n",
    "import os\n",
    "from pathlib import Path\n",
    "import plotly.express as px"
   ]
  },
  {
   "cell_type": "markdown",
   "metadata": {},
   "source": [
    "TODO:\n",
    "\n",
    "1. Unpack arworks into their crates as tools\n",
    "2. Unpack starknet into its packages \n",
    "\n",
    "```\n",
    "{'arkwork',\n",
    " 'arkworks',\n",
    " 'artworks',\n",
    " 'bellman, halo2',\n",
    " 'nan',\n",
    " 'none',\n",
    " 'snarks', 🤷‍♂️\n",
    " 'starknet'}\n",
    "```"
   ]
  },
  {
   "cell_type": "code",
   "execution_count": null,
   "metadata": {},
   "outputs": [],
   "source": [
    "df = pd.read_csv('./zkp_repos.csv', sep=';')\n",
    "\n",
    "tools_mappings = {\n",
    "    'none.':'none',\n",
    "    '':'none',\n",
    "    'none..':'none',\n",
    "    'bellpepper':'bellman',\n",
    "    'bellperson':'bellman',\n",
    "    'aleo':'leo',\n",
    "    'aztec':'noir',\n",
    "     'dusk plonk': 'merlin',\n",
    "     'libstark': 'libsnark',\n",
    "     'miden': 'miden-vm',\n",
    "     'mina': 'snarky',\n",
    "     'nova': 'bellman, halo2',\n",
    "     'risc zero': 'risc0',\n",
    "     'snarksjs': \"snarkjs\",\n",
    "     \"zerosync\": \"cairo\",     \n",
    "     \"zokcrates\": \"zokrates\",\n",
    "    \n",
    "}"
   ]
  },
  {
   "cell_type": "code",
   "execution_count": null,
   "metadata": {},
   "outputs": [],
   "source": [
    "df_tools = df[df['Type'] == 'Tool']\n",
    "df_apps = df[df['Type'] == 'Application']"
   ]
  },
  {
   "cell_type": "code",
   "execution_count": null,
   "metadata": {},
   "outputs": [],
   "source": [
    "tools_used = [s.split(',') for s in list(set([str(t).lower() for t in df_apps['Tool'].unique()]))]\n",
    "# flatten\n",
    "tools_used = [item for sublist in tools_used for item in sublist]\n",
    "# remove whitepace\n",
    "tools_used = [t.strip() for t in tools_used]\n",
    "tools_used = list(set(tools_used))\n",
    "\n",
    "tools_used\n",
    "\n",
    "# map entries in tools_used to tools_mappings\n",
    "tools_used = [tools_mappings[t] if t in tools_mappings else t for t in tools_used]\n",
    "tools_used = list(set(tools_used))\n",
    "tools_used"
   ]
  },
  {
   "cell_type": "code",
   "execution_count": null,
   "metadata": {},
   "outputs": [],
   "source": [
    "tools = df_tools['Name'].str.lower().unique()\n",
    "tools"
   ]
  },
  {
   "cell_type": "code",
   "execution_count": null,
   "metadata": {},
   "outputs": [],
   "source": [
    "set(tools_used) - set(tools)"
   ]
  },
  {
   "cell_type": "code",
   "execution_count": null,
   "metadata": {},
   "outputs": [],
   "source": [
    "df_apps[df_apps['Tool'].str.lower() == 'snarks']"
   ]
  },
  {
   "cell_type": "code",
   "execution_count": null,
   "metadata": {},
   "outputs": [],
   "source": [
    "def clone_repo(url, dst_dir='./repos'):\n",
    "    repo_name = url.split('/')[-1].split('.')[0]\n",
    "    dst_dir = Path(dst_dir) / repo_name\n",
    "    if not dst_dir.exists():\n",
    "        dst_dir.mkdir(parents=True, exist_ok=True)\n",
    "    \n",
    "    os.system(f'git clone {url} {dst_dir}')"
   ]
  },
  {
   "cell_type": "code",
   "execution_count": null,
   "metadata": {},
   "outputs": [],
   "source": [
    "df_tools['URL'].apply(clone_repo)"
   ]
  },
  {
   "cell_type": "code",
   "execution_count": null,
   "metadata": {},
   "outputs": [],
   "source": [
    "from pydriller import Repository\n",
    "repo = Repository(\"./repos/bellman/\")"
   ]
  },
  {
   "cell_type": "code",
   "execution_count": null,
   "metadata": {},
   "outputs": [],
   "source": [
    "# hash (str): hash of the commit\n",
    "# msg (str): commit message\n",
    "# author (Developer): commit author (name, email)\n",
    "# committer (Developer): commit committer (name, email)\n",
    "# author_date (datetime): authored date\n",
    "# author_timezone (int): author timezone (expressed in seconds from epoch)\n",
    "# committer_date (datetime): commit date\n",
    "# committer_timezone (int): commit timezone (expressed in seconds from epoch)\n",
    "# branches (List[str]): List of branches that contain this commit\n",
    "# in_main_branch (Bool): True if the commit is in the main branch\n",
    "# merge (Bool): True if the commit is a merge commit\n",
    "# modified_files (List[ModifiedFile]): list of modified files in the commit (see ModifiedFile)\n",
    "# parents (List[str]): list of the commit parents\n",
    "# project_name (str): project name\n",
    "# project_path (str): project path\n",
    "# deletions (int): number of deleted lines in the commit (as shown from –shortstat).\n",
    "# insertions (int): number of added lines in the commit (as shown from –shortstat).\n",
    "# lines (int): total number of added + deleted lines in the commit (as shown from –shortstat).\n",
    "# files (int): number of files changed in the commit (as shown from –shortstat).\n",
    "# dmm_unit_size (float): DMM metric value for the unit size property.\n",
    "# dmm_unit_complexity (float): DMM metric value for the unit complexity property.\n",
    "# dmm_unit_interfacing (float): DMM metric value for the unit interfacing property.\n",
    "commits = []\n",
    "for commit in repo.traverse_commits():\n",
    "    c = {\n",
    "        \"hash\": commit.hash,\n",
    "        \"msg\": commit.msg,\n",
    "        \"author\": commit.author.name,\n",
    "        \"author_date\": commit.author_date,\n",
    "        \"committer_date\": commit.committer_date,\n",
    "        \"branches\": commit.branches,\n",
    "        \"in_main_branch\": commit.in_main_branch,\n",
    "        \"merge\": commit.merge,\n",
    "        \"modified_files\": commit.modified_files,\n",
    "        \"parents\": commit.parents,\n",
    "        \"project_name\": commit.project_name,\n",
    "        \"project_path\": commit.project_path,\n",
    "        \"deletions\": commit.deletions,\n",
    "        \"insertions\": commit.insertions,\n",
    "        \"lines\": commit.lines,\n",
    "        \"files\": commit.files,\n",
    "        \"dmm_unit_size\": commit.dmm_unit_size,\n",
    "        \"dmm_unit_complexity\": commit.dmm_unit_complexity,\n",
    "        \"dmm_unit_interfacing\": commit.dmm_unit_interfacing,\n",
    "    }\n",
    "    commits.append(c)"
   ]
  },
  {
   "cell_type": "code",
   "execution_count": null,
   "metadata": {},
   "outputs": [],
   "source": [
    "df_commits = pd.DataFrame(commits)\n",
    "df_commits.head(2).T"
   ]
  },
  {
   "cell_type": "code",
   "execution_count": null,
   "metadata": {},
   "outputs": [],
   "source": [
    "df_commits['author'].unique()"
   ]
  },
  {
   "cell_type": "code",
   "execution_count": null,
   "metadata": {},
   "outputs": [],
   "source": [
    "df_commits['author'].value_counts()"
   ]
  },
  {
   "cell_type": "code",
   "execution_count": null,
   "metadata": {},
   "outputs": [],
   "source": [
    "df_commits['len_msg'] = df_commits['msg'].apply(lambda x: len(x))"
   ]
  },
  {
   "cell_type": "code",
   "execution_count": null,
   "metadata": {},
   "outputs": [],
   "source": [
    "df_commits['branches'].value_counts()"
   ]
  },
  {
   "cell_type": "code",
   "execution_count": null,
   "metadata": {},
   "outputs": [],
   "source": [
    "px.scatter(\n",
    "    df_commits, x=\"author_date\", y=\"len_msg\", color=\"author\", template=\"plotly_dark\"\n",
    ")"
   ]
  },
  {
   "cell_type": "code",
   "execution_count": null,
   "metadata": {},
   "outputs": [],
   "source": [
    "px.violin(df_commits, y='len_msg', color='author', box=True, points='all', template='plotly_dark')"
   ]
  },
  {
   "cell_type": "code",
   "execution_count": null,
   "metadata": {},
   "outputs": [],
   "source": [
    "px.line(\n",
    "    df_commits, x=\"author_date\", y=\"insertions\", color=\"author\", template=\"plotly_dark\"\n",
    ").update_traces(mode=\"markers+lines\")"
   ]
  },
  {
   "cell_type": "code",
   "execution_count": null,
   "metadata": {},
   "outputs": [],
   "source": [
    "df_commits['author_date'] = pd.to_datetime(df_commits['author_date'], utc=True)\n",
    "\n",
    "df_commits_per_month = df_commits.set_index('author_date').groupby(pd.Grouper(freq='M')).count().reset_index()\n",
    "px.line(df_commits_per_month, x='author_date', y='hash', template='plotly_dark')"
   ]
  },
  {
   "cell_type": "code",
   "execution_count": null,
   "metadata": {},
   "outputs": [],
   "source": [
    "df_commits['DOW'] = df_commits['author_date'].dt.day_name()\n",
    "df_commits['hour_of_day'] = df_commits['author_date'].dt.hour\n",
    "df_commit_times = df_commits.groupby(['DOW', 'hour_of_day']).count()['hash'].sort_values(ascending=False).reset_index()\n",
    "px.density_heatmap(df_commit_times, y='hour_of_day', x='DOW', z='hash', template='plotly_dark', category_orders={'DOW': ['Monday', 'Tuesday', 'Wednesday', 'Thursday', 'Friday', 'Saturday', 'Sunday']})"
   ]
  },
  {
   "cell_type": "code",
   "execution_count": null,
   "metadata": {},
   "outputs": [],
   "source": []
  }
 ],
 "metadata": {
  "kernelspec": {
   "display_name": "Python 3",
   "language": "python",
   "name": "python3"
  },
  "language_info": {
   "codemirror_mode": {
    "name": "ipython",
    "version": 3
   },
   "file_extension": ".py",
   "mimetype": "text/x-python",
   "name": "python",
   "nbconvert_exporter": "python",
   "pygments_lexer": "ipython3",
   "version": "3.9.13"
  },
  "orig_nbformat": 4
 },
 "nbformat": 4,
 "nbformat_minor": 2
}
