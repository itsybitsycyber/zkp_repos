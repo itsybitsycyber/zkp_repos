{
 "cells": [
  {
   "cell_type": "code",
   "execution_count": null,
   "metadata": {},
   "outputs": [],
   "source": [
    "import pandas as pd\n",
    "import plotly.express as px"
   ]
  },
  {
   "cell_type": "code",
   "execution_count": null,
   "metadata": {},
   "outputs": [],
   "source": [
    "df = pd.read_csv('zkp_repos.csv', sep=';')\n",
    "commit_df = pd.read_csv('tool_commits.csv')\n",
    "contributors_df = pd.read_csv('contributor_data.csv')"
   ]
  },
  {
   "cell_type": "markdown",
   "metadata": {},
   "source": [
    "#### Preprocess Data"
   ]
  },
  {
   "cell_type": "code",
   "execution_count": null,
   "metadata": {},
   "outputs": [],
   "source": [
    "df = df.rename({\"Tool Resources (Twitter, Discord, Website etc.)\": \"Tool Resources\"}, axis='columns')\n",
    "\n",
    "df_applications = df[df['Type'] == 'Application']\n",
    "\n",
    "df_applications['Tool'] = df_applications['Tool'].str.split(', ')\n",
    "df_applications['Tool'] = df_applications['Tool'].apply(lambda x: [item for item in x if item != ''])\n"
   ]
  },
  {
   "cell_type": "markdown",
   "metadata": {},
   "source": [
    "#### Relationship Between Tool Use and External Resources Available for Tool"
   ]
  },
  {
   "cell_type": "code",
   "execution_count": null,
   "metadata": {},
   "outputs": [],
   "source": [
    "df_applications = df[df['Type'] == 'Application']\n",
    "\n",
    "df_applications['Tool'] = df_applications['Tool'].str.split(', ')\n",
    "df_applications['Tool'] = df_applications['Tool'].apply(lambda x: [item for item in x if item != ''])\n",
    "\n",
    "expanded_df = df_applications.explode('Tool')\n",
    "\n",
    "tool_counts = expanded_df['Tool'].value_counts().reset_index()\n",
    "tool_counts.columns = ['Tool', 'Frequency']\n",
    "\n",
    "tool_resources = df[df['Type'] == 'Tool']\n",
    "tool_resources['Name'] = tool_resources['Name'].str.lower()\n",
    "tool_resources = tool_resources.groupby('Name')['Tool Resources'].max().reset_index()\n",
    "tool_resources.columns = ['Tool', 'Tool Resources']\n",
    "tool_data = pd.merge(tool_counts, tool_resources, on='Tool', how='left')\n",
    "\n",
    "\n",
    "fig = px.bar(tool_data, x='Tool', y='Frequency',\n",
    "             title='Relationship Between Tool Frequency and External Resources',\n",
    "             labels={'Frequency': 'Tool Frequency', 'Tool Resources': 'Tool Resources Available'},\n",
    "             template=\"plotly_dark\",\n",
    "             color='Tool Resources',\n",
    "             text='Frequency',\n",
    "             category_orders={\"Tool\": tool_data[\"Tool\"].tolist()}\n",
    "             )\n",
    "\n",
    "fig.update_layout(legend_title_text='Tool Resources')\n",
    "fig.show()\n"
   ]
  },
  {
   "cell_type": "markdown",
   "metadata": {},
   "source": [
    "#### All Commits Over Time for Various Repositories"
   ]
  },
  {
   "cell_type": "code",
   "execution_count": null,
   "metadata": {},
   "outputs": [],
   "source": [
    "all_commits_df = commit_df.sort_values(by='CommitterDate')\n",
    "all_commits_df['UniqueID'] = all_commits_df['Name'] + ' (' + all_commits_df['Owner'] + ')'\n",
    "\n",
    "fig = px.scatter(all_commits_df, x='CommitterDate', y='UniqueID', color='UniqueID',\n",
    "                 title='All Commits Over Time for Various Repositories',\n",
    "                 labels={'Date': 'Commit Date', 'Name': 'Repository'},\n",
    "                 template=\"plotly_dark\")\n",
    "\n",
    "fig.update_xaxes(title_text='Date')\n",
    "fig.update_yaxes(title_text='Repository')\n",
    "fig.update_layout(legend_title_text='Repository')\n",
    "fig.show()\n"
   ]
  },
  {
   "cell_type": "markdown",
   "metadata": {},
   "source": [
    "#### Committer Count per Tool Repository"
   ]
  },
  {
   "cell_type": "code",
   "execution_count": null,
   "metadata": {},
   "outputs": [],
   "source": [
    "committers_df = commit_df\n",
    "committers_df['UniqueID'] = commit_df['Name'] + '/' + commit_df['Owner']\n",
    "committers_df['Committer'] = committers_df['Committer'].str.lower()\n",
    "author_counts = committers_df.groupby('UniqueID')['Committer'].nunique().reset_index()\n",
    "author_counts.rename(columns={'Committer': 'CommitterCount'}, inplace=True)\n",
    "author_counts.sort_values(by=['CommitterCount'], ascending=False, inplace=True)\n",
    "\n",
    "fig = px.bar(author_counts, x='UniqueID', y='CommitterCount', \n",
    "             title='Committer Count per Repository',\n",
    "             template=\"plotly_dark\",\n",
    "             text='CommitterCount',\n",
    "             labels={'CommitterCount': 'No. of Committers', 'UniqueID': 'Repository'},)\n",
    "fig.show()\n"
   ]
  },
  {
   "cell_type": "markdown",
   "metadata": {},
   "source": [
    "#### Contributor Count per Tool Repository"
   ]
  },
  {
   "cell_type": "code",
   "execution_count": null,
   "metadata": {},
   "outputs": [],
   "source": [
    "contributors_df['UniqueID'] = contributors_df['RepositoryName'] + '/' + contributors_df['Owner']\n",
    "contributors_df = contributors_df[contributors_df['UniqueID'].isin(committers_df['UniqueID'])]\n",
    "contributors_df['Contributor'] = contributors_df['Contributor'].str.lower()\n",
    "contributor_counts = contributors_df.groupby('UniqueID')['Contributor'].nunique().reset_index()\n",
    "contributor_counts.rename(columns={'Contributor': 'ContributorCount'}, inplace=True)\n",
    "contributor_counts.sort_values(by=['ContributorCount'], ascending=False, inplace=True)\n",
    "\n",
    "\n",
    "fig = px.bar(contributor_counts, x='UniqueID', y='ContributorCount', \n",
    "             title='Contributor Count per Repository',\n",
    "             template=\"plotly_dark\",\n",
    "             text='ContributorCount',\n",
    "             labels={'ContributorCount': 'No. of Contributors', 'UniqueID': 'Repository'}\n",
    "             )\n",
    "fig.show()\n"
   ]
  }
 ],
 "metadata": {
  "kernelspec": {
   "display_name": "Python 3",
   "language": "python",
   "name": "python3"
  },
  "language_info": {
   "codemirror_mode": {
    "name": "ipython",
    "version": 3
   },
   "file_extension": ".py",
   "mimetype": "text/x-python",
   "name": "python",
   "nbconvert_exporter": "python",
   "pygments_lexer": "ipython3",
   "version": "3.11.4"
  },
  "orig_nbformat": 4
 },
 "nbformat": 4,
 "nbformat_minor": 2
}
