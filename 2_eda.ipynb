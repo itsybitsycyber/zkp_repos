{
 "cells": [
  {
   "cell_type": "code",
   "execution_count": null,
   "metadata": {},
   "outputs": [],
   "source": [
    "import pandas as pd\n",
    "import plotly.express as px"
   ]
  },
  {
   "cell_type": "code",
   "execution_count": null,
   "metadata": {},
   "outputs": [],
   "source": [
    "df = pd.read_csv('zkp_repos.csv', sep=';')\n",
    "commit_df = pd.read_csv('tool_commits.csv')\n",
    "contributors_df = pd.read_csv('contributor_data.csv')"
   ]
  },
  {
   "cell_type": "markdown",
   "metadata": {},
   "source": [
    "#### Preprocess Data"
   ]
  },
  {
   "cell_type": "code",
   "execution_count": null,
   "metadata": {},
   "outputs": [],
   "source": [
    "df = df.rename({\"Tool Resources (Twitter, Discord, Website etc.)\": \"Tool Resources\"}, axis='columns')\n",
    "df['UniqueID'] = df['URL'].apply(lambda x: '/'.join(x.split('/')[-2:][::-1]).lower())\n",
    "\n",
    "commit_df['UniqueID'] = commit_df['URL'].apply(lambda x: '/'.join(x.split('/')[-2:][::-1]).lower())\n",
    "\n",
    "df_applications = df[df['Type'] == 'Application']\n",
    "\n",
    "df_applications['Tool'] = df_applications['Tool'].str.split(', ')\n",
    "df_applications['Tool'] = df_applications['Tool'].apply(lambda x: [item for item in x if item != ''])\n"
   ]
  },
  {
   "cell_type": "markdown",
   "metadata": {},
   "source": [
    "#### Relationship Between Tool Use and External Resources Available for Tool"
   ]
  },
  {
   "cell_type": "code",
   "execution_count": null,
   "metadata": {},
   "outputs": [],
   "source": [
    "df_applications = df[df['Type'] == 'Application']\n",
    "\n",
    "df_applications['Tool'] = df_applications['Tool'].str.split(', ')\n",
    "df_applications['Tool'] = df_applications['Tool'].apply(lambda x: [item for item in x if item != ''])\n",
    "\n",
    "expanded_df = df_applications.explode('Tool')\n",
    "\n",
    "tool_counts = expanded_df['Tool'].value_counts().reset_index()\n",
    "tool_counts.columns = ['Tool', 'Frequency']\n",
    "\n",
    "tool_resources = df[df['Type'] == 'Tool']\n",
    "tool_resources['Name'] = tool_resources['Name'].str.lower()\n",
    "tool_resources = tool_resources.groupby('Name')['Tool Resources'].max().reset_index()\n",
    "tool_resources.columns = ['Tool', 'Tool Resources']\n",
    "tool_data = pd.merge(tool_counts, tool_resources, on='Tool', how='left')\n",
    "\n",
    "\n",
    "fig = px.bar(tool_data, x='Tool', y='Frequency',\n",
    "             title='Relationship Between Tool Frequency and External Resources',\n",
    "             labels={'Frequency': 'Tool Frequency', 'Tool Resources': 'Tool Resources Available'},\n",
    "             template=\"plotly_dark\",\n",
    "             color='Tool Resources',\n",
    "             text='Frequency',\n",
    "             category_orders={\"Tool\": tool_data[\"Tool\"].tolist()}\n",
    "             )\n",
    "\n",
    "fig.update_layout(legend_title_text='Tool Resources')\n",
    "fig.show()\n"
   ]
  },
  {
   "cell_type": "markdown",
   "metadata": {},
   "source": [
    "#### All Commits Over Time for Various Repositories"
   ]
  },
  {
   "cell_type": "code",
   "execution_count": null,
   "metadata": {},
   "outputs": [],
   "source": [
    "all_commits_df = commit_df.sort_values(by='CommitterDate')\n",
    "all_commits_df['UniqueID'] =( all_commits_df['Name'] + '/' + all_commits_df['Owner']).str.lower()\n",
    "all_commits_df['CommitterDate'] = pd.to_datetime(all_commits_df['CommitterDate'])\n",
    "fig = px.scatter(all_commits_df, x='CommitterDate', y='UniqueID', color='UniqueID',\n",
    "                 title='All Commits Over Time for Various Repositories',\n",
    "                 labels={'Date': 'Commit Date', 'Name': 'Repository'},\n",
    "                 template=\"plotly_dark\")\n",
    "\n",
    "fig.update_xaxes(title_text='Date')\n",
    "fig.update_yaxes(title_text='Repository')\n",
    "fig.update_layout(legend_title_text='Repository', height=1000)\n",
    "fig.show()\n"
   ]
  },
  {
   "cell_type": "markdown",
   "metadata": {},
   "source": [
    "#### Committer Count per Tool Repository"
   ]
  },
  {
   "cell_type": "code",
   "execution_count": null,
   "metadata": {},
   "outputs": [],
   "source": [
    "committers_df = commit_df\n",
    "committers_df['UniqueID'] = commit_df['Name'] + '/' + commit_df['Owner']\n",
    "committers_df['Committer'] = committers_df['Committer'].str.lower()\n",
    "author_counts = committers_df.groupby('UniqueID')['Committer'].nunique().reset_index()\n",
    "author_counts.rename(columns={'Committer': 'CommitterCount'}, inplace=True)\n",
    "author_counts.sort_values(by=['CommitterCount'], ascending=False, inplace=True)\n",
    "\n",
    "fig = px.bar(author_counts, x='UniqueID', y='CommitterCount', \n",
    "             title='Committer Count per Repository',\n",
    "             template=\"plotly_dark\",\n",
    "             text='CommitterCount',\n",
    "             labels={'CommitterCount': 'No. of Committers', 'UniqueID': 'Repository'},)\n",
    "fig.show()\n"
   ]
  },
  {
   "cell_type": "markdown",
   "metadata": {},
   "source": [
    "#### Contributor Count per Tool Repository"
   ]
  },
  {
   "cell_type": "code",
   "execution_count": null,
   "metadata": {},
   "outputs": [],
   "source": [
    "contributors_df['UniqueID'] = contributors_df['RepositoryName'] + '/' + contributors_df['Owner']\n",
    "contributors_df = contributors_df[contributors_df['UniqueID'].isin(committers_df['UniqueID'])]\n",
    "contributors_df['Contributor'] = contributors_df['Contributor'].str.lower()\n",
    "contributor_counts = contributors_df.groupby('UniqueID')['Contributor'].nunique().reset_index()\n",
    "contributor_counts.rename(columns={'Contributor': 'ContributorCount'}, inplace=True)\n",
    "contributor_counts.sort_values(by=['ContributorCount'], ascending=False, inplace=True)\n",
    "\n",
    "\n",
    "fig = px.bar(contributor_counts, x='UniqueID', y='ContributorCount', \n",
    "             title='Contributor Count per Repository',\n",
    "             template=\"plotly_dark\",\n",
    "             text='ContributorCount',\n",
    "             labels={'ContributorCount': 'No. of Contributors', 'UniqueID': 'Repository'}\n",
    "             )\n",
    "fig.show()\n"
   ]
  },
  {
   "cell_type": "code",
   "execution_count": null,
   "metadata": {},
   "outputs": [],
   "source": [
    "author_counts"
   ]
  },
  {
   "cell_type": "code",
   "execution_count": null,
   "metadata": {},
   "outputs": [],
   "source": [
    "df_applications = df[df['Type'] == 'Application']\n",
    "\n",
    "df_applications['Tool'] = df_applications['Tool'].str.split(', ')\n",
    "df_applications['Tool'] = df_applications['Tool'].apply(lambda x: [item for item in x if item != ''])\n",
    "\n",
    "\n",
    "df_tools = df[df['Type'] == 'Tool']\n",
    "# tool_resources['Name'] = tool_resources['Name'].str.lower()\n",
    "df_tool_resources = df_tools.groupby(['Name', 'UniqueID'])['Tool Resources'].max().reset_index()\n",
    "df_tool_resources.columns = ['Name', 'UniqueID', 'Tool Resources']\n",
    "df_tool_resources"
   ]
  },
  {
   "cell_type": "code",
   "execution_count": null,
   "metadata": {},
   "outputs": [],
   "source": [
    "all_commits_df.sample(1).T"
   ]
  },
  {
   "cell_type": "code",
   "execution_count": null,
   "metadata": {},
   "outputs": [],
   "source": [
    "all_commits_df"
   ]
  },
  {
   "cell_type": "code",
   "execution_count": null,
   "metadata": {},
   "outputs": [],
   "source": [
    "df_tools_vs_commits = tool_data[['Tool', 'Frequency']].merge(df[['Name', 'UniqueID']], left_on='Tool', right_on='Name', how='left').merge(all_commits_df, on='UniqueID', how='left')"
   ]
  },
  {
   "cell_type": "code",
   "execution_count": null,
   "metadata": {},
   "outputs": [],
   "source": [
    "df_tools_vs_commits['Committer'].value_counts()"
   ]
  },
  {
   "cell_type": "code",
   "execution_count": null,
   "metadata": {},
   "outputs": [],
   "source": [
    "px.scatter(\n",
    "    df_tools_vs_commits.groupby([\"UniqueID\", \"Tool\", \"Frequency\"])\n",
    "    .agg({\"Committer\": \"nunique\"})\n",
    "    .reset_index()\n",
    "    .rename(columns={\"Committer\": \"# Of Commiters\", \"Frequency\": \"# Apps Used\"}),\n",
    "    x=\"# Of Commiters\",\n",
    "    y=\"# Apps Used\",\n",
    "    # color=\"Tool\",\n",
    "    size=\"# Of Commiters\",\n",
    "    template=\"plotly_dark\",\n",
    "    title=\"Relationship Between Number of Committers and Number of Apps Used\",\n",
    "    labels={\n",
    "        \"# Of Commiters\": \"Number of Committers\",\n",
    "        \"# Apps Used\": \"Number of Apps Used\",\n",
    "    },\n",
    "    hover_name=\"UniqueID\",\n",
    "    width=500,\n",
    "    height=500,\n",
    "    # ols\n",
    "    trendline=\"ols\",\n",
    ")"
   ]
  },
  {
   "cell_type": "code",
   "execution_count": null,
   "metadata": {},
   "outputs": [],
   "source": [
    "# ['Tool', 'Frequency', 'Name_x', 'UniqueID', 'Unnamed: 0', 'Name_y',\n",
    "#        'Owner', 'CommitHash', 'Message', 'Author', 'AuthorEmail', 'Committer',\n",
    "#        'CommitterEmail', 'AuthorDate', 'CommitterDate', 'AuthorTimeZone',\n",
    "#        'CommitterTimeZone', 'Branches', 'Main', 'Merge', 'ModificationCount',\n",
    "#        'AddedFiles', 'ModifiedFiles', 'DeletedFiles', 'RenamedFiles',\n",
    "#        'Parents', 'Deletions', 'Insertions', 'Lines', 'Files'],\n",
    "df_tools_vs_commits.columns"
   ]
  },
  {
   "cell_type": "code",
   "execution_count": null,
   "metadata": {},
   "outputs": [],
   "source": [
    "df_tools_vs_commits['Branches'].unique()"
   ]
  },
  {
   "cell_type": "code",
   "execution_count": null,
   "metadata": {},
   "outputs": [],
   "source": [
    "df"
   ]
  },
  {
   "cell_type": "code",
   "execution_count": null,
   "metadata": {},
   "outputs": [],
   "source": [
    "all_commits_df.sample(3).T"
   ]
  },
  {
   "cell_type": "code",
   "execution_count": null,
   "metadata": {},
   "outputs": [],
   "source": [
    "all_commits_df[\"CommitterDateMin\"] = all_commits_df[\"CommitterDate\"]\n",
    "all_commits_df[\"CommitterDateMax\"] = all_commits_df[\"CommitterDate\"]\n",
    "df_commit_features = (\n",
    "    all_commits_df.groupby(\"UniqueID\")\n",
    "    .agg(\n",
    "        {\n",
    "            \"CommitterDateMin\": \"min\",\n",
    "            \"CommitterDateMax\": \"max\",\n",
    "            \"CommitHash\": \"nunique\",\n",
    "            \"Committer\": \"nunique\",\n",
    "            \"Lines\": \"mean\",\n",
    "            \"Files\": \"mean\",\n",
    "            \"Deletions\": \"mean\",\n",
    "            \"Insertions\": \"mean\",\n",
    "        }\n",
    "    )\n",
    "    .reset_index()\n",
    "    .rename(\n",
    "        columns={\n",
    "            \"CommitHash\": \"CommitCount\",\n",
    "            \"Committer\": \"CommitterCount\",\n",
    "            \"Lines\": \"AvgLines\",\n",
    "            \"Files\": \"AvgFiles\",\n",
    "            \"Deletions\": \"AvgDeletions\",\n",
    "            \"Insertions\": \"AvgInsertions\",\n",
    "        }\n",
    "    )\n",
    ")\n",
    "df_commit_features['UniqueID'].nunique()"
   ]
  },
  {
   "cell_type": "code",
   "execution_count": null,
   "metadata": {},
   "outputs": [],
   "source": [
    "df['UniqueID'].nunique()    "
   ]
  },
  {
   "cell_type": "code",
   "execution_count": null,
   "metadata": {},
   "outputs": [],
   "source": [
    "df_git_features = df[\n",
    "    [\n",
    "        \"Name\",\n",
    "        \"UniqueID\",\n",
    "        \"Size\",\n",
    "        \"Language\",\n",
    "        \"Stars\",\n",
    "        \"Forks\",\n",
    "        \"Watchers\",\n",
    "        \"Issues\",\n",
    "        \"Type\",\n",
    "    ]\n",
    "]\n",
    "df_git_features[\"Name\"] = df_git_features[\"Name\"].str.lower()\n",
    "df_tools_features = (\n",
    "    df_git_features[df_git_features[\"Type\"] == \"Tool\"]\n",
    "    .merge(df_commit_features, on=\"UniqueID\", how=\"outer\")\n",
    "    .merge(\n",
    "        tool_counts.merge(\n",
    "            df[[\"Name\", \"UniqueID\"]], left_on=\"Tool\", right_on=\"Name\", how=\"left\"\n",
    "        )[[\"UniqueID\", \"Frequency\"]].rename(columns={\"Frequency\": \"AppCount\"}),\n",
    "        on=\"UniqueID\",\n",
    "        how=\"left\",\n",
    "    )\n",
    ")\n",
    "df_tools_features.sort_values(by=\"CommitterDateMin\", ascending=False)\n",
    "df_tools_features['LifetimeDays'] = (df_tools_features['CommitterDateMax'] - df_tools_features['CommitterDateMin']).apply(lambda x: x.days)\n",
    "# df_tools_features = pd.concat([df_tools_features, pd.get_dummies(df_tools_features['Language'])], axis=1)\n",
    "df_tools_features = df_tools_features.drop(['Name', 'CommitterDateMin', 'CommitterDateMax', 'Type'] , axis=1)\n",
    "# one hot encode Language\n",
    "df_tools_features.sample(2).T"
   ]
  },
  {
   "cell_type": "code",
   "execution_count": null,
   "metadata": {},
   "outputs": [],
   "source": [
    "px.violin(df_tools_features.melt(id_vars=['UniqueID'], value_vars=['Stars', 'Forks', 'Watchers', 'Issues', 'CommitCount', 'CommitterCount', 'AvgLines', 'AvgFiles', 'AvgDeletions', 'AvgInsertions', 'AppCount', 'LifetimeDays']),\n",
    "            x='variable',\n",
    "            y='value',\n",
    "            color='variable',\n",
    "            template=\"plotly_dark\",\n",
    "            title='Distribution of Git Features',\n",
    "            labels={'variable': 'Feature', 'value': 'Value'},\n",
    "            width=1000,\n",
    "            height=500\n",
    "            )"
   ]
  },
  {
   "cell_type": "code",
   "execution_count": null,
   "metadata": {},
   "outputs": [],
   "source": [
    "\n",
    "px.violin(df_tools_features, y=\"AvgLines\", x=\"Language\", box=True, points=\"all\")"
   ]
  },
  {
   "cell_type": "code",
   "execution_count": null,
   "metadata": {},
   "outputs": [],
   "source": [
    "low_cutoff = list(df_tools_features[\"AppCount\"].quantile([0.33, 0.66]).values)[0]\n",
    "med_cutoff = list(df_tools_features[\"AppCount\"].quantile([0.33, 0.66]).values)[1]\n",
    "low_cutoff, med_cutoff"
   ]
  },
  {
   "cell_type": "code",
   "execution_count": null,
   "metadata": {},
   "outputs": [],
   "source": [
    "# create low, medium and high frmo app count based on quantiles\n",
    "\n",
    "\n",
    "df_tools_features[\"UsageGroup\"] = df_tools_features[\"AppCount\"].apply(\n",
    "    lambda x: \"low\" if x <= low_cutoff else \"medium\" if x <= med_cutoff else \"high\"\n",
    ")\n",
    "df_tools_features.sort_values(by=\"AppCount\", ascending=False)"
   ]
  },
  {
   "cell_type": "code",
   "execution_count": null,
   "metadata": {},
   "outputs": [],
   "source": [
    "# ? zksync/matter-labs\t383037.0\tRust\t3376.0\t2305.0\t119.0\t55.0\t12193\t56\t1339.918724\t14.687608\t500.743787\t839.174936\t4\t1554\tlow"
   ]
  },
  {
   "cell_type": "code",
   "execution_count": null,
   "metadata": {},
   "outputs": [],
   "source": [
    "# cluster tools\n",
    "from sklearn.preprocessing import StandardScaler\n",
    "from sklearn.decomposition import PCA\n",
    "\n",
    "cols = [\n",
    "    # \"UniqueID\",\n",
    "\n",
    "    # Perception Features\n",
    "    # \"Size\",\n",
    "    \"Stars\",\n",
    "    \"Forks\",\n",
    "    \"Watchers\",\n",
    "    \"Issues\",\n",
    "\n",
    "    # Code Base Features\n",
    "    \"CommitCount\",\n",
    "    \"CommitterCount\",\n",
    "    \"AvgLines\",\n",
    "    \"AvgFiles\",\n",
    "    \"AvgDeletions\",\n",
    "    \"AvgInsertions\",\n",
    "    \"LifetimeDays\",\n",
    "\n",
    "    # \"AppCount\",\n",
    "    \n",
    "    # \"C++\",\n",
    "    # \"Go\",\n",
    "    # \"Haskell\",\n",
    "    # \"JavaScript\",\n",
    "    # \"OCaml\",\n",
    "    # \"Python\",\n",
    "    # \"Rust\",\n",
    "    # \"WebAssembly\",\n",
    "]\n",
    "\n",
    "nr_components = 2\n",
    "\n",
    "X = df_tools_features[cols]\n",
    "scaler = StandardScaler()\n",
    "scaler.fit(X)\n",
    "df_tools_features_scaled = scaler.transform(X)\n",
    "pca = PCA(n_components=nr_components)\n",
    "pca.fit(df_tools_features_scaled)\n",
    "df_tools_features_pca = pca.transform(df_tools_features_scaled)\n",
    "df_tools_features_pca = pd.DataFrame(df_tools_features_pca)\n",
    "# df_tools_features_pca.columns = [\"PCA1\", \"PCA2\"]\n",
    "df_tools_features_pca[\"UniqueID\"] = df_tools_features[\"UniqueID\"]\n",
    "df_tools_features_pca = df_tools_features_pca.merge(\n",
    "    df_tools_features, on=\"UniqueID\", how=\"left\"\n",
    ")\n",
    "components = pca.fit_transform(X)"
   ]
  },
  {
   "cell_type": "code",
   "execution_count": null,
   "metadata": {},
   "outputs": [],
   "source": [
    "pca.explained_variance_ratio_"
   ]
  },
  {
   "cell_type": "code",
   "execution_count": null,
   "metadata": {},
   "outputs": [],
   "source": [
    "px.scatter(\n",
    "    df_tools_features_pca,\n",
    "    x=0,\n",
    "    y=1,\n",
    "    color=\"UsageGroup\",\n",
    "    hover_name=\"UniqueID\",\n",
    "    template=\"plotly_dark\",\n",
    "    title=\"PCA of Tool Features\",\n",
    "    labels={\"0\": \"PCA1\", \"1\": \"PCA2\"},\n",
    "    width=500,\n",
    "    height=500,\n",
    ")"
   ]
  },
  {
   "cell_type": "code",
   "execution_count": null,
   "metadata": {},
   "outputs": [],
   "source": [
    "import numpy as np\n",
    "loadings = pca.components_.T * np.sqrt(pca.explained_variance_)\n",
    "\n",
    "loading_matrix = pd.DataFrame(loadings, columns=['PC1', 'PC2'], index=cols)\n",
    "loading_matrix"
   ]
  },
  {
   "cell_type": "code",
   "execution_count": null,
   "metadata": {},
   "outputs": [],
   "source": [
    "\n",
    "fig = px.scatter_matrix(\n",
    " components,\n",
    "    labels=df_tools_features_pca['UniqueID'],\n",
    "    dimensions=range(nr_components),\n",
    "    color=df_tools_features_pca[\"Language\"],\n",
    "    height=1000,\n",
    "    template=\"plotly_dark\",\n",
    "    width=1000,\n",
    ")\n",
    "fig.update_traces(diagonal_visible=False)\n",
    "fig.show()"
   ]
  },
  {
   "cell_type": "code",
   "execution_count": null,
   "metadata": {},
   "outputs": [],
   "source": [
    "px.scatter(df_tools_features,\n",
    "           x='CommitCount',\n",
    "           y='CommitterCount',\n",
    "           color='Language',\n",
    "\n",
    "           template=\"plotly_dark\",\n",
    "           height=500,\n",
    "           width=500,\n",
    "           )"
   ]
  },
  {
   "cell_type": "code",
   "execution_count": null,
   "metadata": {},
   "outputs": [],
   "source": []
  }
 ],
 "metadata": {
  "kernelspec": {
   "display_name": "Python 3",
   "language": "python",
   "name": "python3"
  },
  "language_info": {
   "codemirror_mode": {
    "name": "ipython",
    "version": 3
   },
   "file_extension": ".py",
   "mimetype": "text/x-python",
   "name": "python",
   "nbconvert_exporter": "python",
   "pygments_lexer": "ipython3",
   "version": "3.11.4"
  },
  "orig_nbformat": 4
 },
 "nbformat": 4,
 "nbformat_minor": 2
}
