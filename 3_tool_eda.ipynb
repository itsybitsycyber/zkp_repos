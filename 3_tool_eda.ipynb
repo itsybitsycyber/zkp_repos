{
 "cells": [
  {
   "cell_type": "markdown",
   "metadata": {},
   "source": [
    "### Understanding what drives tool usage"
   ]
  },
  {
   "cell_type": "code",
   "execution_count": null,
   "metadata": {},
   "outputs": [],
   "source": [
    "import pandas as pd\n",
    "import plotly.express as px\n",
    "import numpy as np\n",
    "from datetime import datetime, timezone"
   ]
  },
  {
   "cell_type": "code",
   "execution_count": null,
   "metadata": {},
   "outputs": [],
   "source": [
    "zkp_repos = pd.read_csv('zkp_repos.csv')\n",
    "tool_commits = pd.read_csv('tool_commits.csv')\n",
    "tool_issues = pd.read_csv('tool_issues.csv')\n",
    "repo_contributors = pd.read_csv('repo_contributors.csv')\n",
    "contributor_data = pd.read_csv('contributor_data.csv')\n",
    "branches_data = pd.read_csv('branches_data.csv')"
   ]
  },
  {
   "cell_type": "markdown",
   "metadata": {},
   "source": [
    "##### Get AppCount"
   ]
  },
  {
   "cell_type": "code",
   "execution_count": null,
   "metadata": {},
   "outputs": [],
   "source": [
    "\n",
    "zkp_repos.loc[zkp_repos['Type'] == 'Application', 'Tool'] = zkp_repos['Tool'].str.split(', ')\n",
    "zkp_repos.loc[zkp_repos['Type'] == 'Application', 'Tool'] = zkp_repos.loc[zkp_repos['Type'] == 'Application', 'Tool'].apply(lambda x: [item for item in x if item != ''])\n",
    "zkp_repos_exploded = zkp_repos.explode('Tool')\n",
    "zkp_repos_exploded.reset_index(drop=True, inplace=True)"
   ]
  },
  {
   "cell_type": "code",
   "execution_count": null,
   "metadata": {},
   "outputs": [],
   "source": [
    "tool_counts = zkp_repos_exploded['Tool'].value_counts().reset_index()\n",
    "\n",
    "tool_counts.columns = ['Tool', 'AppCount']\n",
    "tool_counts = tool_counts.merge(zkp_repos[zkp_repos['Type'] == 'Tool'], left_on='Tool', right_on='Name', how='left')[['UniqueID', 'AppCount']]\n",
    "tool_counts"
   ]
  },
  {
   "cell_type": "markdown",
   "metadata": {},
   "source": [
    "#### App Count & Issue Resolution"
   ]
  },
  {
   "cell_type": "code",
   "execution_count": null,
   "metadata": {},
   "outputs": [],
   "source": [
    "\n",
    "issue_counts = tool_issues.groupby(['UniqueID', 'State']).size().unstack(fill_value=0)\n",
    "issue_counts.reset_index(inplace=True)\n",
    "issue_counts.columns = ['UniqueID', 'Closed', 'Open']\n",
    "issue_counts['IssueResolutionRate']  = (issue_counts['Closed']) / (issue_counts['Closed'] + issue_counts['Open']) \n",
    "issue_counts.sort_values('IssueResolutionRate', ascending=False, inplace=True)\n",
    "\n",
    "merged_tools_issues =  issue_counts[['UniqueID', 'IssueResolutionRate' ]].merge(tool_counts, left_on='UniqueID', right_on='UniqueID', how='outer').sort_values('AppCount')\n",
    "\n",
    "fig = px.scatter(merged_tools_issues, x='IssueResolutionRate', y='AppCount', \n",
    "                color='UniqueID',\n",
    "                template=\"plotly_dark\",\n",
    "                title='Application Usage and Issue Resolution Rate')\n",
    "\n",
    "fig.show()"
   ]
  },
  {
   "cell_type": "markdown",
   "metadata": {},
   "source": [
    "#### App Count & Issues Opened per Month"
   ]
  },
  {
   "cell_type": "code",
   "execution_count": null,
   "metadata": {},
   "outputs": [],
   "source": [
    "monthly_opened_issues = tool_issues\n",
    "\n",
    "monthly_opened_issues['CreatedAt'] = pd.to_datetime(monthly_opened_issues['CreatedAt'])\n",
    "monthly_opened_issues['CreatedYearMonth'] = monthly_opened_issues['CreatedAt'].dt.to_period('M')\n",
    "monthly_opened_issues = monthly_opened_issues[['UniqueID', 'CreatedYearMonth']].rename(columns={'CreatedYearMonth': 'YearMonth', 'UniqueID': 'UniqueID'})\n",
    "monthly_opened_issues = monthly_opened_issues.groupby(['UniqueID', 'YearMonth']).size().reset_index(name='OpenedCount')\n",
    "monthly_opened_issues = monthly_opened_issues.groupby('UniqueID')['OpenedCount'].mean().reset_index(name='AverageOpenedPerMonth')\n",
    "monthly_opened_issues = monthly_opened_issues.merge(tool_counts, left_on='UniqueID', right_on='UniqueID', how='left')\n",
    "\n",
    "fig = px.scatter(monthly_opened_issues, x='AverageOpenedPerMonth', y='AppCount', \n",
    "                color='UniqueID',\n",
    "                template=\"plotly_dark\",\n",
    "                title='Application Usage and Issues Opened per Month')\n",
    "\n",
    "fig.show()"
   ]
  },
  {
   "cell_type": "code",
   "execution_count": null,
   "metadata": {},
   "outputs": [],
   "source": [
    "monthly_closed_issues = tool_issues\n",
    "\n",
    "monthly_closed_issues['CreatedAt'] = pd.to_datetime(monthly_closed_issues['CreatedAt'])\n",
    "monthly_closed_issues['ClosedYearMonth'] = monthly_closed_issues['CreatedAt'].dt.to_period('M')\n",
    "monthly_closed_issues = monthly_closed_issues[['UniqueID', 'ClosedYearMonth']].rename(columns={'ClosedYearMonth': 'YearMonth', 'UniqueID': 'UniqueID'})\n",
    "monthly_closed_issues = monthly_closed_issues.groupby(['UniqueID', 'YearMonth']).size().reset_index(name='ClosedCount')\n",
    "monthly_closed_issues = monthly_closed_issues.groupby('UniqueID')['ClosedCount'].mean().reset_index(name='AverageClosedPerMonth')\n",
    "monthly_closed_issues = monthly_closed_issues.merge(tool_counts, left_on='UniqueID', right_on='UniqueID', how='left')\n",
    "\n",
    "fig = px.scatter(monthly_closed_issues, x='AverageClosedPerMonth', y='AppCount', \n",
    "                color='UniqueID',\n",
    "                template=\"plotly_dark\",\n",
    "                title='Application Usage and Issues Closed per Month')\n",
    "\n",
    "fig.show()"
   ]
  },
  {
   "cell_type": "markdown",
   "metadata": {},
   "source": [
    "#### App Count & Language"
   ]
  },
  {
   "cell_type": "code",
   "execution_count": null,
   "metadata": {},
   "outputs": [],
   "source": [
    "language_tool_counts = tool_counts.merge(zkp_repos[zkp_repos['Type'] == 'Tool'], left_on='UniqueID', right_on='UniqueID', how='right')[['UniqueID', 'AppCount', 'Language']]\n",
    "language_tool_counts\n",
    "\n",
    "fig = px.scatter(language_tool_counts, x='UniqueID', y='AppCount', \n",
    "                color='Language',\n",
    "                template=\"plotly_dark\",\n",
    "                title='Application Usage and Issue Resolution Rate')\n",
    "\n",
    "fig.show()"
   ]
  },
  {
   "cell_type": "markdown",
   "metadata": {},
   "source": [
    "#### App Count & Contributors"
   ]
  },
  {
   "cell_type": "code",
   "execution_count": null,
   "metadata": {},
   "outputs": [],
   "source": [
    "repo_contributors = repo_contributors[repo_contributors['UniqueID'].isin(tool_counts['UniqueID'])]\n",
    "contributor_counts = repo_contributors.groupby('UniqueID')['Contributor'].nunique().reset_index()\n",
    "contributor_counts.rename(columns={'Contributor': 'ContributorCount'}, inplace=True)\n",
    "contributor_counts = contributor_counts.merge(tool_counts, left_on='UniqueID', right_on='UniqueID')\n",
    "contributor_counts.sort_values(by=['ContributorCount'], ascending=False, inplace=True)\n",
    "\n",
    "fig = px.scatter(contributor_counts, x='ContributorCount', y='AppCount', \n",
    "             title='Application Usage and Contributor Count',\n",
    "             template=\"plotly_dark\",\n",
    "             color='UniqueID',\n",
    "             labels={'ContributorCount': 'No. of Contributors', 'UniqueID': 'Repository'}\n",
    "             )\n",
    "fig.show()"
   ]
  },
  {
   "cell_type": "markdown",
   "metadata": {},
   "source": [
    "#### App Count & Tool Age"
   ]
  },
  {
   "cell_type": "code",
   "execution_count": null,
   "metadata": {},
   "outputs": [],
   "source": [
    "tool_age = zkp_repos[zkp_repos['Type'] == 'Tool']\n",
    "tool_age['Created'] = pd.to_datetime(tool_age['Created'])\n",
    "tool_age['Age'] = (datetime.now(timezone.utc) - tool_age['Created']).dt.days\n",
    "tool_age = tool_age[['UniqueID', 'Age']]\n",
    "tool_age = tool_age.merge(tool_counts, left_on='UniqueID', right_on='UniqueID', how='left')\n",
    "\n",
    "fig = px.scatter(tool_age, x='Age', y='AppCount', \n",
    "             title='Application Usage and Age',\n",
    "             template=\"plotly_dark\",\n",
    "             color='UniqueID',\n",
    "             labels={'UniqueID': 'Repository'}\n",
    "             )\n",
    "fig.show()"
   ]
  },
  {
   "cell_type": "markdown",
   "metadata": {},
   "source": [
    "#### App Count & Commit Count"
   ]
  },
  {
   "cell_type": "code",
   "execution_count": null,
   "metadata": {},
   "outputs": [],
   "source": [
    "total_commits = tool_commits\n",
    "total_commits = total_commits.groupby('UniqueID')['CommitHash'].nunique().reset_index()\n",
    "total_commits.columns = ['UniqueID', 'CommitCount']\n",
    "total_commits = total_commits.merge(tool_counts, left_on='UniqueID', right_on='UniqueID', how='right')\n",
    "\n",
    "fig = px.scatter(total_commits, x='CommitCount', y='AppCount', \n",
    "             title='Application Usage and CommitCount',\n",
    "             template=\"plotly_dark\",\n",
    "             color='UniqueID',\n",
    "             labels={'UniqueID': 'Repository'}\n",
    "             )\n",
    "fig.show()"
   ]
  },
  {
   "cell_type": "markdown",
   "metadata": {},
   "source": [
    "#### App Count & Commit Frequency"
   ]
  },
  {
   "cell_type": "code",
   "execution_count": null,
   "metadata": {},
   "outputs": [],
   "source": [
    "commit_frequency = tool_commits\n",
    "commit_frequency['CommitterDate']\n",
    "commit_frequency['CommitterDate'] = pd.to_datetime(commit_frequency['CommitterDate'], utc=True)\n",
    "commit_frequency['YearMonth'] = commit_frequency['CommitterDate'].dt.to_period('M')\n",
    "commit_frequency = commit_frequency.groupby(['UniqueID', 'YearMonth']).size().reset_index(name='CommitCount')\n",
    "commit_frequency = commit_frequency.groupby('UniqueID')['CommitCount'].mean().reset_index(name='AverageCommitFrequency')\n",
    "commit_frequency = commit_frequency.merge(tool_counts, left_on='UniqueID',  right_on='UniqueID', how='left')\n",
    "\n",
    "fig = px.scatter(commit_frequency, x='AverageCommitFrequency', y='AppCount', \n",
    "             title='Application Usage and CommitFrequency',\n",
    "             template=\"plotly_dark\",\n",
    "             color='UniqueID',\n",
    "             labels={'UniqueID': 'Repository'}\n",
    "             )\n",
    "fig.show()"
   ]
  },
  {
   "cell_type": "markdown",
   "metadata": {},
   "source": [
    "#### App Count & Branch Count"
   ]
  },
  {
   "cell_type": "code",
   "execution_count": null,
   "metadata": {},
   "outputs": [],
   "source": [
    "branch_count = branches_data.groupby('UniqueID').size().reset_index(name='BranchCount')\n",
    "branch_count = branch_count.merge(tool_counts, left_on='UniqueID',  right_on='UniqueID', how='left')\n",
    "\n",
    "fig = px.scatter(branch_count, x='BranchCount', y='AppCount', \n",
    "             title='Application Usage and BranchCount',\n",
    "             template=\"plotly_dark\",\n",
    "             color='UniqueID',\n",
    "             labels={'UniqueID': 'Repository'}\n",
    "             )\n",
    "fig.show()"
   ]
  },
  {
   "cell_type": "markdown",
   "metadata": {},
   "source": [
    "#### App Count & Active Committers"
   ]
  },
  {
   "cell_type": "code",
   "execution_count": null,
   "metadata": {},
   "outputs": [],
   "source": [
    "active_committers = tool_commits\n",
    "active_committers['CommitterDate'] = pd.to_datetime(active_committers['CommitterDate'], utc=True)\n",
    "active_committers = active_committers.loc[active_committers['CommitterDate'].dt.year == 2023]\n",
    "active_committers = active_committers.merge(zkp_repos.loc[zkp_repos['Type'] == 'Tool'], left_on='UniqueID',  right_on='UniqueID', how='right')\n",
    "active_committers = active_committers.groupby('UniqueID').size().reset_index(name='ActiveCommitters')\n",
    "active_committers = active_committers.merge(tool_counts, left_on='UniqueID',  right_on='UniqueID', how='left')\n",
    "\n",
    "fig = px.scatter(active_committers, x='ActiveCommitters', y='AppCount', \n",
    "             title='Application Usage and Active Committers',\n",
    "             template=\"plotly_dark\",\n",
    "             color='UniqueID',\n",
    "             labels={'UniqueID': 'Repository'}\n",
    "             )\n",
    "fig.show()"
   ]
  },
  {
   "cell_type": "markdown",
   "metadata": {},
   "source": [
    "#### App Count & New Committers"
   ]
  },
  {
   "cell_type": "code",
   "execution_count": null,
   "metadata": {},
   "outputs": [],
   "source": [
    "new_committers = tool_commits\n",
    "\n",
    "new_committers['CommitterDate'] = pd.to_datetime(new_committers['CommitterDate'])\n",
    "new_committers = new_committers[new_committers['CommitterDate'].dt.year == 2023]\n",
    "new_committers = new_committers.groupby(['UniqueID', 'Committer'])['CommitterDate'].min().reset_index()\n",
    "new_committers = new_committers[new_committers['CommitterDate'].dt.year == 2023]\n",
    "new_committers = new_committers.groupby('UniqueID')['Committer'].count().reset_index(name='NewCommitterCount')\n",
    "new_committers = new_committers.merge(tool_counts, left_on='UniqueID',  right_on='UniqueID', how='right').fillna(0)\n",
    "\n",
    "fig = px.scatter(new_committers, x='NewCommitterCount', y='AppCount', \n",
    "             title='Application Usage and New Committers',\n",
    "             template=\"plotly_dark\",\n",
    "             color='UniqueID',\n",
    "             labels={'UniqueID': 'Repository'}\n",
    "             )\n",
    "fig.show()"
   ]
  },
  {
   "cell_type": "markdown",
   "metadata": {},
   "source": [
    "#### App Count & Recent Commits"
   ]
  },
  {
   "cell_type": "code",
   "execution_count": null,
   "metadata": {},
   "outputs": [],
   "source": [
    "new_commits = tool_commits\n",
    "\n",
    "new_commits['CommitterDate'] = pd.to_datetime(new_commits['CommitterDate'], utc=True)\n",
    "new_commits = new_commits[new_commits['CommitterDate'].dt.year == 2023]\n",
    "new_commits = new_commits.groupby('UniqueID').size().reset_index(name='NewCommits')\n",
    "new_commits = new_commits.merge(tool_counts, left_on='UniqueID',  right_on='UniqueID', how='right').fillna(0)\n",
    "\n",
    "fig = px.scatter(new_commits, x='NewCommits', y='AppCount', \n",
    "             title='Application Usage and New Committs',\n",
    "             template=\"plotly_dark\",\n",
    "             color='UniqueID',\n",
    "             labels={'UniqueID': 'Repository'}\n",
    "             )\n",
    "fig.show()"
   ]
  }
 ],
 "metadata": {
  "kernelspec": {
   "display_name": "Python 3",
   "language": "python",
   "name": "python3"
  },
  "language_info": {
   "codemirror_mode": {
    "name": "ipython",
    "version": 3
   },
   "file_extension": ".py",
   "mimetype": "text/x-python",
   "name": "python",
   "nbconvert_exporter": "python",
   "pygments_lexer": "ipython3",
   "version": "3.11.4"
  },
  "orig_nbformat": 4
 },
 "nbformat": 4,
 "nbformat_minor": 2
}
