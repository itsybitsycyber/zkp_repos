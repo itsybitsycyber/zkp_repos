{
 "cells": [
  {
   "cell_type": "markdown",
   "metadata": {},
   "source": [
    "### Understanding what drives tool usage"
   ]
  },
  {
   "cell_type": "code",
   "execution_count": null,
   "metadata": {},
   "outputs": [],
   "source": [
    "import pandas as pd\n",
    "import plotly.express as px\n",
    "import numpy as np\n",
    "from datetime import datetime, timezone\n",
    "from sklearn.cluster import KMeans\n",
    "from sklearn.preprocessing import StandardScaler\n",
    "from sklearn.preprocessing import StandardScaler\n",
    "from sklearn.decomposition import PCA\n",
    "from ast import literal_eval\n"
   ]
  },
  {
   "cell_type": "code",
   "execution_count": null,
   "metadata": {},
   "outputs": [],
   "source": [
    "zkp_repos = pd.read_csv('zkp_repos.csv', sep=';')\n",
    "tool_commits = pd.read_csv('tool_commits.csv')\n",
    "application_commits = pd.read_csv('application_commits.csv')\n",
    "tool_issues = pd.read_csv('tool_issues.csv')\n",
    "repo_contributors = pd.read_csv('repo_contributors.csv')\n",
    "contributor_data = pd.read_csv('contributor_data.csv')\n",
    "branches_data = pd.read_csv('branches_data.csv')\n",
    "application_authors = pd.read_csv('application_authors.csv')"
   ]
  },
  {
   "cell_type": "markdown",
   "metadata": {},
   "source": [
    "##### Get AppCount"
   ]
  },
  {
   "cell_type": "code",
   "execution_count": null,
   "metadata": {},
   "outputs": [],
   "source": [
    "zkp_repos.loc[zkp_repos[\"Type\"] == \"Application\", \"Tool\"] = zkp_repos[\"Tool\"].str.replace('[', '').str.replace(']', '').str.replace('\\'', '').str.split(', ')\n",
    "# zkp_repos.loc[zkp_repos[\"Type\"] == \"Application\", \"Tool\"] = zkp_repos.loc[\n",
    "#     zkp_repos[\"Type\"] == \"Application\", \"Tool\"\n",
    "# ]\n",
    "zkp_repos_exploded = zkp_repos.explode('Tool')\n",
    "# zkp_repos_exploded.reset_index(drop=True, inplace=True)"
   ]
  },
  {
   "cell_type": "code",
   "execution_count": null,
   "metadata": {},
   "outputs": [],
   "source": [
    "tool_counts = zkp_repos_exploded[\"Tool\"].value_counts().reset_index()\n",
    "\n",
    "tool_counts.columns = [\"Tool\", \"AppCount\"]\n",
    "tool_counts = tool_counts.merge(\n",
    "    zkp_repos[zkp_repos[\"Type\"] == \"Tool\"], left_on=\"Tool\", right_on=\"Name\", how=\"outer\"\n",
    ")[[\"UniqueID\", \"AppCount\"]]\n",
    "tool_counts"
   ]
  },
  {
   "cell_type": "markdown",
   "metadata": {},
   "source": [
    "## Issues over time"
   ]
  },
  {
   "cell_type": "code",
   "execution_count": null,
   "metadata": {},
   "outputs": [],
   "source": [
    "tool_issues_over_time = (\n",
    "    tool_issues[[\"CreatedYearMonth\", \"UniqueID\", \"Name\"]]\n",
    "    .groupby([\"UniqueID\", \"CreatedYearMonth\"])\n",
    "    .count()\n",
    "    .reset_index()\n",
    "    .rename(columns={\"Name\": \"IssueCount\"})\n",
    ")\n",
    "tool_issues_over_time[\"CreatedYearMonth\"] = tool_issues_over_time[\n",
    "    \"CreatedYearMonth\"\n",
    "].astype(\"datetime64[ns]\")\n",
    "\n",
    "px.line(\n",
    "    tool_issues_over_time,\n",
    "    x=\"CreatedYearMonth\",\n",
    "    y=\"IssueCount\",\n",
    "    color=\"UniqueID\",\n",
    "    title=\"Issues over time\",\n",
    "    template=\"plotly_dark\",\n",
    ")"
   ]
  },
  {
   "cell_type": "markdown",
   "metadata": {},
   "source": [
    "From the above graph we see that some of the tools have a big surge in issues in the early days of the repo (usually a year or so) after which it seems to stabalize a bit, we can potenially consider using the first year issues to total issues ratio as a normalised metric to understand how much issues a tool has over time."
   ]
  },
  {
   "cell_type": "markdown",
   "metadata": {},
   "source": [
    "#### App Count & Issue Resolution"
   ]
  },
  {
   "cell_type": "code",
   "execution_count": null,
   "metadata": {},
   "outputs": [],
   "source": [
    "issue_counts = tool_issues.groupby([\"UniqueID\", \"State\"]).size().unstack(fill_value=0)\n",
    "issue_counts.reset_index(inplace=True)\n",
    "issue_counts.columns = [\"UniqueID\", \"Closed\", \"Open\"]\n",
    "issue_counts[\"IssueResolutionRate\"] = (issue_counts[\"Closed\"]) / (\n",
    "    issue_counts[\"Closed\"] + issue_counts[\"Open\"]\n",
    ")\n",
    "issue_counts.sort_values(\"IssueResolutionRate\", ascending=False, inplace=True)\n",
    "\n",
    "merged_tools_issues = (\n",
    "    issue_counts[[\"UniqueID\", \"IssueResolutionRate\"]]\n",
    "    .merge(tool_counts, left_on=\"UniqueID\", right_on=\"UniqueID\", how=\"outer\")\n",
    "    .sort_values(\"AppCount\")\n",
    ")\n",
    "\n",
    "fig = px.scatter(\n",
    "    merged_tools_issues,\n",
    "    x=\"IssueResolutionRate\",\n",
    "    y=\"AppCount\",\n",
    "    color=\"UniqueID\",\n",
    "    template=\"plotly_dark\",\n",
    "    title=\"Application Usage and Issue Resolution Rate\",\n",
    ")\n",
    "\n",
    "fig.show()"
   ]
  },
  {
   "cell_type": "markdown",
   "metadata": {},
   "source": [
    "Why is the resolutation rate so low for: \n",
    "\n",
    "\n",
    "|    | UniqueID                  |   IssueResolutionRate |   AppCount |\n",
    "|---:|:--------------------------|----------------------:|-----------:|\n",
    "| 38 | libsnark/scipr-lab        |              0.423645 |         64 |\n",
    "| 39 | cairo-lang/starkware-libs |              0.341176 |        110 |\n",
    "| 37 | circomlib/iden3           |              0.446602 |        167 |\n"
   ]
  },
  {
   "cell_type": "code",
   "execution_count": null,
   "metadata": {},
   "outputs": [],
   "source": [
    "issue_counts = tool_issues.groupby([\"UniqueID\", \"State\"]).size().unstack(fill_value=0)\n",
    "issue_counts.reset_index(inplace=True)\n",
    "issue_counts.columns = [\"UniqueID\", \"Closed\", \"Open\"]\n",
    "issue_counts[\"IssueResolutionRate\"] = (issue_counts[\"Closed\"]) / (\n",
    "    issue_counts[\"Closed\"] + issue_counts[\"Open\"]\n",
    ")\n",
    "issue_counts.sort_values(\"IssueResolutionRate\", ascending=False, inplace=True)\n",
    "\n",
    "merged_tools_issues = (\n",
    "    issue_counts[[\"UniqueID\", \"IssueResolutionRate\"]]\n",
    "    .merge(tool_counts, left_on=\"UniqueID\", right_on=\"UniqueID\", how=\"outer\")\n",
    "    .sort_values(\"AppCount\")\n",
    ")\n",
    "\n",
    "fig = px.scatter(\n",
    "    merged_tools_issues,\n",
    "    x=\"IssueResolutionRate\",\n",
    "    y=\"AppCount\",\n",
    "    template=\"plotly_dark\",\n",
    "    title=\"Application Usage and Issue Resolution Rate\",\n",
    "    trendline=\"ols\",\n",
    "    hover_data=[\"UniqueID\"],\n",
    ")\n",
    "\n",
    "fig.show()"
   ]
  },
  {
   "cell_type": "markdown",
   "metadata": {},
   "source": [
    "From the graph we can see that there is no clear correlation between the issue resolution rate and the number of apps that use it."
   ]
  },
  {
   "cell_type": "markdown",
   "metadata": {},
   "source": [
    "#### App Count & Issues Opened per Month"
   ]
  },
  {
   "cell_type": "code",
   "execution_count": null,
   "metadata": {},
   "outputs": [],
   "source": [
    "monthly_opened_issues = tool_issues\n",
    "\n",
    "monthly_opened_issues[\"CreatedAt\"] = pd.to_datetime(monthly_opened_issues[\"CreatedAt\"])\n",
    "monthly_opened_issues[\"CreatedYearMonth\"] = monthly_opened_issues[\n",
    "    \"CreatedAt\"\n",
    "].dt.to_period(\"M\")\n",
    "monthly_opened_issues = monthly_opened_issues[[\"UniqueID\", \"CreatedYearMonth\"]].rename(\n",
    "    columns={\"CreatedYearMonth\": \"YearMonth\", \"UniqueID\": \"UniqueID\"}\n",
    ")\n",
    "monthly_opened_issues = (\n",
    "    monthly_opened_issues.groupby([\"UniqueID\", \"YearMonth\"])\n",
    "    .size()\n",
    "    .reset_index(name=\"OpenedCount\")\n",
    ")\n",
    "monthly_opened_issues = (\n",
    "    monthly_opened_issues.groupby(\"UniqueID\")[\"OpenedCount\"]\n",
    "    .mean()\n",
    "    .reset_index(name=\"AverageOpenedPerMonth\")\n",
    ")\n",
    "monthly_opened_issues = monthly_opened_issues.merge(\n",
    "    tool_counts, left_on=\"UniqueID\", right_on=\"UniqueID\", how=\"left\"\n",
    ")\n",
    "\n",
    "fig = px.scatter(\n",
    "    monthly_opened_issues,\n",
    "    x=\"AverageOpenedPerMonth\",\n",
    "    y=\"AppCount\",\n",
    "    color=\"UniqueID\",\n",
    "    template=\"plotly_dark\",\n",
    "    title=\"Application Usage and Issues Opened per Month\",\n",
    ")\n",
    "\n",
    "fig.show()"
   ]
  },
  {
   "cell_type": "code",
   "execution_count": null,
   "metadata": {},
   "outputs": [],
   "source": [
    "fig = px.scatter(monthly_opened_issues, x='AverageOpenedPerMonth', y='AppCount', \n",
    "                template=\"plotly_dark\",\n",
    "                title='Application Usage and Issues Opened per Month',\n",
    "                hover_data=['UniqueID'],\n",
    "                trendline='ols')\n",
    "fig.show()\n",
    "                "
   ]
  },
  {
   "cell_type": "markdown",
   "metadata": {},
   "source": [
    "Here we can see that tools with a low number of issues tend to be used in quite a few apps except for `cairo/starkware-libs` why is that?"
   ]
  },
  {
   "cell_type": "code",
   "execution_count": null,
   "metadata": {},
   "outputs": [],
   "source": [
    "monthly_closed_issues = tool_issues\n",
    "\n",
    "monthly_closed_issues[\"ClosedAt\"] = pd.to_datetime(monthly_closed_issues[\"ClosedAt\"])\n",
    "monthly_closed_issues[\"ClosedYearMonth\"] = monthly_closed_issues[\n",
    "    \"ClosedAt\"\n",
    "].dt.to_period(\"M\")\n",
    "monthly_closed_issues = monthly_closed_issues[[\"UniqueID\", \"ClosedYearMonth\"]].rename(\n",
    "    columns={\"ClosedYearMonth\": \"YearMonth\", \"UniqueID\": \"UniqueID\"}\n",
    ")\n",
    "monthly_closed_issues = (\n",
    "    monthly_closed_issues.groupby([\"UniqueID\", \"YearMonth\"])\n",
    "    .size()\n",
    "    .reset_index(name=\"ClosedCount\")\n",
    ")\n",
    "monthly_closed_issues = (\n",
    "    monthly_closed_issues.groupby(\"UniqueID\")[\"ClosedCount\"]\n",
    "    .mean()\n",
    "    .reset_index(name=\"AverageClosedPerMonth\")\n",
    ")\n",
    "monthly_closed_issues = monthly_closed_issues.merge(\n",
    "    tool_counts, left_on=\"UniqueID\", right_on=\"UniqueID\", how=\"left\"\n",
    ")\n",
    "\n",
    "fig = px.scatter(\n",
    "    monthly_closed_issues,\n",
    "    x=\"AverageClosedPerMonth\",\n",
    "    y=\"AppCount\",\n",
    "    color=\"UniqueID\",\n",
    "    template=\"plotly_dark\",\n",
    "    title=\"Application Usage and Issues Closed per Month\",\n",
    ")\n",
    "\n",
    "fig.show()"
   ]
  },
  {
   "cell_type": "code",
   "execution_count": null,
   "metadata": {},
   "outputs": [],
   "source": [
    "fig = px.scatter(\n",
    "    monthly_closed_issues.merge(\n",
    "        monthly_opened_issues, left_on=\"UniqueID\", right_on=\"UniqueID\", how=\"left\"\n",
    "    ),\n",
    "    x=\"AverageClosedPerMonth\",\n",
    "    y=\"AverageOpenedPerMonth\",\n",
    "    # color=\"UniqueID\",\n",
    "    template=\"plotly_dark\",\n",
    "    title=\"Application Usage and Issues Closed per Month\",\n",
    "    trendline=\"ols\",\n",
    ")\n",
    "fig.show()"
   ]
  },
  {
   "cell_type": "markdown",
   "metadata": {},
   "source": [
    "From the tendline above we can deduce that all these tool repos are activily being maintained as on average number of tickets being opened is matched by the number of tickets being closed per month."
   ]
  },
  {
   "cell_type": "markdown",
   "metadata": {},
   "source": [
    "#### App Count & Language"
   ]
  },
  {
   "cell_type": "code",
   "execution_count": null,
   "metadata": {},
   "outputs": [],
   "source": [
    "language_tool_counts = tool_counts.merge(\n",
    "    zkp_repos[zkp_repos[\"Type\"] == \"Tool\"],\n",
    "    left_on=\"UniqueID\",\n",
    "    right_on=\"UniqueID\",\n",
    "    how=\"right\",\n",
    ")[[\"UniqueID\", \"AppCount\", \"Language\"]]\n",
    "language_tool_counts\n",
    "\n",
    "fig = px.scatter(\n",
    "    language_tool_counts,\n",
    "    x=\"UniqueID\",\n",
    "    y=\"AppCount\",\n",
    "    color=\"Language\",\n",
    "    template=\"plotly_dark\",\n",
    "    title=\"Application Usage and Issue Resolution Rate\",\n",
    ")\n",
    "\n",
    "fig.show()"
   ]
  },
  {
   "cell_type": "markdown",
   "metadata": {},
   "source": [
    "Why is Rust such a preffered language for these tools? \n",
    "\n",
    "@itsybitsycyber confirm that these tools don't use arcworks in the background as they should then be classified as Applications."
   ]
  },
  {
   "cell_type": "code",
   "execution_count": null,
   "metadata": {},
   "outputs": [],
   "source": [
    "fig = px.bar(\n",
    "    language_tool_counts.groupby(\"Language\").sum().reset_index().sort_values(\"AppCount\"),\n",
    "    x=\"Language\",\n",
    "    y=\"AppCount\",\n",
    "    color=\"Language\",\n",
    "    template=\"plotly_dark\",\n",
    "    title=\"Total Application Usage by Language\",\n",
    ")\n",
    "\n",
    "fig.show()"
   ]
  },
  {
   "cell_type": "markdown",
   "metadata": {},
   "source": [
    "#### App Count & Contributors"
   ]
  },
  {
   "cell_type": "code",
   "execution_count": null,
   "metadata": {},
   "outputs": [],
   "source": [
    "repo_contributors = repo_contributors[repo_contributors['UniqueID'].isin(tool_counts['UniqueID'])]\n",
    "contributor_counts = repo_contributors.groupby('UniqueID')['Contributor'].nunique().reset_index()\n",
    "contributor_counts.rename(columns={'Contributor': 'ContributorCount'}, inplace=True)\n",
    "contributor_counts = contributor_counts.merge(tool_counts, left_on='UniqueID', right_on='UniqueID')\n",
    "contributor_counts.sort_values(by=['ContributorCount'], ascending=False, inplace=True)\n",
    "\n",
    "fig = px.scatter(contributor_counts, x='ContributorCount', y='AppCount', \n",
    "             title='Application Usage and Contributor Count',\n",
    "             template=\"plotly_dark\",\n",
    "             color='UniqueID',\n",
    "             labels={'ContributorCount': 'No. of Contributors', 'UniqueID': 'Repository'}\n",
    "             )\n",
    "fig.show()"
   ]
  },
  {
   "cell_type": "code",
   "execution_count": null,
   "metadata": {},
   "outputs": [],
   "source": [
    "fig = px.scatter(contributor_counts, x='ContributorCount', y='AppCount', \n",
    "             title='Application Usage and Contributor Count',\n",
    "             template=\"plotly_dark\",\n",
    "             trendline='ols',\n",
    "             labels={'ContributorCount': 'No. of Contributors', 'UniqueID': 'Repository'}\n",
    "             )\n",
    "fig.show()"
   ]
  },
  {
   "cell_type": "markdown",
   "metadata": {},
   "source": [
    "@itsybitsycyber Add the number of authors count to the graph above."
   ]
  },
  {
   "cell_type": "markdown",
   "metadata": {},
   "source": [
    "#### App Count & Tool Age"
   ]
  },
  {
   "cell_type": "code",
   "execution_count": null,
   "metadata": {},
   "outputs": [],
   "source": [
    "tool_age = zkp_repos[zkp_repos['Type'] == 'Tool']\n",
    "tool_age['Created'] = pd.to_datetime(tool_age['Created'])\n",
    "tool_age['Age'] = (datetime.now(timezone.utc) - tool_age['Created']).dt.days\n",
    "tool_age = tool_age[['UniqueID', 'Age']]\n",
    "tool_age = tool_age.merge(tool_counts, left_on='UniqueID', right_on='UniqueID', how='left')\n",
    "\n",
    "fig = px.scatter(tool_age, x='Age', y='AppCount', \n",
    "             title='Application Usage and Age',\n",
    "             template=\"plotly_dark\",\n",
    "             color='UniqueID',\n",
    "             labels={'UniqueID': 'Repository'}\n",
    "             )\n",
    "fig.show()"
   ]
  },
  {
   "cell_type": "code",
   "execution_count": null,
   "metadata": {},
   "outputs": [],
   "source": [
    "fig = px.scatter(tool_age, x='Age', y='AppCount', \n",
    "             title='Application Usage and Age',\n",
    "             template=\"plotly_dark\",\n",
    "             trendline='ols',\n",
    "             labels={'UniqueID': 'Repository'}\n",
    "             )\n",
    "fig.show()"
   ]
  },
  {
   "cell_type": "markdown",
   "metadata": {},
   "source": [
    "There is no significant correlation between the age of the tool and the number of apps that use it."
   ]
  },
  {
   "cell_type": "markdown",
   "metadata": {},
   "source": [
    "#### App Count & Commit Count"
   ]
  },
  {
   "cell_type": "code",
   "execution_count": null,
   "metadata": {},
   "outputs": [],
   "source": [
    "total_commits = tool_commits\n",
    "total_commits = total_commits.groupby('UniqueID')['CommitHash'].nunique().reset_index()\n",
    "total_commits.columns = ['UniqueID', 'CommitCount']\n",
    "total_commits = total_commits.merge(tool_counts, left_on='UniqueID', right_on='UniqueID', how='right')\n",
    "\n",
    "fig = px.scatter(total_commits, x='CommitCount', y='AppCount', \n",
    "             title='Application Usage and CommitCount',\n",
    "             template=\"plotly_dark\",\n",
    "             color='UniqueID',\n",
    "             labels={'UniqueID': 'Repository'}\n",
    "             )\n",
    "fig.show()"
   ]
  },
  {
   "cell_type": "markdown",
   "metadata": {},
   "source": [
    "Why does `zksync/matter-lab` have so many commits and so few apps using it?"
   ]
  },
  {
   "cell_type": "markdown",
   "metadata": {},
   "source": [
    "#### App Count & Commit Frequency"
   ]
  },
  {
   "cell_type": "code",
   "execution_count": null,
   "metadata": {},
   "outputs": [],
   "source": [
    "commit_frequency = tool_commits\n",
    "commit_frequency[\"CommitterDate\"]\n",
    "commit_frequency[\"CommitterDate\"] = pd.to_datetime(\n",
    "    commit_frequency[\"CommitterDate\"], utc=True\n",
    ")\n",
    "commit_frequency[\"YearMonth\"] = commit_frequency[\"CommitterDate\"].dt.to_period(\"M\")\n",
    "commit_frequency = (\n",
    "    commit_frequency.groupby([\"UniqueID\", \"YearMonth\"])\n",
    "    .size()\n",
    "    .reset_index(name=\"CommitCount\")\n",
    ")\n",
    "commit_frequency = (\n",
    "    commit_frequency.groupby(\"UniqueID\")[\"CommitCount\"]\n",
    "    .mean()\n",
    "    .reset_index(name=\"AverageCommitFrequency\")\n",
    ")\n",
    "commit_frequency = commit_frequency.merge(\n",
    "    tool_counts, left_on=\"UniqueID\", right_on=\"UniqueID\", how=\"left\"\n",
    ")\n",
    "\n",
    "fig = px.scatter(\n",
    "    commit_frequency,\n",
    "    x=\"AverageCommitFrequency\",\n",
    "    y=\"AppCount\",\n",
    "    title=\"Application Usage and Average Number Of Commits per Month\",\n",
    "    template=\"plotly_dark\",\n",
    "    color=\"UniqueID\",\n",
    "    labels={\"UniqueID\": \"Repository\"},\n",
    ")\n",
    "fig.show()"
   ]
  },
  {
   "cell_type": "markdown",
   "metadata": {},
   "source": [
    "Why do these repo's have so many commits per month?\n",
    "|    | UniqueID             |   AverageCommitFrequency |   AppCount |\n",
    "|---:|:---------------------|-------------------------:|-----------:|\n",
    "|  5 | cairo/starkware-libs |                  229.471 |        343 |\n",
    "| 16 | leo/aleohq           |                  140.14  |          7 |\n",
    "| 23 | openzkp/0xproject    |                  100.19  |          1 |\n",
    "| 25 | plonky2/mir-protocol |                  141.156 |         17 |\n",
    "| 38 | zksync/matter-labs   |                  265.065 |          4 |\n",
    "\n",
    "@itsybitsycyber are we using the commits as we think? Are these all commits in the repo, or just commits to main? "
   ]
  },
  {
   "cell_type": "markdown",
   "metadata": {},
   "source": [
    "#### App Count & Branch Count"
   ]
  },
  {
   "cell_type": "code",
   "execution_count": null,
   "metadata": {},
   "outputs": [],
   "source": [
    "branch_count = branches_data.groupby('UniqueID').size().reset_index(name='BranchCount')\n",
    "branch_count = branch_count.merge(tool_counts, left_on='UniqueID',  right_on='UniqueID', how='left')\n",
    "\n",
    "fig = px.scatter(branch_count, x='BranchCount', y='AppCount', \n",
    "             title='Application Usage and BranchCount',\n",
    "             template=\"plotly_dark\",\n",
    "             color='UniqueID',\n",
    "             labels={'UniqueID': 'Repository'}\n",
    "             )\n",
    "fig.show()"
   ]
  },
  {
   "cell_type": "markdown",
   "metadata": {},
   "source": [
    "@itsybitsycyber can you idenitfy the branching strategies that these repos use?"
   ]
  },
  {
   "cell_type": "markdown",
   "metadata": {},
   "source": [
    "#### App Count & Active Committers"
   ]
  },
  {
   "cell_type": "code",
   "execution_count": null,
   "metadata": {},
   "outputs": [],
   "source": [
    "active_committers = tool_commits\n",
    "active_committers[\"CommitterDate\"] = pd.to_datetime(\n",
    "    active_committers[\"CommitterDate\"], utc=True\n",
    ")\n",
    "active_committers = active_committers.loc[\n",
    "    active_committers[\"CommitterDate\"].dt.year == 2023\n",
    "]\n",
    "active_committers"
   ]
  },
  {
   "cell_type": "code",
   "execution_count": null,
   "metadata": {},
   "outputs": [],
   "source": [
    "active_committers = tool_commits\n",
    "active_committers[\"CommitterDate\"] = pd.to_datetime(\n",
    "    active_committers[\"CommitterDate\"], utc=True\n",
    ")\n",
    "active_committers = active_committers.loc[\n",
    "    active_committers[\"CommitterDate\"].dt.year == 2023\n",
    "]\n",
    "active_committers = active_committers.merge(\n",
    "    zkp_repos.loc[zkp_repos[\"Type\"] == \"Tool\"],\n",
    "    left_on=\"UniqueID\",\n",
    "    right_on=\"UniqueID\",\n",
    "    how=\"right\",\n",
    ")\n",
    "active_committers = (\n",
    "    active_committers.groupby(\"UniqueID\").agg({\"Committer\": \"nunique\"}).reset_index().rename(columns={\"Committer\": \"ActiveCommitters\"})\n",
    ")\n",
    "active_committers = active_committers.merge(\n",
    "    tool_counts, left_on=\"UniqueID\", right_on=\"UniqueID\", how=\"left\"\n",
    ")\n",
    "\n",
    "fig = px.scatter(\n",
    "    active_committers,\n",
    "    x=\"ActiveCommitters\",\n",
    "    y=\"AppCount\",\n",
    "    title=\"Application Usage and Active Committers\",\n",
    "    template=\"plotly_dark\",\n",
    "    color=\"UniqueID\",\n",
    "    labels={\"UniqueID\": \"Repository\"},\n",
    ")\n",
    "fig.show()"
   ]
  },
  {
   "cell_type": "code",
   "execution_count": null,
   "metadata": {},
   "outputs": [],
   "source": [
    "fig = px.scatter(\n",
    "    active_committers,\n",
    "    x=\"ActiveCommitters\",\n",
    "    y=\"AppCount\",\n",
    "    title=\"Application Usage and Active Committers\",\n",
    "    template=\"plotly_dark\",\n",
    "    trendline=\"ols\",\n",
    "    hover_data=[\"UniqueID\"],\n",
    "    labels={\"UniqueID\": \"Repository\"},\n",
    ")\n",
    "fig.show()"
   ]
  },
  {
   "cell_type": "markdown",
   "metadata": {},
   "source": [
    "Why has nobody commited to these repos in the last 8 months? \n",
    "\n",
    "|    | UniqueID                  |   ActiveCommitters |   AppCount |\n",
    "|---:|:--------------------------|-------------------:|-----------:|\n",
    "|  3 | bulletproofs/sdiehl       |                  0 |          1 |\n",
    "|  8 | circomlib/iden3           |                  0 |        167 |\n",
    "| 17 | libsnark/scipr-lab        |                  0 |         64 |\n",
    "| 18 | marlin/arkworks-rs        |                  0 |          4 |\n",
    "| 19 | merlin/dalek-cryptography |                  0 |         53 |\n",
    "| 22 | nonnative/arkworks-rs     |                  0 |          2 |\n",
    "| 23 | openzkp/0xproject         |                  0 |          1 |\n",
    "| 24 | plonky/mir-protocol       |                  0 |          1 |\n",
    "| 28 | pysnark/charterhouse      |                  0 |          4 |"
   ]
  },
  {
   "cell_type": "markdown",
   "metadata": {},
   "source": [
    "#### App Count & New Committers"
   ]
  },
  {
   "cell_type": "markdown",
   "metadata": {},
   "source": [
    "@itsybitsycyber revise the below calculation, we'll have to get the set of contibutors that contibuted to these tools prior to 2023 and subset those after to get a count of who is new to each tool"
   ]
  },
  {
   "cell_type": "code",
   "execution_count": null,
   "metadata": {},
   "outputs": [],
   "source": [
    "\n",
    "new_committers = tool_commits\n",
    "\n",
    "new_committers[\"CommitterDate\"] = pd.to_datetime(new_committers[\"CommitterDate\"])\n",
    "new_committers = new_committers[new_committers[\"CommitterDate\"].dt.year == 2023]\n",
    "new_committers = (\n",
    "    new_committers.groupby([\"UniqueID\", \"Committer\"])[\"CommitterDate\"]\n",
    "    .min()\n",
    "    .reset_index()\n",
    ")\n",
    "new_committers = new_committers[new_committers[\"CommitterDate\"].dt.year == 2023]\n",
    "new_committers = (\n",
    "    new_committers.groupby(\"UniqueID\")[\"Committer\"]\n",
    "    .count()\n",
    "    .reset_index(name=\"NewCommitterCount\")\n",
    ")\n",
    "new_committers = new_committers.merge(\n",
    "    tool_counts, left_on=\"UniqueID\", right_on=\"UniqueID\", how=\"right\"\n",
    ").fillna(0)\n",
    "\n",
    "fig = px.scatter(\n",
    "    new_committers,\n",
    "    x=\"NewCommitterCount\",\n",
    "    y=\"AppCount\",\n",
    "    title=\"Application Usage and New Committers\",\n",
    "    template=\"plotly_dark\",\n",
    "    color=\"UniqueID\",\n",
    "    labels={\"UniqueID\": \"Repository\"},\n",
    ")\n",
    "fig.show()"
   ]
  },
  {
   "cell_type": "markdown",
   "metadata": {},
   "source": [
    "#### App Count & Recent Commits"
   ]
  },
  {
   "cell_type": "code",
   "execution_count": null,
   "metadata": {},
   "outputs": [],
   "source": [
    "new_commits = tool_commits\n",
    "\n",
    "new_commits[\"CommitterDate\"] = pd.to_datetime(new_commits[\"CommitterDate\"], utc=True)\n",
    "new_commits = new_commits[new_commits[\"CommitterDate\"].dt.year == 2023]\n",
    "new_commits = new_commits.groupby(\"UniqueID\").size().reset_index(name=\"NewCommits\")\n",
    "new_commits = new_commits.merge(\n",
    "    tool_counts, left_on=\"UniqueID\", right_on=\"UniqueID\", how=\"right\"\n",
    ").fillna(0)\n",
    "\n",
    "fig = px.scatter(\n",
    "    new_commits,\n",
    "    x=\"NewCommits\",\n",
    "    y=\"AppCount\",\n",
    "    title=\"Application Usage and New Committs\",\n",
    "    template=\"plotly_dark\",\n",
    "    color=\"UniqueID\",\n",
    "    labels={\"UniqueID\": \"Repository\"},\n",
    ")\n",
    "fig.show()"
   ]
  },
  {
   "cell_type": "markdown",
   "metadata": {},
   "source": [
    "#### App Count and Tool Type "
   ]
  },
  {
   "cell_type": "code",
   "execution_count": null,
   "metadata": {},
   "outputs": [],
   "source": [
    "tools = zkp_repos[zkp_repos['Type'] == 'Tool'][['UniqueID', 'ToolType']]\n",
    "tools_types = tool_counts.merge(tools, left_on='UniqueID',  right_on='UniqueID', how='right')\n",
    "tools_types.sort_values(by='AppCount', inplace=True, ascending=False)\n",
    "\n",
    "fig = px.scatter(tools_types, x='UniqueID', y='AppCount', \n",
    "             title='Application Usage and Tool Type',\n",
    "             template=\"plotly_dark\",\n",
    "             color='ToolType',\n",
    "             labels={'UniqueID': 'Repository'},\n",
    "             category_orders={'UniqueID': tools_types['UniqueID']}\n",
    "             )\n",
    "fig.show()\n"
   ]
  },
  {
   "cell_type": "code",
   "execution_count": null,
   "metadata": {},
   "outputs": [],
   "source": [
    "fig = px.bar(tools_types.groupby('ToolType').sum().reset_index().sort_values(by='AppCount', ascending=False),\n",
    "             x='ToolType', y='AppCount',\n",
    "                title='Total Application Usage by Tool Type',   \n",
    "                template=\"plotly_dark\",\n",
    "                color='ToolType',\n",
    "                labels={'ToolType': 'Tool Type'}\n",
    ")\n",
    "fig.show()"
   ]
  },
  {
   "cell_type": "markdown",
   "metadata": {},
   "source": [
    "#### Tools Used In Combination"
   ]
  },
  {
   "cell_type": "code",
   "execution_count": null,
   "metadata": {},
   "outputs": [],
   "source": [
    "from itertools import combinations\n",
    "from collections import Counter\n",
    "\n",
    "zkp_applications = zkp_repos[zkp_repos['Type'] == 'Application']\n",
    "tool_combinations = zkp_applications['Tool'].apply(lambda x: list(combinations(x, 2)))\n",
    "flat_combinations = [tuple(item) for sublist in tool_combinations for item in sublist]\n",
    "combination_counts = Counter(flat_combinations)\n",
    "result_df = pd.DataFrame(list(combination_counts.items()), columns=['Tool Combination', 'Frequency'])\n",
    "result_df\n"
   ]
  },
  {
   "cell_type": "code",
   "execution_count": null,
   "metadata": {},
   "outputs": [],
   "source": [
    "import plotly.graph_objects as go\n",
    "import networkx as nx\n",
    "\n",
    "zkp_applications = zkp_repos[zkp_repos['Type'] == 'Application']\n",
    "\n",
    "G = nx.Graph()\n",
    "\n",
    "for tools in zkp_applications['Tool']:\n",
    "    tool_combinations = list(combinations(tools, 2))\n",
    "    G.add_edges_from(tool_combinations)\n",
    "\n",
    "pos = nx.spring_layout(G) \n",
    "\n",
    "edge_x = []\n",
    "edge_y = []\n",
    "\n",
    "for edge in G.edges():\n",
    "    x0, y0 = pos[edge[0]]\n",
    "    x1, y1 = pos[edge[1]]\n",
    "    edge_x.append(x0)\n",
    "    edge_x.append(x1)\n",
    "    edge_x.append(None)\n",
    "    edge_y.append(y0)\n",
    "    edge_y.append(y1)\n",
    "    edge_y.append(None)\n",
    "\n",
    "edge_trace = go.Scatter(\n",
    "    x=edge_x, y=edge_y,\n",
    "    line=dict(width=0.5, color='#888'),\n",
    "    hoverinfo='none',\n",
    "    mode='lines')\n",
    "\n",
    "node_x = []\n",
    "node_y = []\n",
    "\n",
    "for node in G.nodes():\n",
    "    x, y = pos[node]\n",
    "    node_x.append(x)\n",
    "    node_y.append(y)\n",
    "\n",
    "node_trace = go.Scatter(\n",
    "    x=node_x, y=node_y,\n",
    "    mode='markers',\n",
    "    hoverinfo='text',\n",
    "    marker=dict(\n",
    "        color=zkp_applications['Tool'].apply(len),\n",
    "        showscale=True,\n",
    "        colorscale='YlGnBu',\n",
    "        # colorscale='Viridis', \n",
    "        size=10,\n",
    "        colorbar=dict(\n",
    "            thickness=15,\n",
    "            title='Node Connections',\n",
    "            xanchor='left',\n",
    "            titleside='right'\n",
    "        )\n",
    "    )\n",
    ")\n",
    "\n",
    "node_trace.text = zkp_applications['Tool'].apply(lambda tools: ', '.join(tools))\n",
    "\n",
    "fig = go.Figure(data=[edge_trace, node_trace],\n",
    "             layout=go.Layout(\n",
    "                template='plotly_dark',\n",
    "                height=900,\n",
    "                showlegend=False,\n",
    "                hovermode='closest',\n",
    "                margin=dict(b=0, l=0, r=0, t=0),\n",
    "                xaxis=dict(showgrid=False, zeroline=False, showticklabels=False),\n",
    "                yaxis=dict(showgrid=False, zeroline=False, showticklabels=False)),\n",
    "                # height=500\n",
    "                )\n",
    "\n",
    "fig.show()"
   ]
  },
  {
   "cell_type": "markdown",
   "metadata": {},
   "source": [
    "Why is the most used combination(s) the most?\n",
    "\n",
    "+ does one tool provide the FE, the the Back?\n",
    "+ the one proof system, the other the ..."
   ]
  },
  {
   "cell_type": "markdown",
   "metadata": {},
   "source": [
    "#### Tools never used in combination"
   ]
  },
  {
   "cell_type": "code",
   "execution_count": null,
   "metadata": {},
   "outputs": [],
   "source": [
    "zkp_applications = zkp_repos[zkp_repos['Type'] == 'Application']\n",
    "all_tools = set(tool for sublist in zkp_applications['Tool'] for tool in sublist)\n",
    "all_tool_combinations = list(combinations(all_tools, 2))\n",
    "used_tool_combinations = set(tuple(sorted(comb)) for tools in zkp_applications['Tool'] for comb in combinations(tools, 2))\n",
    "unused_tool_combinations = set(all_tool_combinations) - used_tool_combinations\n"
   ]
  },
  {
   "cell_type": "code",
   "execution_count": null,
   "metadata": {},
   "outputs": [],
   "source": [
    "zkp_applications = zkp_repos[zkp_repos['Type'] == 'Application']\n",
    "tool_combinations = zkp_applications['Tool'].apply(lambda x: list(combinations(x, 2)))\n",
    "flat_combinations = [tuple(item) for sublist in tool_combinations for item in sublist]\n",
    "combination_counts = Counter(flat_combinations)\n",
    "all_tools = set([tool for sublist in zkp_applications['Tool'] for tool in sublist])\n",
    "tools_in_combinations = set([tool for combination in flat_combinations for tool in combination])\n",
    "tools_never_used_in_combination = all_tools - tools_in_combinations\n",
    "\n",
    "tools_never_used_in_combination\n"
   ]
  },
  {
   "cell_type": "markdown",
   "metadata": {},
   "source": [
    "@itsybitsycyber why is `{'bulletproofs (sdiehl)', 'plonky3', 'zksync'}` are never used together?"
   ]
  },
  {
   "cell_type": "markdown",
   "metadata": {},
   "source": [
    "#### Applications & No. of Authors"
   ]
  },
  {
   "cell_type": "code",
   "execution_count": null,
   "metadata": {},
   "outputs": [],
   "source": [
    "\n",
    "application_committers = application_commits.groupby('UniqueID')['Author'].nunique().reset_index()\n",
    "application_committers.rename(columns={'Author': 'AuthorCount'}, inplace=True)\n",
    "application_committers.sort_values(by=['AuthorCount'], ascending=False, inplace=True)\n",
    "bins =  int(np.ceil(1 + np.log2(len(application_committers['AuthorCount'])))) # sturges\n",
    "application_committers['AuthorGroup'] = pd.cut(application_committers['AuthorCount'], bins=bins).astype(str)\n",
    "\n",
    "# fig = px.scatter(application_committers,  x='UniqueID', y='AuthorCount', \n",
    "#                    color='AuthorGroup',\n",
    "#                    title='Author Count Distribution',\n",
    "#                    labels={'AuthorGroup': 'Author Count Group', 'count': 'Number of Repos'},\n",
    "#                    template='plotly_dark', \n",
    "#                    height=1000\n",
    "#                    )\n",
    "\n",
    "# fig.show()\n"
   ]
  },
  {
   "cell_type": "markdown",
   "metadata": {},
   "source": [
    "#### Tools & Application Author Count"
   ]
  },
  {
   "cell_type": "code",
   "execution_count": null,
   "metadata": {},
   "outputs": [],
   "source": [
    "# TODO: May need to standardise means\n",
    "from ast import literal_eval\n",
    "zkp_applications = zkp_repos[zkp_repos['Type'] == 'Application']\n",
    "tool_authors = application_committers.merge(zkp_applications, left_on='UniqueID', right_on='UniqueID', how='right')\n",
    "tool_authors = tool_authors[['UniqueID', 'Tool', 'AuthorCount']]\n",
    "tool_authors['Tool'] = tool_authors['Tool'].apply(literal_eval)\n",
    "exploded_tool_authors = tool_authors.explode('Tool')\n",
    "tool_author_counts = exploded_tool_authors.groupby('Tool')['AuthorCount'].mean().reset_index()\n",
    "tool_author_counts.sort_values(by='AuthorCount', ascending=False, inplace=True)\n",
    "\n",
    "fig = px.scatter(tool_author_counts,  x='Tool', y='AuthorCount', \n",
    "                #    color='AuthorGroup',\n",
    "                   title='Mean AuthorCount Per Application using Tool',\n",
    "                   labels={'AuthorGroup': 'Author Count Group', 'count': 'Number of Repos'},\n",
    "                   template='plotly_dark', \n",
    "                   )\n",
    "\n",
    "fig.show()"
   ]
  },
  {
   "cell_type": "markdown",
   "metadata": {},
   "source": [
    "#### Applications & No. of Commits"
   ]
  },
  {
   "cell_type": "code",
   "execution_count": null,
   "metadata": {},
   "outputs": [],
   "source": [
    "commit_count = application_commits.groupby('UniqueID')['CommitHash'].nunique().reset_index()\n",
    "commit_count.rename(columns={'CommitHash': 'CommitCount'}, inplace=True)\n",
    "commit_count.sort_values(by=['CommitCount'], ascending=False, inplace=True)\n",
    "bins =  int(np.ceil(1 + np.log2(len(commit_count['CommitCount'])))) # sturges\n",
    "commit_count['CommitGroup'] = pd.cut(commit_count['CommitCount'], bins=bins).astype(str)\n",
    "commit_count.groupby('CommitGroup')['UniqueID'].nunique().reset_index()\n",
    "\n",
    "# fig = px.scatter(commit_count,  x='UniqueID', y='CommitCount', \n",
    "#                    color='CommitGroup',\n",
    "#                    title='Commit Count Distribution',\n",
    "#                    labels={'CommitGroup': 'Commit Count Group', 'count': 'Number of Repos'},\n",
    "#                    template='plotly_dark', \n",
    "#                    height=1000\n",
    "#                    )\n",
    "\n",
    "# fig.show()"
   ]
  },
  {
   "cell_type": "markdown",
   "metadata": {},
   "source": [
    "### Cluster Applications"
   ]
  },
  {
   "cell_type": "markdown",
   "metadata": {},
   "source": [
    "#### Get Application Features"
   ]
  },
  {
   "cell_type": "code",
   "execution_count": null,
   "metadata": {},
   "outputs": [],
   "source": [
    "# features: tool used, language, stars, forks, watchers, issues, age, author, commitcount, size\n",
    "zkp_applications = zkp_repos[zkp_repos['Type']=='Application']\n",
    "application_authors = application_commits.groupby('UniqueID')['Author'].nunique().reset_index()\n",
    "application_authors.rename(columns={'Author': 'AuthorCount'}, inplace=True)\n",
    "commit_count = application_commits.groupby('UniqueID')['CommitHash'].nunique().reset_index()\n",
    "commit_count.rename(columns={'CommitHash': 'CommitCount'}, inplace=True)\n",
    "application_features = zkp_applications.merge(application_authors, left_on='UniqueID', right_on='UniqueID', how='left')\n",
    "application_features = application_features.merge(commit_count, left_on='UniqueID', right_on='UniqueID', how='left')\n",
    "application_features['Age'] = pd.to_datetime(application_features['Created'])\n",
    "application_features['Age'] = (datetime.now(timezone.utc) - application_features['Age']).dt.days\n",
    "application_features = application_features[['UniqueID', 'Tool', 'Size', 'Language', 'Stars', 'Forks', 'Watchers', 'Issues', 'AuthorCount', 'CommitCount', 'Age' ]]\n",
    "application_features =  pd.get_dummies(application_features, columns=['Language'], prefix='Language')\n"
   ]
  },
  {
   "cell_type": "markdown",
   "metadata": {},
   "source": [
    "### K-Means Clustering"
   ]
  },
  {
   "cell_type": "code",
   "execution_count": null,
   "metadata": {},
   "outputs": [],
   "source": [
    "cols = [\n",
    "    # 'UniqueID', \n",
    "\n",
    "    # 'Tool', \n",
    "\n",
    "    'Size', \n",
    "    'Age',\n",
    "    \n",
    "    'Stars', \n",
    "    'Forks', \n",
    "    'Watchers', \n",
    "    'Issues',\n",
    "    'AuthorCount', \n",
    "    'CommitCount', \n",
    "\n",
    "\n",
    "    'Language_Assembly', \n",
    "    'Language_C',\n",
    "    'Language_C++', \n",
    "    'Language_CMake', \n",
    "    'Language_CSS', \n",
    "    'Language_Cairo',\n",
    "    'Language_Circom', \n",
    "    'Language_Cuda', \n",
    "    'Language_Dart', \n",
    "    'Language_Go',\n",
    "    'Language_HTML', \n",
    "    'Language_Haskell', \n",
    "    'Language_Java',\n",
    "    'Language_JavaScript', \n",
    "    'Language_JetBrains MPS',\n",
    "    'Language_Jupyter Notebook', \n",
    "    'Language_Kotlin', \n",
    "    'Language_Lean',\n",
    "    'Language_Makefile', \n",
    "    'Language_OCaml', \n",
    "    'Language_Python',\n",
    "    'Language_Racket', \n",
    "    'Language_Roff', \n",
    "    'Language_Rust', \n",
    "    'Language_Shell',\n",
    "    'Language_Solidity', \n",
    "    'Language_Swift', \n",
    "    'Language_TypeScript',\n",
    "    'Language_Vim script', \n",
    "    'Language_Vue'\n",
    "]\n",
    "\n",
    "nr_components = 2\n",
    "X = application_features[cols]\n",
    "\n",
    "# X = application_features.iloc[:, 2:]\n",
    "\n",
    "scaler = StandardScaler()\n",
    "df_standardized = scaler.fit_transform(X)\n",
    "\n",
    "pca = PCA(n_components=2)\n",
    "df_pca = pca.fit_transform(df_standardized)\n",
    "\n",
    "kmeans = KMeans(n_clusters=3, random_state=42)\n",
    "application_features['Cluster'] = kmeans.fit_predict(df_standardized)\n",
    "\n",
    "components = pca.fit_transform(X)\n",
    "pca.explained_variance_ratio_"
   ]
  },
  {
   "cell_type": "code",
   "execution_count": null,
   "metadata": {},
   "outputs": [],
   "source": [
    "fig = px.scatter(\n",
    "    application_features,\n",
    "    x=df_pca[:, 0],\n",
    "    y=df_pca[:, 1],\n",
    "    color='Cluster', \n",
    "    labels={'color': 'Cluster'},\n",
    "    title='PCA Scatter Plot with Clusters',\n",
    "    template='plotly_dark'\n",
    ")\n",
    "\n",
    "fig.show()"
   ]
  },
  {
   "cell_type": "markdown",
   "metadata": {},
   "source": [
    "### Cluster Authors "
   ]
  },
  {
   "cell_type": "markdown",
   "metadata": {},
   "source": [
    "#### Get Authors and Features"
   ]
  },
  {
   "cell_type": "code",
   "execution_count": null,
   "metadata": {},
   "outputs": [],
   "source": [
    "\n",
    "author_info = application_authors[['Login', 'PublicRepos', 'PublicGists', 'Followers', 'CreatedAt']]\n",
    "author_info = author_info.merge(application_commits, left_on='Login', right_on='Author', how='left') \n",
    "author_commit_count = author_info.groupby('Login')['CommitHash'].nunique().reset_index()\n",
    "author_commit_count.rename(columns={'CommitHash': 'CommitCount'}, inplace=True)\n",
    "author_repos_count = author_info.groupby('Login')['UniqueID'].nunique().reset_index()\n",
    "author_repos_count.rename(columns={'UniqueID': 'RepoCount'}, inplace=True)\n",
    "author_repos_count\n",
    "author_info = author_info.merge(author_commit_count, left_on='Login', right_on='Login', how='left')\n",
    "author_info = author_info.merge(author_repos_count, left_on='Login', right_on='Login', how='left')\n",
    "author_info['CreatedAt'] = pd.to_datetime(author_info['CreatedAt'])\n",
    "author_info['AccountAge'] = (datetime.now(timezone.utc) - author_info['CreatedAt']).dt.days\n",
    "author_info = author_info[['Login',\t'PublicRepos',\t'PublicGists',\t'Followers', 'CommitCount', 'RepoCount', 'AccountAge']]\n",
    "author_info.drop_duplicates(inplace=True)\n",
    "author_info = author_info.reset_index(drop=True)\n"
   ]
  },
  {
   "cell_type": "code",
   "execution_count": null,
   "metadata": {},
   "outputs": [],
   "source": [
    "application_authors"
   ]
  },
  {
   "cell_type": "markdown",
   "metadata": {},
   "source": [
    "#### Cluster Authors using K-Means"
   ]
  },
  {
   "cell_type": "code",
   "execution_count": null,
   "metadata": {},
   "outputs": [],
   "source": [
    "cols = [\n",
    "    'PublicRepos',\t\n",
    "    'PublicGists',\t\n",
    "    'Followers', \n",
    "    'CommitCount', \n",
    "    'RepoCount', \n",
    "    'AccountAge'\n",
    "]\n",
    "\n",
    "nr_components = 2\n",
    "\n",
    "X = author_info[cols]\n",
    "scaler = StandardScaler()\n",
    "scaler.fit(X)\n",
    "df_tools_features_scaled = scaler.transform(X)\n",
    "pca = PCA(n_components=nr_components)\n",
    "pca.fit(df_tools_features_scaled)\n",
    "df_tools_features_pca = pca.transform(df_tools_features_scaled)\n",
    "df_tools_features_pca = pd.DataFrame(df_tools_features_pca)\n",
    "df_tools_features_pca['Login'] = author_info[\"Login\"]\n",
    "df_tools_features_pca = df_tools_features_pca.merge(\n",
    "    author_info, on=\"Login\", how=\"left\"\n",
    ")\n",
    "components = pca.fit_transform(X)"
   ]
  },
  {
   "cell_type": "code",
   "execution_count": null,
   "metadata": {},
   "outputs": [],
   "source": [
    "pca.explained_variance_ratio_"
   ]
  },
  {
   "cell_type": "code",
   "execution_count": null,
   "metadata": {},
   "outputs": [],
   "source": [
    "px.scatter(\n",
    "    df_tools_features_pca,\n",
    "    x=0,\n",
    "    y=1,\n",
    "    # color=\"Login\",\n",
    "    hover_name=\"Login\",\n",
    "    template=\"plotly_dark\",\n",
    "    title=\"PCA of Author Features\",\n",
    "    labels={\"0\": \"PCA1\", \"1\": \"PCA2\"},\n",
    "    width=500,\n",
    "    height=500,\n",
    ")"
   ]
  },
  {
   "cell_type": "code",
   "execution_count": null,
   "metadata": {},
   "outputs": [],
   "source": []
  },
  {
   "cell_type": "code",
   "execution_count": null,
   "metadata": {},
   "outputs": [],
   "source": []
  },
  {
   "cell_type": "code",
   "execution_count": null,
   "metadata": {},
   "outputs": [],
   "source": []
  }
 ],
 "metadata": {
  "kernelspec": {
   "display_name": "Python 3",
   "language": "python",
   "name": "python3"
  },
  "language_info": {
   "codemirror_mode": {
    "name": "ipython",
    "version": 3
   },
   "file_extension": ".py",
   "mimetype": "text/x-python",
   "name": "python",
   "nbconvert_exporter": "python",
   "pygments_lexer": "ipython3",
   "version": "3.9.13"
  },
  "orig_nbformat": 4
 },
 "nbformat": 4,
 "nbformat_minor": 2
}
