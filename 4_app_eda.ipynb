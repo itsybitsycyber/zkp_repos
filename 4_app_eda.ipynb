{
 "cells": [
  {
   "cell_type": "markdown",
   "metadata": {},
   "source": [
    "### **Section 0: Set Up Environment**"
   ]
  },
  {
   "cell_type": "markdown",
   "metadata": {},
   "source": [
    "#### Import required modules\n"
   ]
  },
  {
   "cell_type": "code",
   "execution_count": null,
   "metadata": {},
   "outputs": [],
   "source": [
    "import pandas as pd\n",
    "import plotly.express as px\n",
    "import numpy as np\n",
    "from datetime import datetime, timezone\n",
    "from sklearn.cluster import KMeans\n",
    "from sklearn.preprocessing import StandardScaler\n",
    "from sklearn.preprocessing import StandardScaler\n",
    "from sklearn.decomposition import PCA\n",
    "from ast import literal_eval\n",
    "from scipy import stats\n",
    "import difflib"
   ]
  },
  {
   "cell_type": "markdown",
   "metadata": {},
   "source": [
    "TODO: check file imports "
   ]
  },
  {
   "cell_type": "markdown",
   "metadata": {},
   "source": [
    "#### Load all dataframes\n"
   ]
  },
  {
   "cell_type": "code",
   "execution_count": null,
   "metadata": {},
   "outputs": [],
   "source": [
    "zkp_repos = pd.read_csv('zkp_repos.csv')\n",
    "tool_commits = pd.read_csv('tool_commits.csv')\n",
    "application_commits = pd.read_csv('application_commits.csv')\n",
    "tool_issues = pd.read_csv('tool_issues.csv')\n",
    "repo_contributors = pd.read_csv('repo_contributors.csv')\n",
    "contributor_data = pd.read_csv('contributor_data.csv')\n",
    "branches_data = pd.read_csv('branches_data.csv')\n",
    "# application_authors = pd.read_csv('application_authors.csv')\n",
    "application_authors = pd.read_csv('application_contributors.csv')"
   ]
  },
  {
   "cell_type": "code",
   "execution_count": null,
   "metadata": {},
   "outputs": [],
   "source": [
    "application_authors = application_authors[application_authors['Type'] == 'User']\n",
    "remove_tools = ['cairo/starkware-libs', 'noir/noir-lang', 'starknet-rs/xjonathanlei', 'zokrates/zokrates']\n",
    "tool_commits = tool_commits[~tool_commits['UniqueID'].isin(remove_tools) ]\n",
    "tool_issues = tool_issues[~tool_issues['UniqueID'].isin(remove_tools) ]\n",
    "repo_contributors = repo_contributors[~repo_contributors['UniqueID'].isin(remove_tools)]"
   ]
  },
  {
   "cell_type": "markdown",
   "metadata": {},
   "source": [
    "#### Calculate AppCount"
   ]
  },
  {
   "cell_type": "code",
   "execution_count": null,
   "metadata": {},
   "outputs": [],
   "source": [
    "zkp_repos.loc[zkp_repos[\"Type\"] == \"Application\", \"Tool\"] = zkp_repos[\"Tool\"].str.replace('[', '').str.replace(']', '').str.replace('\\'', '').str.split(', ')\n",
    "zkp_repos_exploded = zkp_repos.explode('Tool')"
   ]
  },
  {
   "cell_type": "code",
   "execution_count": null,
   "metadata": {},
   "outputs": [],
   "source": [
    "tool_counts = zkp_repos_exploded[\"Tool\"].value_counts().reset_index()\n",
    "\n",
    "tool_counts.columns = [\"Tool\", \"AppCount\"]\n",
    "tool_counts = tool_counts.merge(\n",
    "    zkp_repos[zkp_repos[\"Type\"] == \"Tool\"], left_on=\"Tool\", right_on=\"Name\", how=\"outer\"\n",
    ")[[\"UniqueID\", \"AppCount\"]]"
   ]
  },
  {
   "cell_type": "markdown",
   "metadata": {},
   "source": [
    "### **Section 1: Analyse metrics for each Question**"
   ]
  },
  {
   "cell_type": "markdown",
   "metadata": {},
   "source": [
    "## Q1: **Who** are you?"
   ]
  },
  {
   "cell_type": "markdown",
   "metadata": {},
   "source": [
    "#### Application Author Count By Bin"
   ]
  },
  {
   "cell_type": "code",
   "execution_count": null,
   "metadata": {},
   "outputs": [],
   "source": [
    "application_committers = application_commits.groupby('UniqueID')['Author'].nunique().reset_index()\n",
    "application_committers.rename(columns={'Author': 'AuthorCount'}, inplace=True)\n",
    "application_committers.sort_values(by=['AuthorCount'], ascending=False, inplace=True)\n",
    "bins = np.logspace(np.log10(0.5), np.log10(max(application_committers['AuthorCount'])), num=10)\n",
    "bins = np.round(bins)\n",
    "application_committers['AuthorGroup'] =  pd.cut(application_committers['AuthorCount'], bins=bins)\n",
    "bin_counts = application_committers['AuthorGroup'].value_counts().sort_index().reset_index()\n",
    "bin_counts['AuthorGroup'] = bin_counts['AuthorGroup'].astype(str)\n",
    "bin_counts.rename(columns={'count': 'Count'}, inplace=True)\n",
    "\n",
    "fig = px.bar(bin_counts,  \n",
    "             x='AuthorGroup', \n",
    "             y='Count',\n",
    "             title='Application Author Count Distribution per Bin',\n",
    "             template='plotly_dark', \n",
    "             )\n",
    "\n",
    "fig.show()"
   ]
  },
  {
   "cell_type": "markdown",
   "metadata": {},
   "source": [
    "From the graph above it is clear that the first bin (0,1] contains the most (331) applications. This means that 331 out of the 917 applications have 1 author. \n",
    "\n",
    "The second largest bin is (2, 5] which contains 215 applications. The third largest bin is (1,2] which contains 159 applications. \n",
    "\n",
    "These bins can be joined to form the bin (0, 5] which contains 707 applications. This accounts for about ~77% of all applications. This shows that most applications have 5 or less authors. "
   ]
  },
  {
   "cell_type": "markdown",
   "metadata": {},
   "source": [
    "##### AuthorCount Outliers"
   ]
  },
  {
   "cell_type": "code",
   "execution_count": null,
   "metadata": {},
   "outputs": [],
   "source": [
    "author_outliers = application_committers\n",
    "z_scores = stats.zscore(application_committers['AuthorCount'])\n",
    "outliers = (np.abs(z_scores) > 3)\n",
    "author_outliers['Outliers'] = outliers\n",
    "author_outliers = author_outliers[author_outliers['Outliers'] == True]\n",
    "author_outliers"
   ]
  },
  {
   "cell_type": "markdown",
   "metadata": {},
   "source": [
    "#### Application Author Count\n"
   ]
  },
  {
   "cell_type": "code",
   "execution_count": null,
   "metadata": {},
   "outputs": [],
   "source": [
    "fig = px.scatter(application_committers,  x='UniqueID', y='AuthorCount',\n",
    "                   color='AuthorGroup',\n",
    "                   title='Application Author Count Distribution',\n",
    "                   template='plotly_dark', \n",
    "                )\n",
    "fig.show()"
   ]
  },
  {
   "cell_type": "markdown",
   "metadata": {},
   "source": [
    "The graph above shows the individual author counts for each application. \n",
    "\n",
    "\n",
    "`bitcoinprivate-legacy/btcprivate` has an author count of 455. Apart for this repo, the range from author counts is betweeen 1 and 133. \n",
    "\n",
    "Why does `bitcoinprivate-legacy/btcprivate` have such a high author count compared to other repositories? [`bitcoinprivate-legacy/btcprivate`](https://github.com/BTCPrivate/BitcoinPrivate-legacy) seems to be a popular repository based in the # of forks and # of stars. This may be why there are many authors contributing to the project. \n",
    "\n",
    "`bitcoinprivate-legacy/btcprivate` is (was) an open-source project where contributions are encouraged and welcome by the creation of code reviews. The workflow seems to be a combination of the Fork-and-Pull Workflow (where contributors create branches to implement a feature or fix an issue which is them merged to the main branch) and the Centralized Workflow (where some contributors commit directly to the main repository). "
   ]
  },
  {
   "cell_type": "markdown",
   "metadata": {},
   "source": [
    "#### Application Commit Count by Bin"
   ]
  },
  {
   "cell_type": "code",
   "execution_count": null,
   "metadata": {},
   "outputs": [],
   "source": [
    "commit_counts = application_commits.groupby('UniqueID')['CommitHash'].count().reset_index()\n",
    "commit_counts.rename(columns={'CommitHash': 'CommitCount'}, inplace=True)\n",
    "bins = [min(commit_counts['CommitCount']) - 0.5, *np.logspace(np.log10(min(commit_counts['CommitCount'])), np.log10(max(commit_counts['CommitCount'])), num=20)]\n",
    "bins = np.round(bins)\n",
    "commit_counts['CommitGroup'] =  pd.cut(commit_counts['CommitCount'], bins=bins)\n",
    "bin_commit_counts = commit_counts['CommitGroup'].value_counts().sort_index().reset_index()\n",
    "bin_commit_counts.rename(columns={'count': 'Count'}, inplace=True)\n",
    "bin_commit_counts['CommitGroup'] = bin_commit_counts['CommitGroup'].astype(str)\n",
    "\n",
    "fig = px.bar(bin_commit_counts,  x='CommitGroup', y='Count',\n",
    "                   title='Application Commit Count by Bins',\n",
    "                   template='plotly_dark', \n",
    "                )\n",
    "\n",
    "fig.show()"
   ]
  },
  {
   "cell_type": "markdown",
   "metadata": {},
   "source": [
    "The distribution of commit counts seems to be highest towards the middle bins (skewed slightly towards the right). \n",
    "\n",
    "Higher commit counts could indicate projects that are maintained over time, whereas lower commit counts could indicate projects that existed for a limited time (or are no longer being maintained). "
   ]
  },
  {
   "cell_type": "markdown",
   "metadata": {},
   "source": [
    "##### CommitCount Outliers"
   ]
  },
  {
   "cell_type": "code",
   "execution_count": null,
   "metadata": {},
   "outputs": [],
   "source": [
    "commit_outliers = commit_counts\n",
    "z_scores = stats.zscore(commit_counts['CommitCount'])\n",
    "outliers = (np.abs(z_scores) > 3)\n",
    "commit_counts['Outliers'] = outliers\n",
    "commit_outliers = commit_counts[commit_counts['Outliers'] == True]\n",
    "commit_outliers"
   ]
  },
  {
   "cell_type": "markdown",
   "metadata": {},
   "source": [
    "#### Application Lifespan by AgeGroup"
   ]
  },
  {
   "cell_type": "code",
   "execution_count": null,
   "metadata": {},
   "outputs": [],
   "source": [
    "zkp_applications = zkp_repos[zkp_repos['Type'] == 'Application']\n",
    "\n",
    "first_commit = application_commits.groupby('UniqueID')['AuthorDate'].min().reset_index()\n",
    "first_commit.rename(columns={'AuthorDate': 'FirstCommitDate'}, inplace=True)\n",
    "first_commit = zkp_applications.merge(first_commit[['UniqueID', 'FirstCommitDate']], left_on='UniqueID', right_on='UniqueID', how='left').reset_index()\n",
    "zkp_applications = zkp_applications.merge(first_commit[['UniqueID', 'FirstCommitDate']], left_on='UniqueID', right_on='UniqueID', how='left').reset_index()\n",
    "\n",
    "last_commit = application_commits.groupby('UniqueID')['AuthorDate'].max().reset_index()\n",
    "last_commit.rename(columns={'AuthorDate': 'LastCommitDate'}, inplace=True)\n",
    "last_commit = zkp_applications.merge(last_commit[['UniqueID', 'LastCommitDate']], left_on='UniqueID', right_on='UniqueID', how='left').reset_index()\n",
    "zkp_applications = zkp_applications.merge(last_commit[['UniqueID', 'LastCommitDate']], left_on='UniqueID', right_on='UniqueID', how='left').reset_index()\n",
    "\n",
    "zkp_applications['FirstCommitDate'] = pd.to_datetime(zkp_applications['FirstCommitDate'], utc=True)\n",
    "zkp_applications['LastCommitDate'] = pd.to_datetime(zkp_applications['LastCommitDate'], utc=True)\n",
    "zkp_applications['Age'] = (zkp_applications['LastCommitDate'] - zkp_applications['FirstCommitDate']).dt.days\n",
    "zkp_applications.loc[zkp_applications['Age'] == 0,'Age'] = 0.5\n",
    "lifespan_bins = np.logspace(np.log10(min(zkp_applications['Age'])), np.log10(max(zkp_applications['Age'])), num=50)\n",
    "lifespan_bins = np.round(lifespan_bins)\n",
    "zkp_applications['AgeGroup'] =  pd.cut(zkp_applications['Age'], bins=lifespan_bins, duplicates='drop')\n",
    "lifespan_bin_counts = zkp_applications['AgeGroup'].value_counts().sort_index().reset_index()\n",
    "lifespan_bin_counts.rename(columns={'count': 'Count'}, inplace=True)\n",
    "lifespan_bin_counts['AgeGroup'] = lifespan_bin_counts['AgeGroup'].astype(str)\n",
    "\n",
    "fig = px.bar(lifespan_bin_counts,  x='AgeGroup', y='Count',\n",
    "                   title='Application Lifespan (in days) by Bins',\n",
    "                   template='plotly_dark', \n",
    "                )\n",
    "\n",
    "fig.show()"
   ]
  },
  {
   "cell_type": "markdown",
   "metadata": {},
   "source": [
    "By looking at the lifespans, the application purpose could potentially be deduced - short lifespans could indicate smaller projects, experimentation, academic research whereas longer lifespans could indicate ongoing projects. \n",
    "\n",
    "The majority of applications existed for less than a year (365 days). This could give some indication about the type of these applications - repositories created for experimentation, research or academic purposes would have a shorter lifespan than those intended for industry projects. \n",
    "\n",
    "The bin (0,1] contains a large amount of applications compared to the other bins - 83 applications existed for a day or less. "
   ]
  },
  {
   "cell_type": "markdown",
   "metadata": {},
   "source": [
    "##### Application Lifespan Outliers"
   ]
  },
  {
   "cell_type": "code",
   "execution_count": null,
   "metadata": {},
   "outputs": [],
   "source": [
    "lifespan_outliers = zkp_applications.merge(application_committers, left_on='UniqueID', right_on='UniqueID', how='left')\n",
    "z_scores = stats.zscore(lifespan_outliers['Age'].dropna())\n",
    "outliers = (np.abs(z_scores) > 3)\n",
    "lifespan_outliers['Outliers'] = outliers\n",
    "lifespan_outliers\n",
    "lifespan_outliers = lifespan_outliers[lifespan_outliers['Outliers'] == True][['UniqueID', 'Age', 'AuthorCount']]\n",
    "lifespan_outliers.sort_values(by=['Age', 'AuthorCount'])"
   ]
  },
  {
   "cell_type": "code",
   "execution_count": null,
   "metadata": {},
   "outputs": [],
   "source": [
    "authors_vs_lifespan = zkp_applications.merge(application_committers, left_on='UniqueID', right_on='UniqueID')\n",
    "\n",
    "fig = px.scatter(authors_vs_lifespan, \n",
    "            x='Age', \n",
    "            y='AuthorCount',\n",
    "            title='Relationship between the Lifespan & AuthorCount',\n",
    "            template='plotly_dark', \n",
    "            hover_name='UniqueID', \n",
    "            trendline='ols'\n",
    "            )\n",
    "\n",
    "fig.show()"
   ]
  },
  {
   "cell_type": "markdown",
   "metadata": {},
   "source": [
    "As seen in the graph above, there is a weak correlation (R^2 = 0.297) between the Age of an application and its AuthorCount.\n",
    "\n",
    "`btcprivate-legacy` being an outlier as it has a high author count and age"
   ]
  },
  {
   "cell_type": "markdown",
   "metadata": {},
   "source": [
    "#### Repository Sizes of Short-lived Applications"
   ]
  },
  {
   "cell_type": "code",
   "execution_count": null,
   "metadata": {},
   "outputs": [],
   "source": [
    "shortlived_apps = zkp_applications[zkp_applications['Age'] <= 1]\n",
    "shortlived_apps.sort_values(by='Size', inplace=True)\n",
    "\n",
    "fig = px.bar(shortlived_apps, \n",
    "            x='UniqueID', \n",
    "            y='Size',\n",
    "            title='Application Size of Projects with Lifespan <= 1 Day',\n",
    "            template='plotly_dark', \n",
    "            text='Size'\n",
    "            )\n",
    "\n",
    "fig.show()"
   ]
  },
  {
   "cell_type": "markdown",
   "metadata": {},
   "source": [
    "From the graph above it can be seen that a large portion of short-lived applications have small repos sizes. This could suggest that a project was started and neglected (or contains a small example implementation from a tutorial). Larger repository sizes could indicate that a project was created and developed prior and then only pushed to GitHub. "
   ]
  },
  {
   "cell_type": "markdown",
   "metadata": {},
   "source": [
    "#### Application Lifespan"
   ]
  },
  {
   "cell_type": "code",
   "execution_count": null,
   "metadata": {},
   "outputs": [],
   "source": [
    "zkp_applications.sort_values(by='Age', ascending=True, inplace=True)\n",
    "fig = px.scatter(zkp_applications, \n",
    "                x='UniqueID', \n",
    "                y='Age',\n",
    "                color='AgeGroup',\n",
    "                title='Application Lifespan',\n",
    "                template='plotly_dark', \n",
    "                category_orders={'UniqueID': zkp_applications['UniqueID']}, \n",
    "                height=1000\n",
    "                )\n",
    "fig.update_layout(showlegend=False)\n",
    "fig.show()"
   ]
  },
  {
   "cell_type": "markdown",
   "metadata": {},
   "source": [
    "This graph illustrates the distribution of the lifespans of the individual applications, coloured by their group. The last group (3376, 4057] contains a singular repository `bitcoinprivate-legacy/btcprivate`.\n",
    "\n",
    "The last few groups appear to have a greater difference in lifespans, compared to the steady increase of shorter lifespan groups.  \n",
    "\n",
    "Here are some of the applications with the highest lifespans: \n",
    "\n",
    "|     | UniqueID                                |   Age | LastCommitDate            |   Stars |   Forks |   Watchers |\n",
    "|----:|:----------------------------------------|------:|:--------------------------|--------:|--------:|-----------:|\n",
    "|  48 | bitcoinprivate-legacy/btcprivate        |  4057 | 2020-10-08 08:28:52+00:00 |     274 |     130 |        274 |\n",
    "|  45 | bellpepper/lurk-lab                     |  2859 | 2023-10-22 15:37:43+00:00 |      18 |       2 |         18 |\n",
    "| 320 | jsnark/akosba                           |  2565 | 2022-12-17 22:57:29+00:00 |     192 |      85 |        192 |\n",
    "| 916 | zokrates/zokrates                       |  2425 | 2023-09-19 09:20:24+00:00 |    1632 |     335 |       1632 |\n",
    "| 344 | libsnark/lattice-based-zksnarks         |  2349 | 2020-11-06 20:37:38+00:00 |       1 |       1 |          1 |\n",
    "| 901 | zokrates/scrypt-inc                     |  2269 | 2023-04-16 16:53:26+00:00 |      14 |       1 |         14 |\n",
    "| 477 | protocols/loopring                      |  2258 | 2023-08-29 01:45:54+00:00 |     288 |      83 |        288 |\n",
    "| 374 | mina/minaprotocol                       |  2135 | 2023-10-23 11:17:58+00:00 |    1799 |     457 |       1799 |\n",
    "| 437 | pequin/pepper-project                   |  2125 | 2022-04-05 22:32:30+00:00 |     119 |      46 |        119 |\n",
    "| 803 | zk-swap-libsnark/eyblockchain           |  2003 | 2019-11-27 15:24:32+00:00 |       1 |       1 |          1 |\n",
    "|  27 | ark-bulletproofs/findoranetwork         |  1925 | 2023-05-12 20:49:46+00:00 |       5 |       1 |          5 |\n",
    "| 402 | noah/findoranetwork                     |  1729 | 2023-08-03 03:58:30+00:00 |      85 |      26 |         85 |\n",
    "| 739 | xjsnark/akosba                          |  1655 | 2022-11-27 07:04:51+00:00 |     173 |      31 |        173 |\n",
    "| 759 | zeth/clearmatics                        |  1651 | 2022-12-07 18:05:49+00:00 |      52 |      23 |         52 |\n",
    "| 337 | lattice-snarg/dwu4                      |  1646 | 2022-04-14 17:04:03+00:00 |       7 |       2 |          7 |\n",
    "| 531 | semaphore/semaphore-protocol            |  1623 | 2023-10-18 12:11:30+00:00 |     756 |     130 |        756 |\n",
    "|   6 | abpr22/baghery                          |  1599 | 2023-08-19 07:50:49+00:00 |       4 |       2 |          4 |\n",
    "| 134 | celo-bls-snark-rs/celo-org              |  1576 | 2023-09-17 08:23:32+00:00 |      82 |      24 |         82 |\n",
    "| 558 | snarkos/aleohq                          |  1532 | 2023-10-22 22:04:23+00:00 |    2714 |    1901 |       2714 |\n",
    "| 346 | libsnark_gadgetlib3/matter-labs-archive |  1511 | 2018-07-23 18:40:46+00:00 |       4 |       2 |          4 |\n",
    "\n",
    "\n",
    "It makes sense that applications with higher lifespans to be popular and active projects. \n",
    "\n",
    "This holds for some applications, such as `mina/minaprotocol`, `snarkos/aleohq`, `protocols/loopring` and `semaphore/semaphore-protocol`. \n",
    "\n",
    "Not all active application with high lifespans are popular, as seen in `bellpepper/lurk-lab`, `abpr22/baghery`, `ark-bulletproofs/findoranetwork` or `zokrates/scrypt-inc`. \n",
    "\n",
    "Some applications have a high lifespan, but are not active (have not been updated in 2023). For instance, `bitcoinprivate-legacy/btcprivate`. This repo was popular (it is a Bitcoin and Zclassic fork which are some of the earlier projects of the space), but is no longer being maintained. It might be because the project was moved to a elsewhere, as [this article](https://bitcoinprivate.medium.com/the-dawn-of-a-new-age-for-bitcoin-private-5e34d8497f6) explains and as the README states, *\"10/8/2020 - Current chain offline - New code and chain coming soon\"*.\n"
   ]
  },
  {
   "cell_type": "code",
   "execution_count": null,
   "metadata": {},
   "outputs": [],
   "source": [
    "lifespan_commits = zkp_applications.merge(commit_counts[['UniqueID', 'CommitCount']], left_on='UniqueID', right_on='UniqueID', how='left')\n",
    "\n",
    "fig = px.scatter(lifespan_commits,  \n",
    "                x='Age', \n",
    "                y='CommitCount',\n",
    "                # color='UniqueID',\n",
    "                hover_name='UniqueID',\n",
    "                title='Relationship Between Application Lifespan and No. of Commits',\n",
    "                template='plotly_dark', \n",
    "                trendline='ols',\n",
    "                # color_discrete_sequence=['pink']\n",
    "                )\n",
    "\n",
    "fig.show()"
   ]
  },
  {
   "cell_type": "markdown",
   "metadata": {},
   "source": [
    "An outlier observed in the graph above is `mina/minaprotocol` which is due to the application's extremely high CommitCount of 27404 (the second highest commit count is 11051). \n",
    "\n",
    "Mina's high *CommitCount* could be as a result of multiple reasons, such as the Continuous Integration/Continuous Deployment system of the application (repositories implementing CI/CD practices often have a higher commit count due to automated testing, building, and deployment processes triggering commits) or the project's version control standards (repositories following version control best practices, such as making small, atomic commits, could accumulate a higher commit count). Looking at the commits, there are many which are as a result of merging different PRs from different branches. Mina follows a fork-and-pull development strategy which gives anyone access to contribute. \n",
    "\n",
    "Another outlier, mostly due to the *Age* axis, is `bitcoinprivate-legacy/btcprivate`, which is the application with the highest lifespan.\n",
    "\n",
    "There is weak correlation (R^2 = 0.201) between the Age (lifespan) of an application and its CommitCount."
   ]
  },
  {
   "cell_type": "code",
   "execution_count": null,
   "metadata": {},
   "outputs": [],
   "source": [
    "authorcount_commitcount = zkp_applications.merge(application_committers, left_on='UniqueID', right_on='UniqueID', how='left')\n",
    "authorcount_commitcount = authorcount_commitcount.merge(commit_counts[['UniqueID', 'CommitCount']], left_on='UniqueID', right_on='UniqueID', how='left')\n",
    "\n",
    "fig = px.scatter(authorcount_commitcount,  \n",
    "                x='AuthorCount', \n",
    "                y='CommitCount',\n",
    "                # color='UniqueID',\n",
    "                hover_name='UniqueID',\n",
    "                title='Relationship Between Application Author Count and No. of Commits',\n",
    "                template='plotly_dark', \n",
    "                trendline='ols',\n",
    "                )\n",
    "\n",
    "fig.show()"
   ]
  },
  {
   "cell_type": "markdown",
   "metadata": {},
   "source": [
    "The outliers with AuthorCount > 100 are `bitcoinprivate-legacy/btcprivate`, `mina/minaprotocol` and `starknet-ecosystem.com/419labs`.\n",
    "\n",
    "- `bitcoinprivate-legacy/btcprivate`: has the highest author count and a high commit count. This may be because it is an open-source project with popularity and encouragement to contribute. The README states, *\"Code review is welcome!\"*. \n",
    "- `starknet-ecosystem.com/419labs`: has a high author count and a commit count that is within normal range. This repo seems to follow a Community Driven development model, where contributions are encouraged, as indicated in their README. Contributors are not limited to a fixed/regulated set of users. \n",
    "- `mina/minaprotocol`: has the highest commit count and high author count. Mina seems to follow the Fork and Pull Request Model development model. As indicated in their [Contribution](https://github.com/MinaProtocol/mina/blob/develop/CONTRIBUTING.md) docs, anyone can clone the repo, fork and implement code changes. Developers have freedom to contribute to this application, which may account for the high author count. \n",
    "\n",
    "There is moderate correlation (R^2 = 0.337) between the AuthorCount and CommitCount of an application."
   ]
  },
  {
   "cell_type": "markdown",
   "metadata": {},
   "source": [
    "#### Application Author Count and Application Age"
   ]
  },
  {
   "cell_type": "code",
   "execution_count": null,
   "metadata": {},
   "outputs": [],
   "source": [
    "author_lifespan = zkp_applications.merge(application_committers, left_on='UniqueID', right_on='UniqueID', how='left')\n",
    "\n",
    "fig = px.scatter(author_lifespan,  \n",
    "                x='AuthorCount', \n",
    "                y='Age',\n",
    "                # color='UniqueID',\n",
    "                hover_name='UniqueID',\n",
    "                title='Relationship Between Application Author Count and Application Age',\n",
    "                template='plotly_dark', \n",
    "                trendline='ols'\n",
    "                )\n",
    "\n",
    "fig.show()"
   ]
  },
  {
   "cell_type": "markdown",
   "metadata": {},
   "source": [
    "There is a weak to moderate correlation (R^2 = 0.297) between the AuthorCount and Age of an application. \n",
    "\n",
    "Outliers include: \n",
    "\n",
    "- `bitcoinprivate-legacy/btcprivate`: has the highest author count and highest age\n",
    "- `starknet-ecosystem.com/419labs`: has a high author count and an age that is within normal range\n",
    "- `mina/minaprotocol`: has a high author count and moderate to high age\n",
    "\n",
    "These repos were outliers discussed after the previous graph. \n"
   ]
  },
  {
   "cell_type": "markdown",
   "metadata": {},
   "source": [
    "#### Application Lifespan & No. of Stars"
   ]
  },
  {
   "cell_type": "code",
   "execution_count": null,
   "metadata": {},
   "outputs": [],
   "source": [
    "\n",
    "fig = px.scatter(zkp_applications,  \n",
    "                x='Age', \n",
    "                y='Stars',\n",
    "                # color='UniqueID',\n",
    "                hover_name='UniqueID',\n",
    "                title='Relationship Between Application Lifespan and No. of Stars',\n",
    "                template='plotly_dark', \n",
    "                trendline='ols'\n",
    "                )\n",
    "\n",
    "fig.show()\n"
   ]
  },
  {
   "cell_type": "markdown",
   "metadata": {},
   "source": [
    "From the graph above, it can be observed that there is a weak correlation (R^2 = 0.012) between the No. of Stars and Lifespan of an application. \n",
    "\n",
    "`sismo-badges` has a low age but a high amount of stars. Although the repository has a young age, it seems popular based on the #stars, #forks, #watchers and its Twitter account. "
   ]
  },
  {
   "cell_type": "markdown",
   "metadata": {},
   "source": [
    "#### Application Lifespan & No. of Forks"
   ]
  },
  {
   "cell_type": "code",
   "execution_count": null,
   "metadata": {},
   "outputs": [],
   "source": [
    "\n",
    "fig = px.scatter(zkp_applications,  \n",
    "                x='Age', \n",
    "                y='Forks',\n",
    "                # color='UniqueID',\n",
    "                hover_name='UniqueID',\n",
    "                title='Relationship Between Application Lifespan and No. of Forks',\n",
    "                template='plotly_dark', \n",
    "                trendline='ols'\n",
    "                )\n",
    "\n",
    "fig.show()\n"
   ]
  },
  {
   "cell_type": "markdown",
   "metadata": {},
   "source": [
    "From the graph above, it can be observed that there is a weak correlation (R^2 = 0.074) between the No. of Forks and Lifespan of an application. "
   ]
  },
  {
   "cell_type": "markdown",
   "metadata": {},
   "source": [
    "#### Application Start Date"
   ]
  },
  {
   "cell_type": "code",
   "execution_count": null,
   "metadata": {},
   "outputs": [],
   "source": [
    "zkp_repos['Created'] = pd.to_datetime(zkp_repos['Created'], utc=True)\n",
    "zkp_repos['MonthYear'] = zkp_repos['Created'].dt.to_period('M')\n",
    "\n",
    "zkp_tools = zkp_repos[zkp_repos['Type'] == 'Tool']\n",
    "tool_monthly_counts = zkp_tools.groupby('MonthYear').size().reset_index()\n",
    "tool_monthly_counts.rename(columns={0: 'Count'}, inplace=True)\n",
    "tool_monthly_counts['MonthYear'] = tool_monthly_counts['MonthYear'].astype(str)\n",
    "\n",
    "# zkp_applications = zkp_repos[zkp_repos['Type'] == 'Application']\n",
    "start_date_df = zkp_repos[zkp_repos['Type'] == 'Application']\n",
    "app_monthly_counts = start_date_df.groupby('MonthYear').size().reset_index()\n",
    "app_monthly_counts.rename(columns={0: 'Count'}, inplace=True)\n",
    "app_monthly_counts['MonthYear'] = app_monthly_counts['MonthYear'].astype(str)\n",
    "\n",
    "fig = px.bar(app_monthly_counts,  \n",
    "            x='MonthYear',\n",
    "            y='Count',\n",
    "            title='Start Date of Application Repositories',\n",
    "            template='plotly_dark', \n",
    "            )\n",
    "\n",
    "fig.show()\n",
    "\n",
    "fig = px.bar(tool_monthly_counts,  \n",
    "            x='MonthYear',\n",
    "            y='Count',\n",
    "            title='Start Date of Tool Repositories',\n",
    "            template='plotly_dark', \n",
    "            )\n",
    "\n",
    "fig.show()\n",
    "\n",
    "google_analytics = pd.read_csv('zkp_google_search.csv', sep=';')\n",
    "google_analytics['Month'] = google_analytics['Month'].astype(str)\n",
    "google_analytics.rename(columns={'zero knowledge proof: (Worldwide)': 'Count'}, inplace=True)\n",
    "\n",
    "fig = px.line(google_analytics,  \n",
    "            x='Month',\n",
    "            y='Count',\n",
    "            title='Google Search Term Popularity Metrics for term=\"zero knowledge proof\"',\n",
    "            template='plotly_dark', \n",
    "            )\n",
    "\n",
    "fig.show()"
   ]
  },
  {
   "cell_type": "markdown",
   "metadata": {},
   "source": [
    "From the first graph, it is clear that there was an increase in applications created over time - the number of applications picking up from ~2019.\n",
    "\n",
    "This may be due to the rise in popularity of ZKPs, especially in the blockchain space, following their use in popular projects such as Ethereum. \n",
    "\n",
    "A similar pattern can be seen in the start dates of the ZKP Tool repositories with an increase from 2018 onwards. \n",
    "\n",
    "For tool repositories, the counts tend to stay within the same range from the years 2018 - 2023, with higher counts in Sep 2020 and Oct 2020. \n",
    "\n",
    "\n",
    "Comparing the application counts to the Google Search Term popularity, there is a similar trend in uptake from the end of 2021 onwards. \n",
    "\n",
    "\n",
    "(**Google Analytics**: Numbers represent search interest relative to the highest point on the chart for the given region and time. A value of 100 is the peak popularity for the term. A value of 50 means that the term is half as popular. A score of 0 means there was not enough data for this term.)"
   ]
  },
  {
   "cell_type": "markdown",
   "metadata": {},
   "source": [
    "### Active"
   ]
  },
  {
   "cell_type": "markdown",
   "metadata": {},
   "source": [
    "#### Number of Active Applications"
   ]
  },
  {
   "cell_type": "code",
   "execution_count": null,
   "metadata": {},
   "outputs": [],
   "source": [
    "application_commits['AuthorDate'] = pd.to_datetime(application_commits['AuthorDate'])\n",
    "active_applications = application_commits[application_commits['AuthorDate'].dt.year == 2023]\n",
    "active_applications = active_applications['UniqueID'].unique()\n",
    "\n",
    "inactive_applications = application_commits['UniqueID'].unique()\n",
    "inactive_applications =  set(inactive_applications) - set(active_applications)\n",
    "\n",
    "apps = {\n",
    "    'Inactive Applications': [len(inactive_applications)],\n",
    "    'Active Applications': [len(active_applications)]\n",
    "}\n",
    "\n",
    "active_vs_inactive = pd.DataFrame(apps)\n",
    "active_vs_inactive = active_vs_inactive.melt(var_name='Column', value_name='Length')\n",
    "\n",
    "\n",
    "fig = px.pie(active_vs_inactive, \n",
    "             names='Column', \n",
    "             values='Length', \n",
    "             title='Active vs. Inactive Applications',\n",
    "             template='plotly_dark',\n",
    "             )\n",
    "fig.show()"
   ]
  },
  {
   "cell_type": "markdown",
   "metadata": {},
   "source": [
    "The divide between active and inactive applications is near to equal. **Why**?"
   ]
  },
  {
   "cell_type": "markdown",
   "metadata": {},
   "source": [
    "#### Number of Active Authors"
   ]
  },
  {
   "cell_type": "code",
   "execution_count": null,
   "metadata": {},
   "outputs": [],
   "source": [
    "application_commits['AuthorDate'] = pd.to_datetime(application_commits['AuthorDate'], utc=True)\n",
    "active_authors = application_commits[application_commits['AuthorDate'].dt.year == 2023]\n",
    "active_authors = active_authors.groupby('UniqueID')['Author'].nunique().reset_index()\n",
    "active_authors.rename(columns={'Author': 'ActiveAuthorCount'}, inplace=True)\n",
    "active_authors.sort_values(by='ActiveAuthorCount', inplace=True)\n",
    "active_authors = active_authors.merge(zkp_applications[['UniqueID']], left_on='UniqueID', right_on='UniqueID', how='right')\n",
    "active_authors = active_authors.fillna(0)\n",
    "active_author_bins = np.logspace(np.log10(active_authors[active_authors['ActiveAuthorCount'] > 0]['ActiveAuthorCount'].min()-0.5), np.log10(active_authors['ActiveAuthorCount'].max()), num=9)\n",
    "active_author_bins = np.round(active_author_bins)\n",
    "active_author_bins = np.insert(active_author_bins, 0, -np.inf)\n",
    "active_authors['ActiveAuthorCountGroup'] =  pd.cut(active_authors['ActiveAuthorCount'], bins=active_author_bins, duplicates='drop')\n",
    "active_author_bin_counts = active_authors['ActiveAuthorCountGroup'].value_counts().sort_index().reset_index()\n",
    "active_author_bin_counts.rename(columns={'count': 'Count'}, inplace=True)\n",
    "active_author_bin_counts['ActiveAuthorCountGroup'] = active_author_bin_counts['ActiveAuthorCountGroup'].astype(str)\n",
    "\n",
    "\n",
    "fig = px.bar(active_author_bin_counts,  \n",
    "            x='ActiveAuthorCountGroup',\n",
    "            y='Count',\n",
    "            title='No. of Active Authors by Bins',\n",
    "            template='plotly_dark', \n",
    "            )\n",
    "\n",
    "fig.show()\n",
    "\n",
    "fig = px.bar(bin_counts,  \n",
    "             x='AuthorGroup', \n",
    "             y='Count',\n",
    "             title='Application Author Count Distribution per Bin',\n",
    "             template='plotly_dark', \n",
    "             )\n",
    "\n",
    "fig.show()\n"
   ]
  },
  {
   "cell_type": "markdown",
   "metadata": {},
   "source": [
    "The largest bin is (0-inf,0] which indicates that a large amount of repositories (452) have no active authors. The second largest bin is (0,1] with count 164. Fewer repositories repositories have large active author counts. \n",
    "\n",
    "By comparing the ActiveAuthorCounts the total AuthorCount (all authors, active and inactive), seen previously, a decrease in the count range can be seen. \n",
    "\n",
    "This could indicate that not all authors of a repository are active. "
   ]
  },
  {
   "cell_type": "markdown",
   "metadata": {},
   "source": [
    "##### No. of Active Authors Outliers"
   ]
  },
  {
   "cell_type": "code",
   "execution_count": null,
   "metadata": {},
   "outputs": [],
   "source": [
    "z_scores = stats.zscore(active_authors['ActiveAuthorCount'])\n",
    "outliers = (np.abs(z_scores) > 3)\n",
    "active_authors['Outliers'] = outliers\n",
    "active_authors[active_authors['Outliers'] == True].sort_values(by='ActiveAuthorCount', ascending=False)\n"
   ]
  },
  {
   "cell_type": "code",
   "execution_count": null,
   "metadata": {},
   "outputs": [],
   "source": [
    "active_authors.sort_values(by='ActiveAuthorCount', inplace=True)\n",
    "\n",
    "fig = px.scatter(active_authors,  \n",
    "            x='UniqueID',\n",
    "            y='ActiveAuthorCount',\n",
    "            title='No. of Active Authors',\n",
    "            template='plotly_dark', \n",
    "            height=1000\n",
    "            )\n",
    "\n",
    "fig.show()\n"
   ]
  },
  {
   "cell_type": "markdown",
   "metadata": {},
   "source": [
    "A similar trend is seem in the graph when looking at higher AuthorCounts as seen in the total AuthorCounts previously. \n",
    "\n",
    "- `cairo` has the highest number of active authors with a count of 75. This is very close to its total author count of 79.\n",
    "- `btcprivate-legacy` has the highest number of total AuthorCount as seen previously, however, it has no active authors\n",
    "- `mina/minaprotocol` had one of the previously high AuthorCounts of 108, but has only 41 active authors\n",
    "- `starknet-ecosystem.com/419labs` had one of the previously high AuthorCounts of 141, now has  72 active authors (the 2nd highest ActiveAuthorCount)\n",
    "- `madara/keep-starknet-strange` has the highest ActiveAuthorCount with 69 active authors (all authors are active)\n",
    "- `starknetbook/starknet-edu`\thas the 4th highest ActiveAuthorCount with 66 active authors (with a AuthorCount of 70)\n"
   ]
  },
  {
   "cell_type": "markdown",
   "metadata": {},
   "source": [
    "#### Ratio Between Total Authors and Active Authors"
   ]
  },
  {
   "cell_type": "code",
   "execution_count": null,
   "metadata": {},
   "outputs": [],
   "source": [
    "active_comparison = application_committers[['UniqueID', 'AuthorCount']].merge(active_authors[['UniqueID', 'ActiveAuthorCount']], left_on='UniqueID', right_on='UniqueID', how='left')\n",
    "active_comparison['ActiveInActive'] = active_comparison['ActiveAuthorCount'] / active_comparison['AuthorCount']\n",
    "active_comparison = active_comparison.fillna(0)\n",
    "active_comparison.sort_values(by='ActiveInActive', inplace=True)\n",
    "bins = np.linspace(0, 1, 11)\n",
    "bins = np.insert(bins, 0, -np.inf)\n",
    "active_comparison['ActiveInActiveGroup'] =  pd.cut(active_comparison['ActiveInActive'], bins=bins)\n",
    "active_inactive_bin_counts = active_comparison['ActiveInActiveGroup'].value_counts().sort_index().reset_index()\n",
    "active_inactive_bin_counts.rename(columns={'count': 'Count'}, inplace=True)\n",
    "active_inactive_bin_counts['ActiveInActiveGroup'] = active_inactive_bin_counts['ActiveInActiveGroup'].astype(str)\n",
    "\n",
    "fig = px.bar(active_inactive_bin_counts,  \n",
    "            x='ActiveInActiveGroup',\n",
    "            y='Count',\n",
    "            title='Graph Showing the Ratio of Active Authors to Total Author for a Repository by Bins',\n",
    "            template='plotly_dark', \n",
    "            )\n",
    "\n",
    "fig.show() \n"
   ]
  },
  {
   "cell_type": "markdown",
   "metadata": {},
   "source": [
    "The largest bin is (-inf, 0) which indicates that 450 repositories have 0 active authors, ensuring the the ActiveAuthors to TotalAuthors ratio is 0. \n",
    "\n",
    "Interestingly, the second largest bin is (0.9, 1) with count 270. This bin indicates that most authors in these repositories are active authors. \n",
    "\n",
    "Low ActiveAuthor/Authors ratios could indicate repositories which are inactive (especially where it is 0). \n",
    "\n",
    "High ActiveAuthor/Authors ratios could indicate repositories which are new and/or popular. "
   ]
  },
  {
   "cell_type": "markdown",
   "metadata": {},
   "source": [
    "### Author Company"
   ]
  },
  {
   "cell_type": "markdown",
   "metadata": {},
   "source": [
    "#### Get Companies and Author Count for All Applications"
   ]
  },
  {
   "cell_type": "code",
   "execution_count": null,
   "metadata": {},
   "outputs": [],
   "source": [
    "application_authors = application_authors.drop_duplicates(['Login'])\n",
    "authors = application_authors[application_authors['Type'] == 'User']\n",
    "author_commits = application_commits.merge(authors, left_on='Author', right_on='Login', how='left')\n",
    "author_commits = author_commits.loc[:, ~author_commits.columns.str.contains('^Unnamed')]\n",
    "author_commits.drop_duplicates(inplace=True)\n",
    "author_commits.dropna(subset=['Login'], inplace=True)\n",
    "authors['Company'] = authors['Company'].str.strip()\n",
    "authors['Company'] = authors['Company'].str.lower()\n",
    "authors['Company'] = authors['Company'].str.split(',')\n",
    "\n",
    "authors_exp = authors.explode('Company')\n",
    "authors_exp['Company'] = authors_exp['Company'].str.replace('@', '')\n",
    "authors_exp = authors_exp.drop_duplicates(subset=['Login', 'Company']) \n",
    "\n",
    "company_counts = authors_exp['Company'].value_counts().reset_index()\n",
    "company_counts.rename(columns={'count': 'Count'}, inplace=True)\n",
    "\n",
    "single_occurrence_companies = company_counts[company_counts['Count'] == 1]['Company'].to_list()\n",
    "matching_companies = company_counts[company_counts['Count'] > 1]['Company'].to_list()\n",
    "\n",
    "for company in single_occurrence_companies:\n",
    "    matching_company = difflib.get_close_matches(company, matching_companies, n=1)\n",
    "\n",
    "    if matching_company:\n",
    "        authors_exp.loc[authors_exp['Company'] == company, 'Company'] = matching_company[0]\n",
    "\n",
    "company_counts = authors_exp['Company'].value_counts().reset_index()\n",
    "company_counts.rename(columns={'count': 'Count'}, inplace=True)\n",
    "\n",
    "fig = px.bar(company_counts[company_counts['Count'] > 1],  \n",
    "            x='Company',\n",
    "            y='Count',\n",
    "            title='Graph showing No. of Authors belonging to companies where count > 1',\n",
    "            template='plotly_dark', \n",
    "            )\n",
    "\n",
    "fig.show() "
   ]
  },
  {
   "cell_type": "markdown",
   "metadata": {},
   "source": [
    "The graph above shows the frequency of companies listed in the GitHub \"bio\"'s of the authors. \n",
    "\n",
    "The companies with a frequency of > 1 are shown to reduce noise and help illustrate commonly mentioned companies.  \n",
    "\n",
    "Note that some companies are educational institutions, such as 'Peking University'."
   ]
  },
  {
   "cell_type": "code",
   "execution_count": null,
   "metadata": {},
   "outputs": [],
   "source": [
    "authors_exp = authors_exp.drop_duplicates(subset=['Login']) \n",
    "authors_exp['IsUniversity'] = authors_exp['Company'].str.contains('university')\n",
    "university_authors_count = authors_exp['IsUniversity'].sum()\n",
    "company_authors = authors_exp[authors_exp['Company'].notna()]\n",
    "company_authors = company_authors[company_authors['IsUniversity'] == False]\n",
    "company_authors = company_authors['Login'].nunique()\n",
    "non_company_authors = authors.shape[0] - company_authors\n",
    "\n",
    "non_vs_company = {\n",
    "    'Unspecified Authors': [non_company_authors],\n",
    "    'Company Authors': [company_authors],\n",
    "    'University Authors': [university_authors_count]\n",
    "}\n",
    "\n",
    "non_vs_company = pd.DataFrame(non_vs_company)\n",
    "non_vs_company = non_vs_company.melt(var_name='AuthorType', value_name='Count')\n",
    "\n",
    "fig = px.pie(non_vs_company, \n",
    "             names='AuthorType', \n",
    "             values='Count', \n",
    "             title='Graph showing counts of University, Company, and Unspecified Authors',\n",
    "             template='plotly_dark',\n",
    "             )\n",
    "fig.show()"
   ]
  },
  {
   "cell_type": "markdown",
   "metadata": {},
   "source": [
    "This graph above attempts to illustrate the proportion of authors which are associated with a company, a university or unspecified. \n",
    "\n",
    "The majority (68.5%) of authors have not specified a company in their bio. This could mean that they do no work for a company, or they have simply not specified it. \n",
    "\n",
    "It is important to note, that some authors listed multiple companies/affiliations in their bios. \n",
    "\n",
    "A further exploration was done to see if there are a particular toolset related to users that have a company in their bio, a university in their bio or unspecified. This is shown in the following few graphs. "
   ]
  },
  {
   "cell_type": "markdown",
   "metadata": {},
   "source": [
    "#### Tool Used by Company Authors"
   ]
  },
  {
   "cell_type": "code",
   "execution_count": null,
   "metadata": {},
   "outputs": [],
   "source": [
    "company_authors = authors_exp[authors_exp['Company'].notna()]\n",
    "company_authors = company_authors[company_authors['IsUniversity'] == False]\n",
    "company_authors = application_commits.merge(company_authors, left_on='Author', right_on='Login')\n",
    "\n",
    "zkp_applications_exp = zkp_applications.explode('Tool')\n",
    "company_tools = zkp_applications_exp.merge(company_authors, left_on='UniqueID', right_on='UniqueID')\n",
    "company_tools = company_tools.groupby('Tool')['UniqueID'].nunique().reset_index()\n",
    "company_tools.rename(columns={'UniqueID': 'ToolCount'}, inplace=True)\n",
    "company_tools.sort_values(by='ToolCount', inplace=True, ascending=False)\n",
    "\n",
    "fig = px.bar(company_tools,  \n",
    "            x='Tool',\n",
    "            y='ToolCount',\n",
    "            title='Tools used by Company Applications',\n",
    "            template='plotly_dark', \n",
    "            text='ToolCount'\n",
    "            )\n",
    "\n",
    "fig.show() "
   ]
  },
  {
   "cell_type": "markdown",
   "metadata": {},
   "source": [
    "These are the ToolCounts related to the repos authored by authors who have a company listed in their bio. \n",
    "\n",
    "`arkworks/algebra` is the most commonly occurring tool, closely followed by `arkworks/std` and `arkworks/curves`. The high tool counts for these tools can be attributed to many repos using the Cairo DSL which is built using these tools. [Lambaclass](https://lambdaclass.com/) most commonly occurring company. Lambaclass works on multiple open-source projects, one of them being [Cairo-VM](https://github.com/lambdaclass/cairo-vm). This repository has a relatively high ActiveAuthorCount of  41.\n",
    "\n",
    "StarkWare is also one of the more commonly occuring companies. StarkWare is the company behind the Cairo DSL. This could attribute to the high use of these tools. "
   ]
  },
  {
   "cell_type": "markdown",
   "metadata": {},
   "source": [
    "#### Tools Used by University Authors"
   ]
  },
  {
   "cell_type": "code",
   "execution_count": null,
   "metadata": {},
   "outputs": [],
   "source": [
    "university_authors = authors_exp[authors_exp['IsUniversity'] == True]\n",
    "university_authors = application_commits.merge(university_authors, left_on='Author', right_on='Login')\n",
    "university_authors = university_authors.drop_duplicates(['UniqueID','Login'])\n",
    "\n",
    "zkp_applications_exp = zkp_applications.explode('Tool')\n",
    "university_tools = zkp_applications_exp.merge(university_authors, left_on='UniqueID', right_on='UniqueID')\n",
    "university_tools = university_tools.groupby('Tool')['UniqueID'].nunique().reset_index()\n",
    "university_tools.rename(columns={'UniqueID': 'ToolCount'}, inplace=True)\n",
    "university_tools.sort_values(by='ToolCount', inplace=True, ascending=False)\n",
    "\n",
    "fig = px.bar(university_tools,  \n",
    "            x='Tool',\n",
    "            y='ToolCount',\n",
    "            title='Tools used by University Applications',\n",
    "            template='plotly_dark', \n",
    "            text='ToolCount'\n",
    "            )\n",
    "\n",
    "fig.show() "
   ]
  },
  {
   "cell_type": "markdown",
   "metadata": {},
   "source": [
    "A similar breakdown is seem for authors who have a university in their bio. The exception is `libsnark` which is more commonly used under university-associated authors than by company-associated authors. "
   ]
  },
  {
   "cell_type": "markdown",
   "metadata": {},
   "source": [
    "#### Tool Usage Across Company & University Authors"
   ]
  },
  {
   "cell_type": "code",
   "execution_count": null,
   "metadata": {},
   "outputs": [],
   "source": [
    "all_tools = sorted(zkp_repos[zkp_repos['Type'] == 'Tool']['Name'].to_list())\n",
    "comp_tools = sorted(company_tools['Tool'].to_list())\n",
    "uni_tools = sorted(university_tools['Tool'].to_list())\n",
    "only_company = sorted(list(set(comp_tools) - set(uni_tools)))\n",
    "not_used = sorted(list(set(all_tools) - set(comp_tools)))\n",
    "\n",
    "data = dict( AllTools = np.array(all_tools), CompanyTools = np.array(comp_tools), UniversityTools = np.array(uni_tools), CompanyOnly = np.array(only_company), NotUsed = np.array(not_used))\n",
    "    \n",
    "tools_df = pd.DataFrame(dict([ (k,pd.Series(v)) for k,v in data.items() ]))\n",
    "tools_df = tools_df.fillna('')"
   ]
  },
  {
   "cell_type": "markdown",
   "metadata": {},
   "source": [
    "The table below summarises the tools used in applications by authors that have a company or university in their bio. \n",
    "\n",
    "`bulletproofs (sdiehl)` and `openzkp` are not used by either company-associated authors nor university-associated authors. These two tools are not commonly used tools in general. \n",
    "\n",
    "Company-associated authors use an additional 10 tools compared to university-associated authors.\n",
    "\n",
    "|    | AllTools                   | CompanyTools               | UniversityTools            | CompanyOnly            | NotUsed               |\n",
    "|---:|:---------------------------|:---------------------------|:---------------------------|:-----------------------|:----------------------|\n",
    "|  0 | arkworks/algebra           | arkworks/gm17              | arkworks/algebra           | arkworks/gm17          | bulletproofs (sdiehl) |\n",
    "|  1 | arkworks/circom-compat     | arkworks/algebra           | arkworks/crypto-primitives | arkworks/circom-compat | openzkp               |\n",
    "|  2 | arkworks/crypto-primitives | arkworks/circom-compat     | arkworks/curves            | arkworks/gemini        |                       |\n",
    "|  3 | arkworks/curves            | arkworks/crypto-primitives | arkworks/gm17              | arkworks/marlin        |                       |\n",
    "|  4 | arkworks/gemini            | arkworks/curves            | arkworks/groth16           | arkworks/nonnative     |                       |\n",
    "|  5 | arkworks/gm17              | arkworks/gemini            | arkworks/poly-commit       | plonky                 |                       |\n",
    "|  6 | arkworks/groth16           | arkworks/gm17              | arkworks/r1cs-std          | plonky2                |                       |\n",
    "|  7 | arkworks/marlin            | arkworks/groth16           | arkworks/snark             | plonky3                |                       |\n",
    "|  8 | arkworks/nonnative         | arkworks/marlin            | arkworks/sponge            | zksync                 |                       |\n",
    "|  9 | arkworks/poly-commit       | arkworks/nonnative         | arkworks/std               |                        |                       |\n",
    "| 10 | arkworks/r1cs-std          | arkworks/poly-commit       | bellman                    |                        |                       |\n",
    "| 11 | arkworks/snark             | arkworks/r1cs-std          | bulletproofs               |                        |                       |\n",
    "| 12 | arkworks/sponge            | arkworks/snark             | cairo-lang                 |                        |                       |\n",
    "| 13 | arkworks/std               | arkworks/sponge            | circom                     |                        |                       |\n",
    "| 14 | bellman                    | arkworks/std               | circomlib                  |                        |                       |\n",
    "| 15 | bulletproofs               | bellman                    | gnark                      |                        |                       |\n",
    "| 16 | bulletproofs (sdiehl)      | bulletproofs               | halo2                      |                        |                       |\n",
    "| 17 | cairo-lang                 | cairo-lang                 | leo                        |                        |                       |\n",
    "| 18 | circom                     | circom                     | libsnark                   |                        |                       |\n",
    "| 19 | circomlib                  | circomlib                  | merlin                     |                        |                       |\n",
    "| 20 | gnark                      | gnark                      | miden-vm                   |                        |                       |\n",
    "| 21 | halo2                      | halo2                      | pysnark                    |                        |                       |\n",
    "| 22 | leo                        | leo                        | risc0                      |                        |                       |\n",
    "| 23 | libsnark                   | libsnark                   | snarkjs                    |                        |                       |\n",
    "| 24 | merlin                     | merlin                     | snarky                     |                        |                       |\n",
    "| 25 | miden-vm                   | miden-vm                   | winterfell                 |                        |                       |\n",
    "| 26 | openzkp                    | plonky                     |                            |                        |                       |\n",
    "| 27 | plonky                     | plonky2                    |                            |                        |                       |\n",
    "| 28 | plonky2                    | plonky3                    |                            |                        |                       |\n",
    "| 29 | plonky3                    | pysnark                    |                            |                        |                       |\n",
    "| 30 | pysnark                    | risc0                      |                            |                        |                       |\n",
    "| 31 | risc0                      | snarkjs                    |                            |                        |                       |\n",
    "| 32 | snarkjs                    | snarky                     |                            |                        |                       |\n",
    "| 33 | snarky                     | winterfell                 |                            |                        |                       |\n",
    "| 34 | winterfell                 | zksync                     |                            |                        |                       |\n",
    "| 35 | zksync                     |                            |                            |                        |                       |"
   ]
  },
  {
   "cell_type": "markdown",
   "metadata": {},
   "source": [
    "### Hireable"
   ]
  },
  {
   "cell_type": "markdown",
   "metadata": {},
   "source": [
    "#### Hireable vs Non-Hirable Authors"
   ]
  },
  {
   "cell_type": "code",
   "execution_count": null,
   "metadata": {},
   "outputs": [],
   "source": [
    "hireable_counts = {\n",
    "    'Hireable Authors': [len(authors[authors['Hireable'] == True]['Login'].unique())],\n",
    "    'Non-Hireable Authors': [len(authors[authors['Hireable'].isna()]['Login'].unique())]\n",
    "}\n",
    "\n",
    "hire_vs_non = pd.DataFrame(hireable_counts)\n",
    "hire_vs_non = hire_vs_non.melt(var_name='AuthorGroup', value_name='Amount')\n",
    "\n",
    "fig = px.pie(hire_vs_non, \n",
    "             names='AuthorGroup', \n",
    "             values='Amount', \n",
    "             title='Hireable vs. Non-Hireable (Unspecified) Authors',\n",
    "             template='plotly_dark',\n",
    "             )\n",
    "fig.show()"
   ]
  },
  {
   "cell_type": "markdown",
   "metadata": {},
   "source": [
    "The majority of authors are non-hireable authors. The limitation with this metric is that this could mean that authors are (a) truly not available for hire or (b) they have not explicitly specified their Hireable status on GitHub. If Hireable, the flag is set to True for the profile. If not Hireable, the flag is not set (not set to False, which would have been useful for creating a distinction between Hireable, Non-Hireable and Unspecified.)\n",
    "\n",
    "Assuming that if users *really* were hireable, they would have set the flag and have otherwise left it unchecked. In the case of Non-Hireable Authors, the user's application repository is (a) side-project or (b) the industry project they are working on. \n",
    "\n",
    "A high non-hirable could indicate that majority of authors work on side-projects related to ZKPs or work on these repos as part of their job. \n",
    "\n",
    "\n"
   ]
  },
  {
   "cell_type": "code",
   "execution_count": null,
   "metadata": {},
   "outputs": [],
   "source": [
    "company_hirable = {\n",
    "    'Hireable Authors': [len(company_authors[company_authors['Hireable'] == True]['Login'].unique())],\n",
    "    'Non-Hireable Authors': [len(company_authors[company_authors['Hireable'].isna()]['Login'].unique())]\n",
    "}\n",
    "\n",
    "company_hirable = pd.DataFrame(company_hirable)\n",
    "company_hirable = company_hirable.melt(var_name='AuthorGroup', value_name='Amount')\n",
    "\n",
    "fig = px.pie(company_hirable, \n",
    "             names='AuthorGroup', \n",
    "             values='Amount', \n",
    "             title='Hireable vs. Non-Hireable Count of Authors with a Company in Bio',\n",
    "             template='plotly_dark',\n",
    "             )\n",
    "fig.show()"
   ]
  },
  {
   "cell_type": "markdown",
   "metadata": {},
   "source": [
    "Out out the company-affiliated authors, 24.1% of them are hireable and 75.9% are unspecified (as mentioned above, they could be unspecified or *actually* not hireable)."
   ]
  },
  {
   "cell_type": "markdown",
   "metadata": {},
   "source": [
    "#### No. of Hirable Users per Application"
   ]
  },
  {
   "cell_type": "code",
   "execution_count": null,
   "metadata": {},
   "outputs": [],
   "source": [
    "hirable_authors = author_commits.drop_duplicates(subset=['UniqueID', 'Author', 'Hireable'])\n",
    "hirable_authors = hirable_authors.groupby('UniqueID')['Hireable'].sum().astype(int).reset_index()\n",
    "hirable_authors.rename(columns={'Hireable':'HireableCount'}, inplace=True)\n",
    "hirable_authors.sort_values(by='HireableCount', inplace=True)\n",
    "\n",
    "fig = px.scatter(hirable_authors[hirable_authors['HireableCount'] > 0],  \n",
    "            x='UniqueID',\n",
    "            y='HireableCount',\n",
    "            title='Hireable Authors per Application Repository (Where No. of Hireable Authors > 1)',\n",
    "            template='plotly_dark', \n",
    "            )\n",
    "\n",
    "fig.show() \n"
   ]
  },
  {
   "cell_type": "markdown",
   "metadata": {},
   "source": [
    "`bitcoinprivate-legacy/btcprivate` has the greatest HireableCount of 66.\n",
    "\n",
    "A high HireableCount for a repository could mean that the repository is a side-project for most authors that contribute. \n",
    "\n",
    "In the case of `bitcoinprivate-legacy/btcprivate`, this repository is inactive. This may indicate that at some point the authors may have contributed full-time to the repository but are looking for employment since it changed status to inactive. "
   ]
  },
  {
   "cell_type": "markdown",
   "metadata": {},
   "source": [
    "#### AuthorCount & HireableCount"
   ]
  },
  {
   "cell_type": "code",
   "execution_count": null,
   "metadata": {},
   "outputs": [],
   "source": [
    "author_counts_hirable = hirable_authors.merge(application_committers[['UniqueID', 'AuthorCount']], left_on='UniqueID', right_on='UniqueID', how='right')\n",
    "author_counts_hirable = author_counts_hirable.fillna(0)\n",
    "\n",
    "fig = px.scatter(author_counts_hirable,  \n",
    "            x='AuthorCount',\n",
    "            y='HireableCount',\n",
    "            title='Hireable Authors per Application Repository',\n",
    "            template='plotly_dark', \n",
    "            trendline='ols', \n",
    "            hover_name='UniqueID'\n",
    "            )\n",
    "\n",
    "fig.show() \n",
    "\n"
   ]
  },
  {
   "cell_type": "markdown",
   "metadata": {},
   "source": [
    "From the graph above,  it can be seen that there is a strong correlation (R^2 = 0.89) between the AuthorCount for a repository and the HireableCount. "
   ]
  },
  {
   "cell_type": "markdown",
   "metadata": {},
   "source": [
    "### Ages"
   ]
  },
  {
   "cell_type": "code",
   "execution_count": null,
   "metadata": {},
   "outputs": [],
   "source": [
    "authors = application_authors[application_authors['Type'] == 'User']\n",
    "authors['CreatedAt'] = pd.to_datetime(authors['CreatedAt'], utc=True)\n",
    "authors['AuthorAge'] = (datetime.now(timezone.utc) - authors['CreatedAt']).dt.days\n",
    "age_bins = np.logspace(np.log10(authors['AuthorAge'].min()-1), np.log10(authors['AuthorAge'].max()), num=10)\n",
    "age_bins = np.round(age_bins)\n",
    "authors['AuthorAgeGroup'] =  pd.cut(authors['AuthorAge'], bins=age_bins)\n",
    "age_bin_counts = authors['AuthorAgeGroup'].value_counts().sort_index().reset_index()\n",
    "age_bin_counts.rename(columns={'count': 'Count'}, inplace=True)\n",
    "age_bin_counts['AuthorAgeGroup'] = age_bin_counts['AuthorAgeGroup'].astype(str)\n",
    "\n",
    "fig = px.bar(age_bin_counts,  \n",
    "            x='AuthorAgeGroup',\n",
    "            y='Count',\n",
    "            title='Author Age by Bins',\n",
    "            template='plotly_dark', \n",
    "            text='Count'\n",
    "            )\n",
    "\n",
    "fig.show()\n",
    "\n"
   ]
  },
  {
   "cell_type": "markdown",
   "metadata": {},
   "source": [
    "From the graph above, it can be seen the larger bins tend to contain more Age counts. This shows that the authors contributing to the repositories are older GitHub users (i.e. the user has had their account for some time, such as a couple of years in the case of the bin (2790, 5716] which contains 1333 authors). "
   ]
  },
  {
   "cell_type": "markdown",
   "metadata": {},
   "source": [
    "#### Repository Age vs. Author Age"
   ]
  },
  {
   "cell_type": "code",
   "execution_count": null,
   "metadata": {},
   "outputs": [],
   "source": [
    "repo_author_age = application_commits.merge(authors, left_on='Author', right_on='Login', how='left')\n",
    "repo_author_age = repo_author_age.dropna(subset=['Login'])\n",
    "repo_author_age = repo_author_age.drop_duplicates(subset=['UniqueID', 'Login'])\n",
    "mean_author_age = repo_author_age.groupby('UniqueID')['AuthorAge'].mean().reset_index()\n",
    "mean_author_age.rename(columns={'AuthorAge': 'MeanAuthorAge'}, inplace=True)\n",
    "mean_author_age = zkp_applications.merge(mean_author_age, left_on='UniqueID', right_on='UniqueID', how='left')\n",
    "\n",
    "fig = px.scatter(mean_author_age,  \n",
    "            x='MeanAuthorAge',\n",
    "            y='Age',\n",
    "            title='Graph showing the MeanAuthorAge and Age of Repository',\n",
    "            template='plotly_dark', \n",
    "            trendline='ols'\n",
    "            )\n",
    "\n",
    "fig.show()"
   ]
  },
  {
   "cell_type": "markdown",
   "metadata": {},
   "source": [
    "From the graph above, it can be seen that there is a weak correlation (R^2 = 0.03) between the MeanAuthorAge of application and the age of the application. "
   ]
  },
  {
   "cell_type": "markdown",
   "metadata": {},
   "source": [
    "### Tool Usage by Applications"
   ]
  },
  {
   "cell_type": "markdown",
   "metadata": {},
   "source": [
    "This section focuses on understanding the types of applications that use a specific tool. \n"
   ]
  },
  {
   "cell_type": "markdown",
   "metadata": {},
   "source": [
    "#### Tool Usage & Application Author Count"
   ]
  },
  {
   "cell_type": "code",
   "execution_count": null,
   "metadata": {},
   "outputs": [],
   "source": [
    "# zkp_applications = zkp_repos[zkp_repos['Type'] == 'Application']\n",
    "author_counts = application_commits.groupby('UniqueID')['Author'].nunique().reset_index()\n",
    "author_counts.rename(columns={'Author': 'AuthorCount'}, inplace=True)\n",
    "tools_and_authors = zkp_applications.merge(author_counts, left_on='UniqueID', right_on='UniqueID', how='left')\n",
    "tools_and_authors_exp = tools_and_authors.explode('Tool')\n",
    "tools_by_app_authors = tools_and_authors_exp.groupby('Tool')['AuthorCount'].mean().reset_index()\n",
    "tools_by_app_authors.rename(columns={'AuthorCount': 'MeanAuthorCount'}, inplace=True)\n",
    "tools_by_app_authors.sort_values(by='MeanAuthorCount', inplace=True, ascending=False)\n",
    "\n",
    "fig = px.scatter(tools_by_app_authors,  \n",
    "            x='Tool',\n",
    "            y='MeanAuthorCount',\n",
    "            title='Average Application AuthorCount per Tool',\n",
    "            template='plotly_dark'\n",
    "            )\n",
    "\n",
    "fig.show()"
   ]
  },
  {
   "cell_type": "markdown",
   "metadata": {},
   "source": [
    "The graph above shows the mean number of authors for an application using the specific tool. `arkworks/gm17` has the highest MeanAuthorCount being 33.5. This implies that applications using `arkworks/gm17` tend to have a high number of authors.  This may be skewed since only 2 applications use `arkworks/gm17`\n",
    "\n",
    "Although `arkworks/algebra` it a commonly used tool among many applications, the applications that use `arkworks/algebra` tend to have a fairly low MeanAuthorCount of 7.78. "
   ]
  },
  {
   "cell_type": "markdown",
   "metadata": {},
   "source": [
    "#### Tool Usage & Application Commit Count "
   ]
  },
  {
   "cell_type": "code",
   "execution_count": null,
   "metadata": {},
   "outputs": [],
   "source": [
    "# zkp_applications = zkp_repos[zkp_repos['Type'] == 'Application']\n",
    "app_commits = application_commits.groupby('UniqueID')['CommitHash'].nunique().reset_index()\n",
    "app_commits.rename(columns={'CommitHash': 'CommitCount'}, inplace=True)\n",
    "tools_and_commits = zkp_applications.merge(app_commits, left_on='UniqueID', right_on='UniqueID', how='left')\n",
    "tools_and_commits_exp = tools_and_commits.explode('Tool')\n",
    "tools_by_app_commits = tools_and_commits_exp.groupby('Tool')['CommitCount'].mean().reset_index()\n",
    "tools_by_app_commits.rename(columns={'CommitCount': 'MeanCommitCount'}, inplace=True)\n",
    "\n",
    "tools_by_app_commits = zkp_tools[['Name', 'ToolType']].merge(tools_by_app_commits, left_on='Name', right_on='Tool', how='left')\n",
    "tools_by_app_commits.sort_values(by='MeanCommitCount', ascending=False, inplace=True)\n",
    "\n",
    "fig = px.scatter(tools_by_app_commits,  \n",
    "            x='Tool',\n",
    "            y='MeanCommitCount',\n",
    "            title='Average Application Commit Count per Tool',\n",
    "            template='plotly_dark',\n",
    "            color='ToolType',\n",
    "            category_orders={'Tool': tools_by_app_commits['Tool']}\n",
    "            )\n",
    "\n",
    "fig.show()"
   ]
  },
  {
   "cell_type": "markdown",
   "metadata": {},
   "source": [
    "The graph above shows the mean number of commits made my applications using the specific tool. \n",
    "\n",
    "Here `leo` has the highest MeanCommitCount. `leo` also had a fairly high MeanAuthorCount as shown above. This could indicate that applications using `leo` have a community development approach. "
   ]
  },
  {
   "cell_type": "markdown",
   "metadata": {},
   "source": [
    "#### Tool Usage & Application Author Followers"
   ]
  },
  {
   "cell_type": "code",
   "execution_count": null,
   "metadata": {},
   "outputs": [],
   "source": [
    "commit_author_info = application_commits.merge(application_authors, left_on='Author', right_on='Login', how='right')\n",
    "commit_author_info.drop_duplicates(['UniqueID', 'Author'], inplace=True)\n",
    "avg_followers = commit_author_info.groupby('UniqueID')['Followers'].mean().reset_index()\n",
    "avg_followers.rename(columns={'Followers': 'MeanFollowers'}, inplace=True)\n",
    "\n",
    "app_followers = zkp_applications.merge(avg_followers, left_on='UniqueID', right_on='UniqueID', how='left')\n",
    "app_followers_exp = app_followers.explode('Tool')\n",
    "tool_app_followers = app_followers_exp.groupby('Tool')['MeanFollowers'].mean().reset_index()\n",
    "\n",
    "tool_app_followers = zkp_tools[['Name', 'ToolType']].merge(tool_app_followers, left_on='Name', right_on='Tool', how='left')\n",
    "tool_app_followers.sort_values(by='MeanFollowers', ascending=False, inplace=True)\n",
    "\n",
    "fig = px.scatter(tool_app_followers,  \n",
    "            x='Tool',\n",
    "            y='MeanFollowers',\n",
    "            title='Average Application Author Follower Count per Tool',\n",
    "            template='plotly_dark', \n",
    "            color='ToolType',\n",
    "            category_orders={'Tool': tool_app_followers['Tool']}\n",
    "            )\n",
    "\n",
    "fig.show()\n"
   ]
  },
  {
   "cell_type": "markdown",
   "metadata": {},
   "source": [
    "The graph above shows the mean followers of authors contributing to applications using the specific tool. \n",
    "\n",
    "`bulletproofs (sdiehl)` has the highest MeanFollower count with 1085. This result may be skewed since there is only 1 application using this tool. The application using this tool created by the author of this tool (sdiehl). `bulletproofs (sdiehl)` is a popular tool, hence the author has a fairly large following. The MeanAuthor and MeanCommit counts for this tool is low. \n",
    "\n",
    "`snarkjs` has the second highest MeanFollower count with 330.27.\n",
    "\n",
    "`circom` has a similar MeanFollowr count than `snarky`. These two tools are often used in combination. \n"
   ]
  },
  {
   "cell_type": "markdown",
   "metadata": {},
   "source": [
    "#### Tool Usage & Application Author PublicGists"
   ]
  },
  {
   "cell_type": "code",
   "execution_count": null,
   "metadata": {},
   "outputs": [],
   "source": [
    "avg_public_gists = commit_author_info.groupby('UniqueID')['PublicGists'].mean().reset_index()\n",
    "avg_public_gists.rename(columns={'PublicGists': 'MeanPublicGists'}, inplace=True)\n",
    "\n",
    "app_public_gists = zkp_applications.merge(avg_public_gists, left_on='UniqueID', right_on='UniqueID', how='left')\n",
    "app_public_gists_exp = app_public_gists.explode('Tool')\n",
    "tool_app_gists = app_public_gists_exp.groupby('Tool')['MeanPublicGists'].mean().reset_index()\n",
    "\n",
    "tool_app_gists = zkp_tools[['Name', 'ToolType']].merge(tool_app_gists, left_on='Name', right_on='Tool', how='left')\n",
    "tool_app_gists.sort_values(by='MeanPublicGists', ascending=False, inplace=True)\n",
    "\n",
    "fig = px.scatter(tool_app_gists,  \n",
    "            x='Tool',\n",
    "            y='MeanPublicGists',\n",
    "            title='Average Application Author Public Gist Count per Tool',\n",
    "            template='plotly_dark', \n",
    "            color='ToolType',\n",
    "            category_orders={'Tool': tool_app_gists['Tool']}\n",
    "            )\n",
    "\n",
    "fig.show()\n"
   ]
  },
  {
   "cell_type": "markdown",
   "metadata": {},
   "source": [
    "The graph above shows the mean public gists count for the authors contributing to applications which use a specific tool. \n",
    "\n",
    "`bulletproofs (sdiehl)` has the highest MeanPublicGists count and MeanFollower count. \n",
    "\n",
    "`winterfell` has the second highest MeanPublicGists count. \n",
    "\n",
    "It could be authors with a high follower count tend to have a high public gist count. \n"
   ]
  },
  {
   "cell_type": "markdown",
   "metadata": {},
   "source": [
    "#### Tool Usage & Application Author PublicRepos"
   ]
  },
  {
   "cell_type": "code",
   "execution_count": null,
   "metadata": {},
   "outputs": [],
   "source": [
    "avg_public_repos = commit_author_info.groupby('UniqueID')['PublicRepos'].mean().reset_index()\n",
    "avg_public_repos.rename(columns={'PublicRepos': 'MeanPublicRepos'}, inplace=True)\n",
    "\n",
    "app_public_repos = zkp_applications.merge(avg_public_repos, left_on='UniqueID', right_on='UniqueID', how='left')\n",
    "app_public_repos_exp = app_public_repos.explode('Tool')\n",
    "tool_app_repos = app_public_repos_exp.groupby('Tool')['MeanPublicRepos'].mean().reset_index()\n",
    "\n",
    "tool_app_repos = zkp_tools[['Name', 'ToolType']].merge(tool_app_repos, left_on='Name', right_on='Tool', how='left')\n",
    "tool_app_repos.sort_values(by='MeanPublicRepos', ascending=False, inplace=True)\n",
    "\n",
    "fig = px.scatter(tool_app_repos,  \n",
    "            x='Tool',\n",
    "            y='MeanPublicRepos',\n",
    "            title='Average Application Author Repo Count per Tool',\n",
    "            template='plotly_dark', \n",
    "            color='ToolType',\n",
    "            category_orders={'Tool': tool_app_repos['Tool']}\n",
    "            )\n",
    "\n",
    "fig.show()\n",
    "\n",
    "\n"
   ]
  },
  {
   "cell_type": "markdown",
   "metadata": {},
   "source": [
    "The graph above shows the mean public repository count for authors of the applications that use the specific tool. \n",
    "\n",
    "`arkworks/marlin` has the highest MeanPublicRepo count.\n"
   ]
  },
  {
   "cell_type": "markdown",
   "metadata": {},
   "source": [
    "#### Tool Usage & Application Author Age"
   ]
  },
  {
   "cell_type": "code",
   "execution_count": null,
   "metadata": {},
   "outputs": [],
   "source": [
    "application_authors['CreatedAt'] = pd.to_datetime(application_authors['CreatedAt'],  utc=True)\n",
    "application_authors['AuthorAge'] = (datetime.now(timezone.utc) - application_authors['CreatedAt']).dt.days\n",
    "\n",
    "commit_author_info = application_commits.merge(application_authors, left_on='Author', right_on='Login', how='right')\n",
    "commit_author_info.drop_duplicates(['UniqueID', 'Author'], inplace=True)\n",
    "\n",
    "avg_age = commit_author_info.groupby('UniqueID')['AuthorAge'].mean().reset_index()\n",
    "avg_age.rename(columns={'AuthorAge': 'MeanAuthorAge'}, inplace=True)\n",
    "\n",
    "app_avg_age = zkp_applications.merge(avg_age, left_on='UniqueID', right_on='UniqueID', how='left')\n",
    "app_avg_age_exp = app_avg_age.explode('Tool')\n",
    "tool_app_age = app_avg_age_exp.groupby('Tool')['MeanAuthorAge'].mean().reset_index()\n",
    "\n",
    "tool_app_age = zkp_tools[['Name', 'ToolType']].merge(tool_app_age, left_on='Name', right_on='Tool', how='left')\n",
    "tool_app_age.sort_values(by='MeanAuthorAge', ascending=False, inplace=True)\n",
    "\n",
    "fig = px.scatter(tool_app_age,  \n",
    "            x='Tool',\n",
    "            y='MeanAuthorAge',\n",
    "            title='Average Application Author Age per Tool',\n",
    "            template='plotly_dark', \n",
    "            color='ToolType',\n",
    "            category_orders={'Tool': tool_app_age['Tool']}\n",
    "            )\n",
    "\n",
    "fig.show()"
   ]
  },
  {
   "cell_type": "markdown",
   "metadata": {},
   "source": [
    "The graph above shows the mean author age for authors contributing to applications that use the specific tool. \n",
    "\n",
    "`plonky3` has the highest MeanAuthorAge, indicating that author accounts are \"older\" GitHub accounts. \n",
    "\n",
    "`plonky` has the lowest MeanAuthorAge, indicating that its author accounts are fairly young. \n",
    "\n",
    "`arkworks/gm17` and `bulletproofs (sdiehl)` have high mean MeanAuthorAge values - these repos have had high value for previously mentioned analytics too. "
   ]
  },
  {
   "cell_type": "markdown",
   "metadata": {},
   "source": [
    "#### Tool Usage & Application Repo Forks\n"
   ]
  },
  {
   "cell_type": "code",
   "execution_count": null,
   "metadata": {},
   "outputs": [],
   "source": [
    "zkp_applications_exp = zkp_applications.explode('Tool')\n",
    "avg_forks = zkp_applications_exp.groupby('Tool')['Forks'].mean().reset_index()\n",
    "avg_forks.rename(columns={'Forks': 'MeanForks'}, inplace=True)\n",
    "\n",
    "avg_forks = zkp_tools[['Name', 'ToolType']].merge(avg_forks, left_on='Name', right_on='Tool', how='left')\n",
    "avg_forks.sort_values(by='MeanForks', ascending=False, inplace=True)\n",
    "\n",
    "fig = px.scatter(avg_forks,  \n",
    "            x='Tool',\n",
    "            y='MeanForks',\n",
    "            title='Average Application Forks per Tool',\n",
    "            template='plotly_dark', \n",
    "            color='ToolType',\n",
    "            category_orders={'Tool': avg_forks['Tool']}\n",
    "            )\n",
    "\n",
    "fig.show()"
   ]
  },
  {
   "cell_type": "markdown",
   "metadata": {},
   "source": [
    "The graph above shows the mean number of forks of the applications using the specific tool. \n",
    "\n",
    "`leo` has the highest MeanForks count at 501.28 which is much larger than the 2nd largest which is 30.45. Three of the applications that use `leo`, `sdk/aleohq`, `snarkos/aleohq` and `snarkvm/aleohq` have fork counts > 1000. These applications are created by the creators of `leo`, `aleohq`, which can explain the popularity and development behind these applications. These applications are part of the `leo` ecosystem. \n",
    "\n"
   ]
  },
  {
   "cell_type": "markdown",
   "metadata": {},
   "source": [
    "#### Tool Usage & Application Repo Stars\n"
   ]
  },
  {
   "cell_type": "code",
   "execution_count": null,
   "metadata": {},
   "outputs": [],
   "source": [
    "avg_stars = zkp_applications_exp.groupby('Tool')['Stars'].mean().reset_index()\n",
    "avg_stars.rename(columns={'Stars': 'MeanStars'}, inplace=True)\n",
    "\n",
    "avg_stars = zkp_tools[['Name', 'ToolType']].merge(avg_stars, left_on='Name', right_on='Tool', how='left')\n",
    "avg_stars.sort_values(by='MeanStars', ascending=False, inplace=True)\n",
    "\n",
    "fig = px.scatter(avg_stars,  \n",
    "            x='Tool',\n",
    "            y='MeanStars',\n",
    "            title='Average Application Stars per Tool',\n",
    "            template='plotly_dark', \n",
    "            color='ToolType',\n",
    "            category_orders={'Tool': avg_stars['Tool']}\n",
    "            )\n",
    "\n",
    "fig.show()"
   ]
  },
  {
   "cell_type": "markdown",
   "metadata": {},
   "source": [
    "The graph above shows the mean number of stars for applications which use a certain tool. \n",
    "\n",
    "As with the MeanForks graph, `leo` contains the highest MeanStars value of 516.14, which is much larger than the 2nd MeanStars value of 139. This can be explained by the applications, `aleohq/snarkvm`, `aleohq/snarkos` and `aleohq/sdk` which form part of the `leo` ecosystem. "
   ]
  },
  {
   "cell_type": "markdown",
   "metadata": {},
   "source": [
    "#### Tool Usage & Application Repo Age"
   ]
  },
  {
   "cell_type": "code",
   "execution_count": null,
   "metadata": {},
   "outputs": [],
   "source": [
    "zkp_applications_exp['Created'] = pd.to_datetime(zkp_applications_exp['Created'], utc=True)\n",
    "zkp_applications_exp['Updated'] = pd.to_datetime(zkp_applications_exp['Updated'], utc=True)\n",
    "zkp_applications_exp['Age'] = (zkp_applications_exp['Updated'] - zkp_applications_exp['Created']).dt.days\n",
    "avg_app_age = zkp_applications_exp.groupby('Tool')['Age'].mean().reset_index()\n",
    "avg_app_age.rename(columns={'Age': 'MeanApplicationAge'}, inplace=True)\n",
    "\n",
    "avg_app_age = zkp_tools[['Name', 'ToolType']].merge(avg_app_age, left_on='Name', right_on='Tool', how='left')\n",
    "avg_app_age.sort_values(by='MeanApplicationAge', ascending=False, inplace=True)\n",
    "\n",
    "fig = px.scatter(avg_app_age,  \n",
    "            x='Tool',\n",
    "            y='MeanApplicationAge',\n",
    "            title='Average Application Age per Tool',\n",
    "            template='plotly_dark', \n",
    "            color='ToolType',\n",
    "            category_orders={'Tool': avg_app_age['Tool']}\n",
    "            )\n",
    "\n",
    "fig.show()\n"
   ]
  },
  {
   "cell_type": "markdown",
   "metadata": {},
   "source": [
    "The graph above shows the mean application age of the applications using a specific tool. \n",
    "\n",
    "`libsnark` has the highest MeanApplicationAge of 1503. `libsnark` is the oldest tools and for a while it was the only ZKP tool which can account for the high MeanApplicationAge. "
   ]
  },
  {
   "cell_type": "markdown",
   "metadata": {},
   "source": [
    "#### Tool Usage & Application Repo Start Date"
   ]
  },
  {
   "cell_type": "code",
   "execution_count": null,
   "metadata": {},
   "outputs": [],
   "source": [
    "zkp_applications_exp['Created'] = pd.to_datetime(zkp_applications_exp['Created'], utc=True)\n",
    "avg_app_age = zkp_applications_exp.groupby('Tool')['Created'].mean().reset_index()\n",
    "avg_app_age.rename(columns={'Created': 'MeanStartDate'}, inplace=True)\n",
    "\n",
    "avg_app_age = zkp_tools[['Name', 'ToolType']].merge(avg_app_age, left_on='Name', right_on='Tool', how='left')\n",
    "avg_app_age.sort_values(by='MeanStartDate', ascending=True, inplace=True)\n",
    "\n",
    "fig = px.scatter(avg_app_age,  \n",
    "            x='Tool',\n",
    "            y='MeanStartDate',\n",
    "            title='Average Application Age per Tool',\n",
    "            template='plotly_dark', \n",
    "            color='ToolType',\n",
    "            category_orders={'Tool': avg_app_age['Tool']}\n",
    "            )\n",
    "\n",
    "fig.show()"
   ]
  },
  {
   "cell_type": "markdown",
   "metadata": {},
   "source": [
    "The graph above shows the MeanStartDate of applications using a specific tool. \n",
    "\n",
    "`libsnark` has the earliest MeanStartDate. As discussed previously, `libsnark` is the oldest tool, and so it accounts for having the oldest applications. \n",
    "\n",
    "On the other side, `plonky3` has the latest MeanStartDate. `plonky3` is the youngest tool. \n"
   ]
  },
  {
   "cell_type": "markdown",
   "metadata": {},
   "source": [
    "#### Tool Usage & Application Hireable Count"
   ]
  },
  {
   "cell_type": "code",
   "execution_count": null,
   "metadata": {},
   "outputs": [],
   "source": [
    "hireable_authors = application_commits.merge(application_authors, left_on='Author', right_on='Login', how='left')\n",
    "hireable_authors.drop_duplicates(['UniqueID', 'Author'], inplace=True)\n",
    "hireable_authors = hireable_authors.groupby('UniqueID')['Hireable'].count().reset_index()\n",
    "hireable_authors.rename(columns={'Hireable': 'HireableCount'}, inplace=True)\n",
    "hireable_authors.sort_values(by='HireableCount', ascending=False, inplace=True)\n",
    "hireable_authors = hireable_authors.merge(zkp_applications_exp, left_on='UniqueID', right_on='UniqueID', how='left')\n",
    "hireable_authors = hireable_authors.groupby('Tool')['HireableCount'].mean().reset_index()\n",
    "hireable_authors.sort_values(by='HireableCount', inplace=True, ascending=False)\n",
    "hireable_authors.rename(columns={'HireableCount': 'MeanHireableCount'}, inplace=True)\n",
    "\n",
    "hireable_authors = zkp_tools[['Name', 'ToolType']].merge(hireable_authors, left_on='Name', right_on='Tool', how='left')\n",
    "hireable_authors.sort_values(by='MeanHireableCount', ascending=False, inplace=True)\n",
    "\n",
    "fig = px.scatter(hireable_authors,  \n",
    "            x='Tool',\n",
    "            y='MeanHireableCount',\n",
    "            title='Average Application Hireable Authors Count per Tool',\n",
    "            template='plotly_dark', \n",
    "            color='ToolType',\n",
    "            category_orders={'Tool': hireable_authors['Tool']}\n",
    "            )\n",
    "\n",
    "fig.show()"
   ]
  },
  {
   "cell_type": "markdown",
   "metadata": {},
   "source": [
    "The graph above shows the mean hirable authors count of applications using a specific tool. \n",
    "\n",
    "`arkworks/marlin` has the highest MeanHireableCount. This could indicate the most applications using this tool are side-projects, or made by users aside from their industry projects."
   ]
  },
  {
   "cell_type": "markdown",
   "metadata": {},
   "source": [
    "#### Tool Usage & Active Applications"
   ]
  },
  {
   "cell_type": "code",
   "execution_count": null,
   "metadata": {},
   "outputs": [],
   "source": [
    "zkp_applications_exp['Updated'] = pd.to_datetime(zkp_applications_exp['Updated'], utc=True)\n",
    "zkp_applications_exp['Active'] = zkp_applications_exp['Updated'].dt.year == 2023\n",
    "active_apps = zkp_applications_exp.groupby('Tool')['Active'].count().reset_index()\n",
    "active_apps.rename(columns={'Active': 'ActiveAppCount'}, inplace=True)\n",
    "active_apps.sort_values(by='ActiveAppCount', inplace=True, ascending=False)\n",
    "\n",
    "active_apps = zkp_tools[['Name', 'ToolType']].merge(active_apps, left_on='Name', right_on='Tool', how='left')\n",
    "active_apps.sort_values(by='ActiveAppCount', ascending=False, inplace=True)\n",
    "\n",
    "fig = px.scatter(active_apps,  \n",
    "            x='Tool',\n",
    "            y='ActiveAppCount',\n",
    "            title='Average Active Application Count per Tool',\n",
    "            template='plotly_dark', \n",
    "            color='ToolType',\n",
    "            category_orders={'Tool': active_apps['Tool']}\n",
    "            )\n",
    "\n",
    "fig.show()"
   ]
  },
  {
   "cell_type": "markdown",
   "metadata": {},
   "source": [
    "The graph above shows the mean amount of active applications that use a specific tool. \n",
    "\n",
    "`arkworks/algebra` and `arkworks/std` have the largest MeanActiveAppCount of 595 and 588. These are the two most commonly used tool, often use in combination.\n",
    "\n",
    "`circom` and `snarkjs` both had high MeanActiveAppCount values. These two tools are often used in combination since they are created by the same team and are used in an ecosystem to write circuits (`circom`) and generate proofs (`snarkjs`).\n"
   ]
  },
  {
   "cell_type": "markdown",
   "metadata": {},
   "source": [
    "#### Author Commit Count"
   ]
  },
  {
   "cell_type": "code",
   "execution_count": null,
   "metadata": {},
   "outputs": [],
   "source": [
    "app_authors =  application_commits.merge(application_authors, left_on='Author', right_on='Login', how='left')\n",
    "author_commit_count = app_authors.groupby(['UniqueID', 'Author'])['CommitHash'].count().reset_index()\n",
    "author_commit_count = author_commit_count.groupby('UniqueID')['CommitHash'].mean().reset_index()\n",
    "author_commit_count.rename(columns={'CommitHash': 'MeanAuthorCommits'}, inplace=True)\n",
    "\n",
    "mean_commit_bins = np.logspace(np.log10(author_commit_count['MeanAuthorCommits'].min()-0.5), np.log10(author_commit_count['MeanAuthorCommits'].max()), num=10)\n",
    "mean_commit_bins = np.round(mean_commit_bins)\n",
    "author_commit_count['CommitCountGroup'] =  pd.cut(author_commit_count['MeanAuthorCommits'], bins=mean_commit_bins, duplicates='drop')\n",
    "author_commit_count[author_commit_count['CommitCountGroup'].isna()]\n",
    "\n",
    "commit_bin_count = author_commit_count.groupby('CommitCountGroup')['UniqueID'].count().reset_index()\n",
    "commit_bin_count.rename(columns={'UniqueID':'Count'}, inplace=True)\n",
    "commit_bin_count['CommitCountGroup'] = commit_bin_count['CommitCountGroup'].astype(str)\n",
    "\n",
    "\n",
    "fig = px.bar(commit_bin_count,  \n",
    "            x='CommitCountGroup',\n",
    "            y='Count',\n",
    "            title='Average Commits Count per Author by bins',\n",
    "            template='plotly_dark', \n",
    "            )\n",
    "\n",
    "fig.show()"
   ]
  },
  {
   "cell_type": "markdown",
   "metadata": {},
   "source": [
    "The graph above shows the mean commits made by the authors of the applications. \n",
    "\n",
    "The four largest bins range around the middle values. These bins span the mean commit count from 6-64 commits. These are relatively few commits, since the largest mean commit count is 732. \n",
    "\n",
    "High  mean commit counts are rare. "
   ]
  },
  {
   "cell_type": "markdown",
   "metadata": {},
   "source": [
    "#### Languages Used By Applications"
   ]
  },
  {
   "cell_type": "code",
   "execution_count": null,
   "metadata": {},
   "outputs": [],
   "source": [
    "fig = px.bar(zkp_applications['Language'].value_counts().reset_index(),  \n",
    "            x='count', \n",
    "            y='Language',\n",
    "            title='Frequency of Languages used by Applications',\n",
    "            template='plotly_dark', \n",
    "            height=1000\n",
    "            )\n",
    "\n",
    "fig.show()"
   ]
  },
  {
   "cell_type": "markdown",
   "metadata": {},
   "source": [
    "As seen above, Rust is the most commonly uses language, followed by Cairo and TypeScript which have similar counts. "
   ]
  },
  {
   "cell_type": "markdown",
   "metadata": {},
   "source": [
    "#### Languages Used By Tools"
   ]
  },
  {
   "cell_type": "code",
   "execution_count": null,
   "metadata": {},
   "outputs": [],
   "source": [
    "fig = px.bar(zkp_tools['Language'].value_counts().reset_index(),  \n",
    "            x='count', \n",
    "            y='Language',\n",
    "            title='Frequency of Languages used by Applications',\n",
    "            template='plotly_dark', \n",
    "            )\n",
    "\n",
    "fig.show()"
   ]
  },
  {
   "cell_type": "markdown",
   "metadata": {},
   "source": [
    "Rust is the most commonly used language among tools, followed by Python, JavaScript and C++. As seen previously, Rust is also most commonly used among the applications."
   ]
  },
  {
   "cell_type": "markdown",
   "metadata": {},
   "source": [
    "### Cluster Applications Based on Different Features"
   ]
  },
  {
   "cell_type": "markdown",
   "metadata": {},
   "source": [
    "This section explores the possibility of loosely clustering repositories into categories such as inactive, small applications and active, popular applications. "
   ]
  },
  {
   "cell_type": "code",
   "execution_count": null,
   "metadata": {},
   "outputs": [],
   "source": [
    "zkp_applications = zkp_applications[zkp_applications['UniqueID'] != 'sourceCode-zkSync-rollupContract/LuozhuZhang']\n",
    "zkp_applications = zkp_applications.merge(application_committers[['UniqueID', 'AuthorCount']], left_on='UniqueID', right_on='UniqueID', how='left')\n",
    "zkp_applications = zkp_applications.merge(commit_counts[['UniqueID', 'CommitCount']], left_on='UniqueID', right_on='UniqueID', how='left')\n",
    "zkp_applications = zkp_applications.merge(active_authors[['UniqueID', 'ActiveAuthorCount']], left_on='UniqueID', right_on='UniqueID', how='left')\n",
    "zkp_applications['Active'] = (zkp_applications['LastCommitDate'].dt.year > 2022).astype(int)\n",
    "zkp_applications = zkp_applications[zkp_applications['Age'] < 1500]"
   ]
  },
  {
   "cell_type": "markdown",
   "metadata": {},
   "source": [
    "##### Cluster Applications Based on Repository Development Features"
   ]
  },
  {
   "cell_type": "code",
   "execution_count": null,
   "metadata": {},
   "outputs": [],
   "source": [
    "development_features = zkp_applications\n",
    "\n",
    "cols = [\n",
    "        'Size', \n",
    "        'Age',\n",
    "        # 'ActiveAuthorCount',\n",
    "        # 'Active',\n",
    "        'AuthorCount',\t\n",
    "        'CommitCount',\t\n",
    "\n",
    "        # 'Stars',\n",
    "        'Forks', \n",
    "        # 'Watchers', \n",
    "        'Issues',\n",
    "\n",
    "]\n",
    "\n",
    "\n",
    "nr_components = 2\n",
    "X = development_features[cols]\n",
    "scaler = StandardScaler()\n",
    "df_standardized = scaler.fit_transform(X)\n",
    "pca = PCA(n_components=2)\n",
    "df_pca = pca.fit_transform(df_standardized)\n",
    "kmeans = KMeans(n_clusters=3, random_state=42)\n",
    "development_features['Cluster'] = kmeans.fit_predict(df_standardized)\n",
    "components = pca.fit_transform(X)\n",
    "pca.explained_variance_ratio_"
   ]
  },
  {
   "cell_type": "code",
   "execution_count": null,
   "metadata": {},
   "outputs": [],
   "source": [
    "pd.DataFrame(pca.components_.T, columns=['PC1', 'PC2'], index=cols)"
   ]
  },
  {
   "cell_type": "code",
   "execution_count": null,
   "metadata": {},
   "outputs": [],
   "source": [
    "fig = px.scatter(\n",
    "    development_features,\n",
    "    x=df_pca[:, 0],\n",
    "    y=df_pca[:, 1],\n",
    "    color='Cluster', \n",
    "    hover_name='UniqueID',\n",
    "    labels={'color': 'Cluster'},\n",
    "    title='PCA Scatter Plot with Clusters',\n",
    "    template='plotly_dark',\n",
    "    color_continuous_scale='rainbow'\n",
    ")\n",
    "\n",
    "fig.show()"
   ]
  },
  {
   "cell_type": "code",
   "execution_count": null,
   "metadata": {},
   "outputs": [],
   "source": [
    "features_to_plot = cols\n",
    "\n",
    "for feature in features_to_plot:\n",
    "    fig = px.box(development_features, \n",
    "                 x='Cluster', \n",
    "                 y=feature, \n",
    "                 points='all', \n",
    "                 title=f'Distribution of {feature} by Cluster',\n",
    "                 template='plotly_dark',\n",
    "                 hover_name='UniqueID'\n",
    "                 )\n",
    "    fig.show()"
   ]
  },
  {
   "cell_type": "code",
   "execution_count": null,
   "metadata": {},
   "outputs": [],
   "source": [
    "popularity_features = pd.get_dummies(zkp_applications, columns=['Language'], prefix='Language')\n",
    "\n",
    "cols = [\n",
    "        # 'UniqueID'\n",
    "        # 'Tool', \n",
    "        \n",
    "        # 'Language', \n",
    "\n",
    "        'Stars',\n",
    "        'Forks', \n",
    "        'Watchers', \n",
    "        'Issues', \n",
    "\n",
    "        # 'FirstCommitDate', \n",
    "        # 'LastCommitDate',\n",
    "\n",
    "\n",
    "        # 'Size', \n",
    "        'Age',\n",
    "        'ActiveAuthorCount',\n",
    "        'Active',\n",
    "        'AuthorCount',\t\n",
    "        'CommitCount',\t\n",
    "\n",
    "        # 'Language_Assembly', \n",
    "        # 'Language_C', \n",
    "        # 'Language_C++', \n",
    "        # 'Language_CMake',\n",
    "        # 'Language_CSS', \n",
    "        # 'Language_Cairo', \n",
    "        # 'Language_Circom', \n",
    "        # 'Language_Cuda',\n",
    "        # 'Language_Dart', \n",
    "        # 'Language_Go', \n",
    "        # 'Language_HTML', \n",
    "        # 'Language_Haskell',\n",
    "        # 'Language_Java', \n",
    "        # 'Language_JavaScript', \n",
    "        # 'Language_JetBrains MPS',\n",
    "        # 'Language_Jupyter Notebook', \n",
    "        # 'Language_Kotlin', \n",
    "        # 'Language_Lean',\n",
    "        # 'Language_Makefile', \n",
    "        # 'Language_OCaml', \n",
    "        # 'Language_Python',\n",
    "        # 'Language_Racket', \n",
    "        # 'Language_Roff', \n",
    "        # 'Language_Rust', \n",
    "        # 'Language_Shell',\n",
    "        # 'Language_Solidity', \n",
    "        # 'Language_Swift', \n",
    "        # 'Language_TypeScript',\n",
    "        # 'Language_Vim script', \n",
    "        # 'Language_Vue'     \n",
    "\n",
    "]\n",
    "\n",
    "\n",
    "nr_components = 2\n",
    "X = popularity_features[cols]\n",
    "scaler = StandardScaler()\n",
    "df_standardized = scaler.fit_transform(X)\n",
    "pca = PCA(n_components=2)\n",
    "df_pca = pca.fit_transform(df_standardized)\n",
    "kmeans = KMeans(n_clusters=3, random_state=42)\n",
    "popularity_features['Cluster'] = kmeans.fit_predict(df_standardized)\n",
    "components = pca.fit_transform(X)\n",
    "pca.explained_variance_ratio_"
   ]
  },
  {
   "cell_type": "code",
   "execution_count": null,
   "metadata": {},
   "outputs": [],
   "source": [
    "pd.DataFrame(pca.components_.T, columns=['PC1', 'PC2'], index=cols)\n"
   ]
  },
  {
   "cell_type": "code",
   "execution_count": null,
   "metadata": {},
   "outputs": [],
   "source": [
    "fig = px.scatter(\n",
    "    popularity_features,\n",
    "    x=df_pca[:, 0],\n",
    "    y=df_pca[:, 1],\n",
    "    color='Cluster', \n",
    "    hover_name='UniqueID',\n",
    "    labels={'color': 'Cluster'},\n",
    "    title='PCA Scatter Plot with Clusters',\n",
    "    template='plotly_dark', \n",
    "    color_continuous_scale='rainbow'\n",
    ")\n",
    "\n",
    "fig.show()"
   ]
  },
  {
   "cell_type": "code",
   "execution_count": null,
   "metadata": {},
   "outputs": [],
   "source": [
    "features_to_plot = cols\n",
    "\n",
    "for feature in features_to_plot:\n",
    "    fig = px.box(popularity_features, \n",
    "                 x='Cluster', \n",
    "                 y=feature, \n",
    "                 points='all', \n",
    "                 title=f'Distribution of {feature} by Cluster',\n",
    "                 template='plotly_dark',\n",
    "                 hover_name='UniqueID'\n",
    "                 )\n",
    "    # fig.show()\n"
   ]
  },
  {
   "cell_type": "markdown",
   "metadata": {},
   "source": [
    "## Q2: **What** tool type will your application need?"
   ]
  },
  {
   "cell_type": "markdown",
   "metadata": {},
   "source": [
    "### Tool Lifespan"
   ]
  },
  {
   "cell_type": "markdown",
   "metadata": {},
   "source": [
    "#### Tool Lifespans"
   ]
  },
  {
   "cell_type": "code",
   "execution_count": null,
   "metadata": {},
   "outputs": [],
   "source": [
    "zkp_tools = zkp_repos[zkp_repos['Type'] == 'Tool'].drop(columns=['MonthYear'])\n",
    "\n",
    "first_commit = tool_commits.groupby('UniqueID')['AuthorDate'].min().reset_index()\n",
    "first_commit.rename(columns={'AuthorDate': 'FirstCommitDate'}, inplace=True)\n",
    "first_commit = zkp_tools.merge(first_commit[['UniqueID', 'FirstCommitDate']], left_on='UniqueID', right_on='UniqueID', how='left').reset_index()\n",
    "zkp_tools = zkp_tools.merge(first_commit[['UniqueID', 'FirstCommitDate']], left_on='UniqueID', right_on='UniqueID', how='left').reset_index()\n",
    "\n",
    "last_commit = tool_commits.groupby('UniqueID')['AuthorDate'].max().reset_index()\n",
    "last_commit.rename(columns={'AuthorDate': 'LastCommitDate'}, inplace=True)\n",
    "last_commit = zkp_tools.merge(last_commit[['UniqueID', 'LastCommitDate']], left_on='UniqueID', right_on='UniqueID', how='left').reset_index()\n",
    "zkp_tools = zkp_tools.merge(last_commit[['UniqueID', 'LastCommitDate']], left_on='UniqueID', right_on='UniqueID', how='left').reset_index()\n",
    "\n",
    "zkp_tools['FirstCommitDate'] = pd.to_datetime(zkp_tools['FirstCommitDate'], utc=True)\n",
    "zkp_tools['LastCommitDate'] = pd.to_datetime(zkp_tools['LastCommitDate'], utc=True)\n",
    "zkp_tools['Age'] = (zkp_tools['LastCommitDate'] - zkp_tools['FirstCommitDate']).dt.days\n",
    "zkp_tools.sort_values(by='Age', ascending=False, inplace=True)\n",
    "\n",
    "fig = px.bar(zkp_tools,  x='UniqueID', y='Age',\n",
    "                   title='Tool Lifespan (in days)',\n",
    "                   template='plotly_dark', \n",
    "                )\n",
    "\n",
    "fig.show()"
   ]
  },
  {
   "cell_type": "markdown",
   "metadata": {},
   "source": [
    "From the graph above, it can be seen that `bellman` has the longest lifespan. "
   ]
  },
  {
   "cell_type": "markdown",
   "metadata": {},
   "source": [
    "#### Tool Start Date"
   ]
  },
  {
   "cell_type": "code",
   "execution_count": null,
   "metadata": {},
   "outputs": [],
   "source": [
    "zkp_tools.sort_values(by='FirstCommitDate', inplace=True)\n",
    "# zkp_tools[zkp_tools['Name'] == 'cairo'] # 2022-05-19\n",
    "fig = px.scatter(zkp_tools,  x='Name', y='FirstCommitDate',\n",
    "                   title='Tool Start Date',\n",
    "                   template='plotly_dark', \n",
    "                )\n",
    "\n",
    "fig.show()"
   ]
  },
  {
   "cell_type": "markdown",
   "metadata": {},
   "source": [
    "#### Tool End-Date"
   ]
  },
  {
   "cell_type": "code",
   "execution_count": null,
   "metadata": {},
   "outputs": [],
   "source": [
    "zkp_tools.sort_values(by='LastCommitDate', inplace=True)\n",
    "\n",
    "fig = px.scatter(zkp_tools,  x='Name', y='LastCommitDate',\n",
    "                   title='Last Tool Commit Date',\n",
    "                   template='plotly_dark', \n",
    "                )\n",
    "\n",
    "fig.show()"
   ]
  },
  {
   "cell_type": "markdown",
   "metadata": {},
   "source": [
    "### Tool Counts"
   ]
  },
  {
   "cell_type": "markdown",
   "metadata": {},
   "source": [
    "#### Tool Counts"
   ]
  },
  {
   "cell_type": "code",
   "execution_count": null,
   "metadata": {},
   "outputs": [],
   "source": [
    "zkp_tools =  zkp_tools.drop(columns=['Tool'])\n",
    "tool_counts = zkp_applications_exp['Tool'].value_counts().reset_index()\n",
    "tool_counts = tool_counts.merge(zkp_tools, left_on='Tool', right_on='Name', how='left')\n",
    "tool_counts.drop(columns=['Name'], inplace=True)\n",
    "tool_counts.rename(columns={'count':'Count'}, inplace=True)\n",
    "\n",
    "fig = px.bar(tool_counts, \n",
    "            x='Tool', \n",
    "            y='Count',\n",
    "            template='plotly_dark', \n",
    "            title='Distribution of Tool Usage Frequency',\n",
    "            text='Count',\n",
    "            color='ToolType',\n",
    "            category_orders={'Tool': tool_counts['Tool']}\n",
    "            )\n",
    "fig.show()\n",
    "\n"
   ]
  },
  {
   "cell_type": "markdown",
   "metadata": {},
   "source": [
    "### Tool Type"
   ]
  },
  {
   "cell_type": "markdown",
   "metadata": {},
   "source": [
    "#### Tool-Type Count"
   ]
  },
  {
   "cell_type": "code",
   "execution_count": null,
   "metadata": {},
   "outputs": [],
   "source": [
    "tool_type = zkp_applications_exp[['UniqueID', 'Tool']].merge(zkp_tools[['Name', 'ToolType']], left_on='Tool', right_on='Name', how='left')\n",
    "type_counts = tool_type['ToolType'].value_counts().reset_index()\n",
    "type_counts.rename(columns={'count':'Count'}, inplace=True)\n",
    "\n",
    "fig = px.bar(type_counts, \n",
    "            x='ToolType', \n",
    "            y='Count',\n",
    "            template='plotly_dark', \n",
    "            title='Distribution of ToolType Usage Frequency',\n",
    "            text='Count', \n",
    "            )\n",
    "fig.show()"
   ]
  },
  {
   "cell_type": "markdown",
   "metadata": {},
   "source": [
    "As seen above, low-level zkp development appears to be the most common tool type. Many applications use the DSL Cairo, which is built using these low-level tools. "
   ]
  },
  {
   "cell_type": "markdown",
   "metadata": {},
   "source": [
    "#### Tool Lifespan & Tool Count"
   ]
  },
  {
   "cell_type": "code",
   "execution_count": null,
   "metadata": {},
   "outputs": [],
   "source": [
    "tool_counts.sort_values(by='Count', inplace=True)\n",
    "\n",
    "fig = px.scatter(tool_counts, \n",
    "            x='Count', \n",
    "            y='Age',\n",
    "            template='plotly_dark', \n",
    "            title='Relationship Between Tool Count & Tool Age',\n",
    "            trendline='ols',\n",
    "            hover_name='Tool'\n",
    "            )\n",
    "fig.show()"
   ]
  },
  {
   "cell_type": "markdown",
   "metadata": {},
   "source": [
    "There is a weak correlation (R^2 = 0.042) between the Lifespan and tool usage. "
   ]
  },
  {
   "cell_type": "markdown",
   "metadata": {},
   "source": [
    "### Cluster Tools"
   ]
  },
  {
   "cell_type": "markdown",
   "metadata": {},
   "source": [
    "#### Cluster Tool Features"
   ]
  },
  {
   "cell_type": "code",
   "execution_count": null,
   "metadata": {},
   "outputs": [],
   "source": [
    "tools = zkp_tools[['Name','Description', 'URL', 'Tool Resources','Size', 'Age', 'Language', 'Stars', 'Forks', 'Watchers', 'Issues', 'Created', 'Updated', 'UniqueID' ]].merge(hireable_authors, left_on='Name', right_on='Name', how='left')\n",
    "tools = tools.merge(tools_by_app_authors, left_on='Tool', right_on='Tool', how='left')\n",
    "tools = tools.merge(tools_by_app_commits.drop(columns=['ToolType', 'Tool']), left_on='Name', right_on='Name', how='left')\n",
    "tools = tools.merge(tool_app_followers.drop(columns=['ToolType', 'Tool']), left_on='Name', right_on='Name', how='left')\n",
    "tools = tools.merge(tool_app_gists.drop(columns=['ToolType', 'Tool']), left_on='Name', right_on='Name', how='left')\n",
    "tools = tools.merge(tool_app_repos.drop(columns=['ToolType', 'Tool']), left_on='Name', right_on='Name', how='left')\n",
    "tools = tools.merge(tool_app_age.drop(columns=['ToolType', 'Tool']), left_on='Name', right_on='Name', how='left')\n",
    "tools = tools.merge(avg_forks.drop(columns=['ToolType', 'Tool']), left_on='Name', right_on='Name', how='left')\n",
    "tools = tools.merge(avg_stars.drop(columns=['ToolType', 'Tool']), left_on='Name', right_on='Name', how='left')\n",
    "tools = tools.merge(avg_app_age.drop(columns=['ToolType', 'Tool']), left_on='Name', right_on='Name', how='left')\n",
    "tools = tools.merge(active_apps.drop(columns=['ToolType', 'Tool']), left_on='Name', right_on='Name', how='left')\n"
   ]
  },
  {
   "cell_type": "code",
   "execution_count": null,
   "metadata": {},
   "outputs": [],
   "source": [
    "tool_features = pd.get_dummies(tools, columns=['ToolType'], prefix='ToolType')\n",
    "\n",
    "cols = [\n",
    "    # 'Size',\n",
    "    'Age',\n",
    "    'Stars', \n",
    "    'Forks', \n",
    "    'Watchers', \n",
    "    'Issues', \n",
    "    \n",
    "    # 'Created',\n",
    "    # 'Updated', \n",
    "    # 'UniqueID', \n",
    "    # 'Tool', \n",
    "    'MeanHireableCount', \n",
    "    'MeanAuthorCount',\n",
    "    'MeanCommitCount', \n",
    "    'MeanFollowers', \n",
    "    'MeanPublicGists',\n",
    "    'MeanPublicRepos', \n",
    "    'MeanAuthorAge', \n",
    "    'MeanForks', \n",
    "    'MeanStars',\n",
    "    # 'MeanStartDate', \n",
    "    'ActiveAppCount',\n",
    "\n",
    "    'ToolType_DSL',\n",
    "    'ToolType_Library', \n",
    "    'ToolType_Low-level ZK Development',\n",
    "    'ToolType_Proof System', \n",
    "    'ToolType_zkEVM', \n",
    "    'ToolType_zkVM' \n",
    "\n",
    "]\n",
    "\n",
    "\n",
    "nr_components = 2\n",
    "X = tool_features[cols]\n",
    "scaler = StandardScaler()\n",
    "df_standardized = scaler.fit_transform(X)\n",
    "pca = PCA(n_components=2)\n",
    "df_pca = pca.fit_transform(df_standardized)\n",
    "kmeans = KMeans(n_clusters=3, random_state=42)\n",
    "tool_features['Cluster'] = kmeans.fit_predict(df_standardized)\n",
    "components = pca.fit_transform(X)\n",
    "pca.explained_variance_ratio_"
   ]
  },
  {
   "cell_type": "code",
   "execution_count": null,
   "metadata": {},
   "outputs": [],
   "source": [
    "pd.DataFrame(pca.components_.T, columns=['PC1', 'PC2'], index=cols)"
   ]
  },
  {
   "cell_type": "code",
   "execution_count": null,
   "metadata": {},
   "outputs": [],
   "source": [
    "fig = px.scatter(\n",
    "    tool_features,\n",
    "    x=df_pca[:, 0],\n",
    "    y=df_pca[:, 1],\n",
    "    color='Cluster', \n",
    "    hover_name='UniqueID',\n",
    "    labels={'color': 'Cluster'},\n",
    "    title='PCA Scatter Plot with Clusters',\n",
    "    template='plotly_dark',\n",
    "    color_continuous_scale='Rainbow',\n",
    ")\n",
    "\n",
    "fig.show()\n"
   ]
  },
  {
   "cell_type": "code",
   "execution_count": null,
   "metadata": {},
   "outputs": [],
   "source": [
    "features_to_plot = cols\n",
    "\n",
    "for feature in features_to_plot:\n",
    "    fig = px.box(tool_features, \n",
    "                 x='Cluster', \n",
    "                 y=feature, \n",
    "                 points='all', \n",
    "                 title=f'Distribution of {feature} by Cluster',\n",
    "                 template='plotly_dark',\n",
    "                 hover_name='UniqueID'\n",
    "                 )\n",
    "    fig.show()"
   ]
  },
  {
   "cell_type": "code",
   "execution_count": null,
   "metadata": {},
   "outputs": [],
   "source": []
  }
 ],
 "metadata": {
  "kernelspec": {
   "display_name": "Python 3",
   "language": "python",
   "name": "python3"
  },
  "language_info": {
   "codemirror_mode": {
    "name": "ipython",
    "version": 3
   },
   "file_extension": ".py",
   "mimetype": "text/x-python",
   "name": "python",
   "nbconvert_exporter": "python",
   "pygments_lexer": "ipython3",
   "version": "3.11.4"
  },
  "orig_nbformat": 4
 },
 "nbformat": 4,
 "nbformat_minor": 2
}
