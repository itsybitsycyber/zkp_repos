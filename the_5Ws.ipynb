{
 "cells": [
  {
   "cell_type": "markdown",
   "metadata": {},
   "source": [
    "## The 5W's of Zero-Knowledge Proof Development"
   ]
  },
  {
   "cell_type": "markdown",
   "metadata": {},
   "source": [
    "### Q: Who - *Who are you?*"
   ]
  },
  {
   "cell_type": "markdown",
   "metadata": {},
   "source": [
    "#### Answer:\n",
    "\n",
    "Consider who you are in the context of what you are aiming to implement. If you are a singular individual exploring the space of ZKP development, the tool options may be different from a group of developers wanting to create a community project. \n",
    "\n",
    "From data analysis: \n",
    "\n",
    "- Single user wanting to create a short-lived project\n",
    "  - applications that have 1 author, short lifespan and may be inactive\n",
    "  - 333/912 applications have an AuthorCount = 1 \n",
    "  - 695/912 applications have a Age (lifespan)  < 365 days\n",
    "  - 451/912 applications are Inactive\n",
    "\n",
    "\n",
    "- Group of users wanting to create an community open-source project\n",
    "  - long lifespan, average popularity metrics (stars, forks, issues), average author count\n",
    "  - **examples**:\n",
    "    - `bellpepper/lurk-lab`\n",
    "    - `noah/findoranetwork`\n",
    "    - `zeth/clearmatics `\n",
    "- Organization wanting to create a industry ZKP Application\n",
    "  - long lifespan, high popularity metrics (stars, forks, issues), high authors\n",
    "  - generally \"outliers\"\n",
    "  - add support for existing tools \n",
    "  - small set of outliers with high AuthorCount, high Lifespan, high CommitCount\n",
    "  - **examples**:\n",
    "    - `btcprivate-legacy/btcprivate`\n",
    "    - `protocols/loopring`\n",
    "    - `mina/minaprotocol`\n",
    "    - `snarkos/aleohq`\n",
    "    - `zokrates/zokrates`\n",
    "\n",
    "\n",
    "\n",
    "**[NOTE]** \n",
    "- uptick in applications (from end of 2021)\n",
    "- hireable count\n",
    "- high popularity but moderate author could also be a company\n",
    "- find which tools occur commonly under each category\n",
    "- applications which are also tools, such as `cairo`, `zokrates`, `noir` and `starknet-rs`"
   ]
  },
  {
   "cell_type": "markdown",
   "metadata": {},
   "source": [
    "### Q: What - *What are the cryptographic requirements of the ZKPs you wish to implement?*"
   ]
  },
  {
   "cell_type": "markdown",
   "metadata": {},
   "source": [
    "#### Answer:  \n",
    "\n",
    "If your application requires the creation and verification of custom circuits (e.g., for zk-SNARKs), you'll want a tool that supports circuit-based proofs. Libraries like bellman and arkworks are often used for this purpose. For simpler, non-circuit-based proofs, Bulletproofs and other aggregated proof systems might be suitable. Libraries like dalek-cryptography provide support for Bulletproofs.\n",
    "\n",
    "**Proof constructions and proving systems:**\n",
    "- **SNARK** (2780/3026)\n",
    "  - Plonk (639)\n",
    "  - Groth16(77)\n",
    "  - Pinocchio (4)\n",
    "  - GM17 (75)\n",
    "  - Marlin (12)\n",
    "  - Gemini ()\n",
    "- **STARK** (152/3026)\n",
    "- **Bulletproofs** (94/3026)\n",
    "  - Halo (25)\n",
    "  - Merlin (69)\n",
    "\n",
    "Look at use of proof constructions and systems use over time\n",
    "\n",
    "\n",
    "\n"
   ]
  },
  {
   "cell_type": "markdown",
   "metadata": {},
   "source": [
    "### Q: When - *When do you want to implement ZKPs?*"
   ]
  },
  {
   "cell_type": "markdown",
   "metadata": {},
   "source": [
    "#### A:  research, planning or implementation\n",
    "\n",
    "You could be in different phases of the software development cycle and this could determine which tools are best to use. Certain tools no longer have an active community, but they are useful for researching. Some tools have an active community, but are in the development phase and not ready for use. \n",
    "\n",
    "**Metrics to consider:**\n",
    "- active & inactive tools\n",
    "- age of tools \n",
    "- tool community \n",
    "- development stage of tool\n"
   ]
  },
  {
   "cell_type": "markdown",
   "metadata": {},
   "source": [
    "### Q: Where - *Where in your project stack do you want to implement ZKPs?*"
   ]
  },
  {
   "cell_type": "markdown",
   "metadata": {},
   "source": [
    "#### Answer:\n",
    "\n",
    "Different tools can be integrated into a project at different levels. If you want to built a ZKP system from scratch, the `arkworks` suite may be a better fit than a library, but there are some cases where a library is better suited.  \n",
    "\n",
    "- **Low-Level ZK Development**  (2003/2986)\n",
    "  - `arkworks` libraries\n",
    "  - not used directly\n",
    "  - attributed to many applications using `cairo`, `zokrates`, `starknet-rs` and `noir`\n",
    "\n",
    "\n",
    "- **Library** (493/2986)\n",
    "  - `snarkjs` followed closely by `circomlib`\n",
    "    - `circomlib` is inactive\n",
    "  - attributed to many applications using `circom`\n",
    "  - `libsnark`\n",
    "  - `openzkp` \n",
    "    - high development analytics, still in development\n",
    "\n",
    "\n",
    "- **DSL** (361/2986)\n",
    "  - `circom`\n",
    "  - other DSLs (`cairo`, `zokrates`, `noir`) which are built using `arkworks`\n",
    "  - `leo` is less used than `cairo`, but still in development (high issue count)\n",
    "\n",
    "\n",
    "- **Proof System** (112/2986)\n",
    "  - `merlin`\n",
    "  - `halo2`\n",
    "  - `plonky2`\n",
    "  - `bulletproofs`\n",
    "  - `plonky`\n",
    "    - inactive\n",
    "  - `bulletproofs (dshiel)`\n",
    "    - inactive \n",
    "\n",
    "\n",
    "- **zkEVM** (11/2986)\n",
    "  - `miden-vm`\n",
    "  - `zksync`\n",
    "    - `zksync-era`\n",
    "\n",
    "\n",
    "- **zkVM** (6/2986)\n",
    "  - `risc0`\n",
    "\n",
    "\n",
    "**[NOTE]** Look at metrics such as active, #author, #issues, #commits"
   ]
  },
  {
   "cell_type": "markdown",
   "metadata": {},
   "source": [
    "### Q: Why - *Why are you using ZKPs?*"
   ]
  },
  {
   "cell_type": "markdown",
   "metadata": {},
   "source": [
    "#### Answer: \n",
    "\n",
    "Consider the purpose of your ZKP application. If wanting to built an enterprise solution, the use of certain tools impose some limitations. \n",
    "\n",
    "- industry/research \n",
    "- scaling, privacy or non-blockchain\n",
    "\n",
    "** manual labelling required\n",
    "\n",
    "Look at tools for limitations of use: \n",
    "- e.g. in `bulletproofs` README the disclaimer states, \"*This is experimental code meant for research-grade projects only. Please do not use this code in production until it has matured significantly.*\"\n",
    "- Licensing: Ensure that the license of the chosen library aligns with your project's requirements. Some libraries may have open-source licenses that impose specific conditions on how the code can be used.\n",
    "- Community Support: Libraries with active communities tend to receive regular updates, bug fixes, and improvements. Check the community support and maintenance status of the library.\n",
    "- External Resources: Libraries with external resources such as documentation, tutorials and active social media profiles could be an indication of a tool with an active development environment"
   ]
  },
  {
   "cell_type": "markdown",
   "metadata": {},
   "source": [
    "### Additional things to consider: \n",
    "\n",
    "**Programming Language:** Choose a library that is compatible with the programming language of your application. For example, bellman is written in Rust, while dalek-cryptography is in Rust and python.\n",
    "\n",
    "\n",
    "**Ease of Use:** Consider the ease of integration and the learning curve associated with each library. Some libraries provide high-level abstractions and user-friendly interfaces, while others may offer more flexibility at the cost of complexity.\n",
    "\n",
    "\n",
    "### Additional Resources\n",
    "- https://twitter.com/aztecnetwork/status/1717189113823236530\n",
    "\n",
    "\n"
   ]
  }
 ],
 "metadata": {
  "language_info": {
   "name": "python"
  }
 },
 "nbformat": 4,
 "nbformat_minor": 2
}
