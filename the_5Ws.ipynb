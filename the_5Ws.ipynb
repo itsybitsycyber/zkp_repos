{
 "cells": [
  {
   "cell_type": "markdown",
   "metadata": {},
   "source": [
    "### Q: Who - *Who are you?*"
   ]
  },
  {
   "cell_type": "markdown",
   "metadata": {},
   "source": [
    "#### Answer: individual with a short-lived project, group with an open-source project, organization with a zkp application\n",
    "\n",
    "- Single user wanting to create a short-lived project\n",
    "  - applications that have 1 author, short lifespan and may be inactive\n",
    "  - 333/912 applications have an AuthorCount = 1 \n",
    "  - 695/912 applications have a Age (lifespan)  < 365 days\n",
    "  - 451/912 applications are Inactive\n",
    "\n",
    "\n",
    "- Group of users wanting to create an open-source project\n",
    "  - long lifespan, average popularity metrics (stars, forks, issues), average author count\n",
    "  - **examples**:\n",
    "    - `jsnark/akosba`\n",
    "    - `libsnark/lattice-based-zksnarks ` check author count\n",
    "    - `zokrates/scrypt-inc` check author count\n",
    "    - `zk-swap-libsnark/eyblockchain`\n",
    "    - `ark-bulletproofs/findoranetwork`\n",
    "    - `noah/findoranetwork`\n",
    "    - `abpr22/baghery`\n",
    "    - `libsnark_gadgetlib3/matter-labs-archive`\n",
    "  \n",
    "- Organization wanting to create a industry ZKP Application\n",
    "  - long lifespan, high popularity metrics (stars, forks, issues), high authors\n",
    "  - generally \"outliers\"\n",
    "  - add support for existing tools \n",
    "  - small set of outliers with high AuthorCount, high Lifespan, high CommitCount\n",
    "  - **examples**:\n",
    "    - `btcprivate-legacy/btcprivate`\n",
    "    - `protocols/loopring`\n",
    "    - `mina/minaprotocol`\n",
    "    - `jsnark/akosba`\n",
    "    - `xjsnark/akosba`\n",
    "    - `pequin/pepper-project`\n",
    "    - `zeth/clearmatics`\n",
    "    - `semaphore/semaphore-protocol`\n",
    "    - `celo-bls-snark-rs/celo-org`\n",
    "    - `snarkos/aleohq`\n",
    "    - `starknet-ecosystem.com/419labs`\n",
    "    - `baseline/eea-oasis`\n",
    "\n",
    "\n",
    "**Additional notes:** \n",
    "- uptick in applications (from end of 2021)\n",
    "- hireable count\n",
    "- high popularity but moderate author could also be a company\n",
    "- find which tools occur commonly under each category\n",
    "- applications which are also tools, such as `cairo` and `zokrates`"
   ]
  },
  {
   "cell_type": "markdown",
   "metadata": {},
   "source": [
    "### Q: What - *What are the cryptographic requirements of the ZKPs?*"
   ]
  },
  {
   "cell_type": "markdown",
   "metadata": {},
   "source": [
    "#### A:  SNARKs/STARKs, proof systems"
   ]
  },
  {
   "cell_type": "markdown",
   "metadata": {},
   "source": [
    "### Q: When - *When do you want to implement ZKPs?*"
   ]
  },
  {
   "cell_type": "markdown",
   "metadata": {},
   "source": [
    "#### A:  research, planning or implementation\n",
    "\n",
    "Active repos vs. non-active repos"
   ]
  },
  {
   "cell_type": "markdown",
   "metadata": {},
   "source": [
    "### Q: Where - *Where in your project stack do you want to implement ZKPs?*"
   ]
  },
  {
   "cell_type": "markdown",
   "metadata": {},
   "source": [
    "#### Answer:\n",
    "\n",
    "- **Low-Level ZK Development**  (2003/2986)\n",
    "  - `arkworks` libraries\n",
    "  - not used directly\n",
    "  - attributed to many applications using `cairo`, `zokrates`, `starknet-rs` and `noir`\n",
    "\n",
    "\n",
    "- **Library** (493/2986)\n",
    "  - `snarkjs` followed closely by `circomlib`\n",
    "    - `circomlib` is inactive\n",
    "  - attributed to many applications using `circom`\n",
    "  - `libsnark`\n",
    "  - `openzkp` \n",
    "    - high development analytics, still in development\n",
    "\n",
    "\n",
    "- **DSL** (361/2986)\n",
    "  - `circom`\n",
    "  - other DSLs (`cairo`, `zokrates`, `noir`) which are built using `arkworks`\n",
    "  - `leo` is less used than `cairo`, but still in development (high issue count)\n",
    "\n",
    "\n",
    "- **Proof System** (112/2986)\n",
    "  - `merlin`\n",
    "  - `halo2`\n",
    "  - `plonky2`\n",
    "  - `bulletproofs`\n",
    "  - `plonky`\n",
    "    - inactive\n",
    "  - `bulletproofs (dshiel)`\n",
    "    - inactive \n",
    "\n",
    "\n",
    "- **zkEVM** (11/2986)\n",
    "  - `miden-vm`\n",
    "  - `zksync`\n",
    "    - `zksync-era`\n",
    "\n",
    "\n",
    "- **zkVM** (6/2986)\n",
    "  - `risc0`\n"
   ]
  },
  {
   "cell_type": "markdown",
   "metadata": {},
   "source": [
    "### Q: Why - *Why are you using ZKPs?*"
   ]
  },
  {
   "cell_type": "markdown",
   "metadata": {},
   "source": [
    "#### Answer: \n",
    "\n",
    "industry/research, scaling, security or non-blockchain\n",
    "\n",
    "** manual labelling required"
   ]
  }
 ],
 "metadata": {
  "language_info": {
   "name": "python"
  }
 },
 "nbformat": 4,
 "nbformat_minor": 2
}
